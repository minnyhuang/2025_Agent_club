{
  "nbformat": 4,
  "nbformat_minor": 0,
  "metadata": {
    "colab": {
      "provenance": [],
      "gpuType": "T4"
    },
    "kernelspec": {
      "name": "python3",
      "display_name": "Python 3"
    },
    "language_info": {
      "name": "python"
    },
    "accelerator": "GPU"
  },
  "cells": [
    {
      "cell_type": "markdown",
      "source": [
        "# 0.Assignments\n",
        "\n",
        "👾 這個陽春的聊天機器人需要被優化！<br>\n",
        "若是一個對話串不間斷地持續進行，送進去的訊息量會很多，tokens數量也會跟著增加，會需要花比較多費用(💸💸💸)，也可能使模型的回應雜訊比較多而回應受到干擾，所以我們可以優化短期記憶。<br>\n",
        "另外，我們希望優化使用者體驗，我們可以根據聊天的內容整理出使用者的屬性，並在每一次跟使用者聊天時，都能根據這個使用者的狀況給予客製化的回應，因此我們要加入長期記憶的功能！\n",
        "\n",
        "<br>\n",
        "\n",
        "### 1. 短期記憶優化\n",
        "\n",
        "(1) 🔰 [基本版] 在短期記憶中，將chatbot node送入llm的訊息中加入trim的優化機制 (依據適當的tokens數量決定)\n",
        "\n",
        "\n",
        "<br>\n",
        "\n",
        "### 2. 加入長期記憶\n",
        "\n",
        "加入長期記憶，讓聊天機器人能夠記住使用者的資訊（名字、偏好語言、興趣），在下一次對話也能針對同個使用者的資訊，給予個人化的回答。\n",
        "\n",
        "(1) 🔰 [基本版]\n",
        "- chatbot node: 在chatbot node中，將該使用者的資訊取出，讓入prompt中讓llm依據使用者的資訊給予個人化的回答\n",
        "\n",
        "- write_memory node: 在每一次生成回答後，將使用者的資訊整理成一段對使用者的描述(使用llm，給予system prompt做指引，自行設計如何整理、需要整理哪些資訊)，將整理完的資訊整理到store (可跨threads存取的地方)。\n",
        "\n",
        "- config: config從原本的短期記憶只有thread_id, 也要加入user_id\n",
        "\n",
        "<img src=\"https://drive.google.com/uc?export=view&id=1H4Y0WplOi6R4Eo06Ac2JA_9TbZa2YaRD\" width=\"100\"/>\n",
        "\n",
        "\n",
        "(2) 👨‍🎓 [進階版]\n",
        "- chatbot node: 可以決定使用者的問題是否需要從長期記憶中取得資訊，以及需要取得什麼資訊\n",
        "- write_memory node: 可以整理成特定格式 (例如：使用with_structured_output，相關概念可以延伸到R3 tool calling內容)。例如：\n",
        "```\n",
        "user_profile = {\n",
        "  \"first_name\": \"XXXX\",\n",
        "  \"last_name\": \"OOO\",\n",
        "  \"preferred_lang\": [\"en\", \"zh-tw\"]\n",
        "}\n",
        "```\n",
        "- 也可以自行將graph結構調整自己喜歡的(增刪不同node, conditional router, ...)\n",
        "<br>\n",
        "備註：基本版是需要大家完成的，進階版可以自行決定是否挑戰，Enjoy the ride! 😎"
      ],
      "metadata": {
        "id": "YzuZTjoZkt7a"
      }
    },
    {
      "cell_type": "markdown",
      "source": [
        "# 1.短期記憶"
      ],
      "metadata": {
        "id": "Zprt5eyzemnq"
      }
    },
    {
      "cell_type": "markdown",
      "source": [
        "## (1) 基本版\n",
        "🔰 [基本版] 在短期記憶中，將chatbot node送入llm的訊息中加入trim的優化機制 (依據適當的tokens數量決定)\n",
        "\n",
        "note: 可以邊做邊看一下trim設定的效果以及內部運作的機制"
      ],
      "metadata": {
        "id": "PZHRs_NSsfnF"
      }
    },
    {
      "cell_type": "code",
      "source": [
        "%%capture --no-stderr\n",
        "!pip install -U langgraph langchain_openai==0.3.15 langchain transformers bitsandbytes langchain-huggingface"
      ],
      "metadata": {
        "id": "m8Ahe-dgr3Qa"
      },
      "execution_count": 1,
      "outputs": []
    },
    {
      "cell_type": "code",
      "source": [
        "from transformers import AutoTokenizer, AutoModelForCausalLM, pipeline, BitsAndBytesConfig\n",
        "from langchain_huggingface import HuggingFacePipeline\n",
        "\n",
        "# 會需要一點時間\n",
        "# 使用 4-bit 量化模型\n",
        "model_id = \"MediaTek-Research/Breeze-7B-Instruct-v1_0\"\n",
        "\n",
        "quant_config = BitsAndBytesConfig(\n",
        "    load_in_4bit=True,\n",
        "    bnb_4bit_quant_type=\"nf4\",\n",
        "    bnb_4bit_use_double_quant=True,\n",
        "    llm_int8_threshold=6.0,\n",
        ")\n",
        "\n",
        "# 載入 tokenizer 與 4-bit 模型\n",
        "tokenizer = AutoTokenizer.from_pretrained(model_id, use_fast=True)\n",
        "model = AutoModelForCausalLM.from_pretrained(\n",
        "    model_id,\n",
        "    device_map=\"auto\",\n",
        "    quantization_config=quant_config,\n",
        "    trust_remote_code=True\n",
        ")"
      ],
      "metadata": {
        "id": "Ep_VhJl4yKmN",
        "outputId": "5eef7242-32c6-40d3-e5ff-4ffb0154ab12",
        "colab": {
          "base_uri": "https://localhost:8080/",
          "height": 592,
          "referenced_widgets": [
            "0d23d240f1fd48559f6ddc63ea75ac05",
            "41727e6f7d2941a9aa7c2038b89bd8cb",
            "dba38003c77c43c2a721f1855fd1c3c8",
            "7ff9697d5b0c485bb62756a23d9a2350",
            "a433c7f78b8c4eeeb7fbf875a4c49f5d",
            "660877f72ea848988c13d5d9ec8a50bd",
            "2eb6305083b44a959346860cae7cf4c7",
            "5c6793150c0844708b4070411b025149",
            "d32b74e8d07049b380b9e3583347de90",
            "e7073c8e774542b0b9cfbb70058147b5",
            "aa5e207dd6bb4a9fa8067164899b7b45",
            "d0fbf988602e45cfbedeb9c98e873210",
            "2f003acb8ae14529a9c095e792539ba9",
            "65b8caf0b08c4e3196d7c83add3a70c8",
            "d595e1f60d7d4e37b7e00f9b090986f8",
            "492d989fcd9f4ef6b23e6edb325323f8",
            "ec0d7ccdf82347a8813a9cc6380ca3b6",
            "2089c800864f438ebea3ec27d336c65c",
            "0376124e80eb4de4ba50ac28dc6ccdcc",
            "48d0169d508a4f52928366abe17a26a6",
            "06f21bd288ea4689a6bde4bb7c7ebf79",
            "5d1a121084744d04b70935b63e88861c",
            "f1717d88ece64fe8800973485824caec",
            "9fed331b852640679178bc06ec58318f",
            "096bc47682bd4ef58d131233d1d40bd6",
            "65321b004e8142158c3e57a02fae06f9",
            "10749f54b3ae43dda1e70d0eb31883a3",
            "e4f6428f60ac464a8c6b78e498de2085",
            "9471fccc1eed4ef79e097a0452c44bac",
            "127261b1222f4553a51141226acf214e",
            "fa3d33c3d24c49d6819d80e58b6ed423",
            "06de6ffeeae945b29330f7125262320a",
            "f320c42023754b5d82b38ea201940f47",
            "d6b61400a7d34b8898ce9bd3fbc9226a",
            "41e53ce42cda416a82918789cf4ac2e0",
            "da5274a7a9844083a2481913dccc7edc",
            "946f403b96bf446abdf30459689d9222",
            "749dcc0cb1944f6ab506abbebf3e9b8c",
            "8b2455a301ab478d9d0c8c17ca9961cc",
            "9c7c7d9597b247cb8cc2a8b49138e046",
            "1c3134d8c8884be9834da55e776b56f9",
            "4db5de7b7ddd4f2ea0f15ea6b9ef600f",
            "61cbe03683d0473a8039f2e1565d220e",
            "858d728c23004f59aace73f074e6f36b",
            "d16ca518f772482db9ae83357ee17c23",
            "d6ef9c0892bd43b39706852130214ba6",
            "5b3a6e178c11464e9cf66eaf0717492e",
            "1650eab1c43d45b68651399c3dbeacc6",
            "90f38b3dbce54c3c982e06023f4f6a3f",
            "ce653c9dc1864b85874ad376254335b1",
            "4955209440f74b4eaa4fffab8c9dc549",
            "5882283bf68f4760bc4f07ba1733f6a7",
            "645dfcfa7213417e8a4fda60ef8f286c",
            "b9d27584ac704624b7d409e30543d28c",
            "65d7df268c1b4124b927e676cd6408d6",
            "9a8fe42dc80e441a85f526b9cea8aa01",
            "3ecb204aa6d342d7b56795730a752dec",
            "679b2ca11a8e411b94781f2c248e8f29",
            "ab9bff49b96843b8900aa8d8619f966b",
            "7dfad5a16a084cc9a77e89a984213b82",
            "da005a1502434f0199302d964a9bf6ac",
            "54b7af84c008469c8058750c16a94f0c",
            "db0fcd6075504247991271fe66b01c9d",
            "89b10fe3fe1d4e15951e01e5b881e325",
            "52bf61bd8c564b1f9d19cc57cfc3de7e",
            "23bfcf22dfbe48a4b167eacae517c382",
            "30383f9f98504bd4b556372020ae40a8",
            "d37c68dc96fa4d93835edfdcc1644460",
            "e8e0427be75447278a0cfe23e1710ff6",
            "f34256b6bd824d9eaf8834f4fccec181",
            "65e50700bc74450f8b396c7e7c48cc6c",
            "c94854180a494fd586b76e145e5dbbb3",
            "3b4cbce87e924b549395ff4166c7a5d1",
            "673d05d848f14006ad2ea4b75bccd3d1",
            "08a9ac90cf3f4e72a2106d539d4b344b",
            "fae897ddf5da405f86e45f129ed45b11",
            "5a0b09ba0308481c92b42a0cf559f61f",
            "846092adeee949a382e4245a514c6036",
            "f1fc968fe5bc4eefa68981f16686454e",
            "90d0569075d547ad9f511573c7b7c2d9",
            "17d5f23801f54b43ae8bb50dca4f5af5",
            "adc78c92f70a4990988fa47d3d0e1a74",
            "e10f796a12d446f79fcb86e5a7fbaee5",
            "fc1e70b6f9bf4239943c184fc3934816",
            "972c531c746049d189260fd5091b4b26",
            "cb37e2dd79aa4e57bf399235353f2643",
            "6ce01b05e7fa40d0a0e8ce677c021c42",
            "91186433b859429f90bf27c389c3f45f",
            "8b0b7f33435b4cb9813a51aafb734ea8",
            "14311b404f2e4798a4c7b665830a84ad",
            "b34b1f2d7e2e4e38a4697bed85f76ca7",
            "94d684453b694675acb3e7ddc4b9ab46",
            "02b157f660a7431c8d300b9ec426641b",
            "7126a55c633d4c35997544090914ae7a",
            "afff0f8511ba4472819233cde4923ac9",
            "2adbd1e14d97405d95d37f97dc3570c8",
            "0b54175349f243258e3312c8c9edf088",
            "4e410f5b89624b5488e2603fbcbbec05",
            "44429c73868f4bbea8d73e2f887d061f",
            "3f0167ddc59b44088785ac6eb32db1af",
            "79cad0e73b024b21a4cf88463e1bbc37",
            "ec1c919139fe45fcbb98c0f38fd020e1",
            "51c51dae0b8148688f19ad6f55f52401",
            "c35d94e287614490abea4362906268ae",
            "9d3eeff192a148ba984a2c45d13dd40f",
            "636d885b24f1472fb5a280dfb863eba2",
            "8413c300391c4328aa30d08282668de2",
            "b1598cec54b845a2909c070b9644f61a",
            "0c97c5e0c7d844a5b67b2edc69105fc6",
            "c2e9a2289be24e199e151e5bb6897784",
            "250dd1f2154e4831a239f258ccbd0dfd",
            "4ee1267ac8d04f0f9bb23f30195d1a06",
            "708ead927d8446a7bc1a64327b55fa97",
            "f7b2a3a5d62043ca8cedea9f76f44f02",
            "32559d34716c4f80966d46c42f373039",
            "fbc00d03936a4fa59d8475e4a652fc49",
            "34a13d1e054347b2a8539acea3fb30b6",
            "d06e28d8bc7f404ca7efd14aa15a6bae",
            "57aaf5efdeec4a608028fc8f0caa557e",
            "69f09da3023a4cc9aa3b276aa8b18954",
            "a71614c931534c61ab1a88822723e71f",
            "dc1f36b57fa24440b4c0652de53e7561",
            "0b2e33fe0bd9414b829c03573f1e66f0",
            "40529591869642cdb77316241f6dcdd1",
            "107785605fcb4fd5a16ab5b60b8719f0",
            "410bb678f9384a6a8e463ed4a6dccd72",
            "98d097cebccd4c4682004aef10c06106",
            "23e5344211d44354b55a2baf21e3ee15",
            "e9c0cd8f29e942c4a60f737759411715",
            "967c52e2131a426fb7940af9620dc6e2",
            "727623a5ee8d4ec18e7aa7f3728c41d8",
            "08ea2d0d75994698963093f739ba9791",
            "30d224d257a54aecafd72f25d128dcca",
            "a85dffe997664efe9f7a53527d147a2a",
            "13bde518fd4743febb290fa9cf81d327",
            "6c810e3335974b35b0c4ad078c847290",
            "bebdb004835d4750a9e6003e99a69f26",
            "c44191887dae4691b1113dc84dd6105c",
            "231998c4160e4894a3d92a79809b7ed7",
            "e3597652a51d4e459bc87b6609c8cdab",
            "b3be8b3338eb407a9a6b574bdf75a922",
            "313586da7e314e1ebbd254e29d72adf4",
            "1f8568ee34f54335b35a660595f0fd93",
            "65cf4a5441244af2b378543e367409ee",
            "b07a5dc0eee646438c09be5b11b07005",
            "c1f7e0497931466e959f6f66883df474",
            "8c6c37db1fb94f4aba7191f8a2de9bef",
            "45849b27473144b4b7c02c42989c82a6",
            "6ecb6c9600a349d1a1b1f6612773d6ae",
            "2bc919912e9646feb33745a62d37e202",
            "578931bf27554853878a6157218a027f",
            "b4f14cc1eeca40aa8c8dbce96bac835b",
            "2308dd6a28f1489fa59d551b496600ec",
            "9c527b0dbdc5496db5f348ad9affcff0"
          ]
        }
      },
      "execution_count": 36,
      "outputs": [
        {
          "output_type": "stream",
          "name": "stderr",
          "text": [
            "/usr/local/lib/python3.11/dist-packages/huggingface_hub/utils/_auth.py:94: UserWarning: \n",
            "The secret `HF_TOKEN` does not exist in your Colab secrets.\n",
            "To authenticate with the Hugging Face Hub, create a token in your settings tab (https://huggingface.co/settings/tokens), set it as secret in your Google Colab and restart your session.\n",
            "You will be able to reuse this secret in all of your notebooks.\n",
            "Please note that authentication is recommended but still optional to access public models or datasets.\n",
            "  warnings.warn(\n"
          ]
        },
        {
          "output_type": "display_data",
          "data": {
            "text/plain": [
              "tokenizer_config.json:   0%|          | 0.00/2.33k [00:00<?, ?B/s]"
            ],
            "application/vnd.jupyter.widget-view+json": {
              "version_major": 2,
              "version_minor": 0,
              "model_id": "0d23d240f1fd48559f6ddc63ea75ac05"
            }
          },
          "metadata": {}
        },
        {
          "output_type": "display_data",
          "data": {
            "text/plain": [
              "tokenizer.model:   0%|          | 0.00/911k [00:00<?, ?B/s]"
            ],
            "application/vnd.jupyter.widget-view+json": {
              "version_major": 2,
              "version_minor": 0,
              "model_id": "d0fbf988602e45cfbedeb9c98e873210"
            }
          },
          "metadata": {}
        },
        {
          "output_type": "display_data",
          "data": {
            "text/plain": [
              "tokenizer.json:   0%|          | 0.00/2.79M [00:00<?, ?B/s]"
            ],
            "application/vnd.jupyter.widget-view+json": {
              "version_major": 2,
              "version_minor": 0,
              "model_id": "f1717d88ece64fe8800973485824caec"
            }
          },
          "metadata": {}
        },
        {
          "output_type": "display_data",
          "data": {
            "text/plain": [
              "added_tokens.json:   0%|          | 0.00/39.0 [00:00<?, ?B/s]"
            ],
            "application/vnd.jupyter.widget-view+json": {
              "version_major": 2,
              "version_minor": 0,
              "model_id": "d6b61400a7d34b8898ce9bd3fbc9226a"
            }
          },
          "metadata": {}
        },
        {
          "output_type": "display_data",
          "data": {
            "text/plain": [
              "special_tokens_map.json:   0%|          | 0.00/551 [00:00<?, ?B/s]"
            ],
            "application/vnd.jupyter.widget-view+json": {
              "version_major": 2,
              "version_minor": 0,
              "model_id": "d16ca518f772482db9ae83357ee17c23"
            }
          },
          "metadata": {}
        },
        {
          "output_type": "display_data",
          "data": {
            "text/plain": [
              "config.json:   0%|          | 0.00/650 [00:00<?, ?B/s]"
            ],
            "application/vnd.jupyter.widget-view+json": {
              "version_major": 2,
              "version_minor": 0,
              "model_id": "9a8fe42dc80e441a85f526b9cea8aa01"
            }
          },
          "metadata": {}
        },
        {
          "output_type": "display_data",
          "data": {
            "text/plain": [
              "model.safetensors.index.json:   0%|          | 0.00/23.9k [00:00<?, ?B/s]"
            ],
            "application/vnd.jupyter.widget-view+json": {
              "version_major": 2,
              "version_minor": 0,
              "model_id": "30383f9f98504bd4b556372020ae40a8"
            }
          },
          "metadata": {}
        },
        {
          "output_type": "display_data",
          "data": {
            "text/plain": [
              "Fetching 4 files:   0%|          | 0/4 [00:00<?, ?it/s]"
            ],
            "application/vnd.jupyter.widget-view+json": {
              "version_major": 2,
              "version_minor": 0,
              "model_id": "846092adeee949a382e4245a514c6036"
            }
          },
          "metadata": {}
        },
        {
          "output_type": "display_data",
          "data": {
            "text/plain": [
              "model-00003-of-00004.safetensors:   0%|          | 0.00/4.60G [00:00<?, ?B/s]"
            ],
            "application/vnd.jupyter.widget-view+json": {
              "version_major": 2,
              "version_minor": 0,
              "model_id": "8b0b7f33435b4cb9813a51aafb734ea8"
            }
          },
          "metadata": {}
        },
        {
          "output_type": "display_data",
          "data": {
            "text/plain": [
              "model-00001-of-00004.safetensors:   0%|          | 0.00/4.95G [00:00<?, ?B/s]"
            ],
            "application/vnd.jupyter.widget-view+json": {
              "version_major": 2,
              "version_minor": 0,
              "model_id": "3f0167ddc59b44088785ac6eb32db1af"
            }
          },
          "metadata": {}
        },
        {
          "output_type": "display_data",
          "data": {
            "text/plain": [
              "model-00004-of-00004.safetensors:   0%|          | 0.00/508M [00:00<?, ?B/s]"
            ],
            "application/vnd.jupyter.widget-view+json": {
              "version_major": 2,
              "version_minor": 0,
              "model_id": "250dd1f2154e4831a239f258ccbd0dfd"
            }
          },
          "metadata": {}
        },
        {
          "output_type": "display_data",
          "data": {
            "text/plain": [
              "model-00002-of-00004.safetensors:   0%|          | 0.00/4.92G [00:00<?, ?B/s]"
            ],
            "application/vnd.jupyter.widget-view+json": {
              "version_major": 2,
              "version_minor": 0,
              "model_id": "dc1f36b57fa24440b4c0652de53e7561"
            }
          },
          "metadata": {}
        },
        {
          "output_type": "display_data",
          "data": {
            "text/plain": [
              "Loading checkpoint shards:   0%|          | 0/4 [00:00<?, ?it/s]"
            ],
            "application/vnd.jupyter.widget-view+json": {
              "version_major": 2,
              "version_minor": 0,
              "model_id": "30d224d257a54aecafd72f25d128dcca"
            }
          },
          "metadata": {}
        },
        {
          "output_type": "display_data",
          "data": {
            "text/plain": [
              "generation_config.json:   0%|          | 0.00/111 [00:00<?, ?B/s]"
            ],
            "application/vnd.jupyter.widget-view+json": {
              "version_major": 2,
              "version_minor": 0,
              "model_id": "65cf4a5441244af2b378543e367409ee"
            }
          },
          "metadata": {}
        }
      ]
    },
    {
      "cell_type": "code",
      "source": [
        "generator = pipeline(\n",
        "    task=\"text-generation\",\n",
        "    model=model,\n",
        "    tokenizer=tokenizer,\n",
        "    max_new_tokens=512,\n",
        "    do_sample=True,\n",
        "    temperature=0.4,\n",
        "    return_full_text=False # 僅返回生成的回應內容\n",
        ")\n",
        "\n",
        "# 包裝成 LangChain 的 llm 物件\n",
        "llm = HuggingFacePipeline(pipeline=generator)"
      ],
      "metadata": {
        "colab": {
          "base_uri": "https://localhost:8080/"
        },
        "id": "beAp0_a0yNsP",
        "outputId": "fdd3b1c3-7588-49b5-e0c0-7a0b47f5c8ab"
      },
      "execution_count": 37,
      "outputs": [
        {
          "output_type": "stream",
          "name": "stderr",
          "text": [
            "Device set to use cuda:0\n"
          ]
        }
      ]
    },
    {
      "cell_type": "code",
      "source": [
        "!pip install langchain-community langchain-core"
      ],
      "metadata": {
        "id": "vzKJPFJxr-xY",
        "outputId": "13672a4b-b7bd-4716-b143-c7b2543de935",
        "colab": {
          "base_uri": "https://localhost:8080/"
        }
      },
      "execution_count": 2,
      "outputs": [
        {
          "output_type": "stream",
          "name": "stdout",
          "text": [
            "Collecting langchain-community\n",
            "  Downloading langchain_community-0.3.24-py3-none-any.whl.metadata (2.5 kB)\n",
            "Requirement already satisfied: langchain-core in /usr/local/lib/python3.11/dist-packages (0.3.60)\n",
            "Requirement already satisfied: langchain<1.0.0,>=0.3.25 in /usr/local/lib/python3.11/dist-packages (from langchain-community) (0.3.25)\n",
            "Requirement already satisfied: SQLAlchemy<3,>=1.4 in /usr/local/lib/python3.11/dist-packages (from langchain-community) (2.0.41)\n",
            "Requirement already satisfied: requests<3,>=2 in /usr/local/lib/python3.11/dist-packages (from langchain-community) (2.32.3)\n",
            "Requirement already satisfied: PyYAML>=5.3 in /usr/local/lib/python3.11/dist-packages (from langchain-community) (6.0.2)\n",
            "Requirement already satisfied: aiohttp<4.0.0,>=3.8.3 in /usr/local/lib/python3.11/dist-packages (from langchain-community) (3.11.15)\n",
            "Requirement already satisfied: tenacity!=8.4.0,<10,>=8.1.0 in /usr/local/lib/python3.11/dist-packages (from langchain-community) (9.1.2)\n",
            "Collecting dataclasses-json<0.7,>=0.5.7 (from langchain-community)\n",
            "  Downloading dataclasses_json-0.6.7-py3-none-any.whl.metadata (25 kB)\n",
            "Collecting pydantic-settings<3.0.0,>=2.4.0 (from langchain-community)\n",
            "  Downloading pydantic_settings-2.9.1-py3-none-any.whl.metadata (3.8 kB)\n",
            "Requirement already satisfied: langsmith<0.4,>=0.1.125 in /usr/local/lib/python3.11/dist-packages (from langchain-community) (0.3.42)\n",
            "Collecting httpx-sse<1.0.0,>=0.4.0 (from langchain-community)\n",
            "  Downloading httpx_sse-0.4.0-py3-none-any.whl.metadata (9.0 kB)\n",
            "Requirement already satisfied: numpy>=1.26.2 in /usr/local/lib/python3.11/dist-packages (from langchain-community) (2.0.2)\n",
            "Requirement already satisfied: jsonpatch<2.0,>=1.33 in /usr/local/lib/python3.11/dist-packages (from langchain-core) (1.33)\n",
            "Requirement already satisfied: packaging<25,>=23.2 in /usr/local/lib/python3.11/dist-packages (from langchain-core) (24.2)\n",
            "Requirement already satisfied: typing-extensions>=4.7 in /usr/local/lib/python3.11/dist-packages (from langchain-core) (4.13.2)\n",
            "Requirement already satisfied: pydantic>=2.7.4 in /usr/local/lib/python3.11/dist-packages (from langchain-core) (2.11.4)\n",
            "Requirement already satisfied: aiohappyeyeballs>=2.3.0 in /usr/local/lib/python3.11/dist-packages (from aiohttp<4.0.0,>=3.8.3->langchain-community) (2.6.1)\n",
            "Requirement already satisfied: aiosignal>=1.1.2 in /usr/local/lib/python3.11/dist-packages (from aiohttp<4.0.0,>=3.8.3->langchain-community) (1.3.2)\n",
            "Requirement already satisfied: attrs>=17.3.0 in /usr/local/lib/python3.11/dist-packages (from aiohttp<4.0.0,>=3.8.3->langchain-community) (25.3.0)\n",
            "Requirement already satisfied: frozenlist>=1.1.1 in /usr/local/lib/python3.11/dist-packages (from aiohttp<4.0.0,>=3.8.3->langchain-community) (1.6.0)\n",
            "Requirement already satisfied: multidict<7.0,>=4.5 in /usr/local/lib/python3.11/dist-packages (from aiohttp<4.0.0,>=3.8.3->langchain-community) (6.4.4)\n",
            "Requirement already satisfied: propcache>=0.2.0 in /usr/local/lib/python3.11/dist-packages (from aiohttp<4.0.0,>=3.8.3->langchain-community) (0.3.1)\n",
            "Requirement already satisfied: yarl<2.0,>=1.17.0 in /usr/local/lib/python3.11/dist-packages (from aiohttp<4.0.0,>=3.8.3->langchain-community) (1.20.0)\n",
            "Collecting marshmallow<4.0.0,>=3.18.0 (from dataclasses-json<0.7,>=0.5.7->langchain-community)\n",
            "  Downloading marshmallow-3.26.1-py3-none-any.whl.metadata (7.3 kB)\n",
            "Collecting typing-inspect<1,>=0.4.0 (from dataclasses-json<0.7,>=0.5.7->langchain-community)\n",
            "  Downloading typing_inspect-0.9.0-py3-none-any.whl.metadata (1.5 kB)\n",
            "Requirement already satisfied: jsonpointer>=1.9 in /usr/local/lib/python3.11/dist-packages (from jsonpatch<2.0,>=1.33->langchain-core) (3.0.0)\n",
            "Requirement already satisfied: langchain-text-splitters<1.0.0,>=0.3.8 in /usr/local/lib/python3.11/dist-packages (from langchain<1.0.0,>=0.3.25->langchain-community) (0.3.8)\n",
            "Requirement already satisfied: httpx<1,>=0.23.0 in /usr/local/lib/python3.11/dist-packages (from langsmith<0.4,>=0.1.125->langchain-community) (0.28.1)\n",
            "Requirement already satisfied: orjson<4.0.0,>=3.9.14 in /usr/local/lib/python3.11/dist-packages (from langsmith<0.4,>=0.1.125->langchain-community) (3.10.18)\n",
            "Requirement already satisfied: requests-toolbelt<2.0.0,>=1.0.0 in /usr/local/lib/python3.11/dist-packages (from langsmith<0.4,>=0.1.125->langchain-community) (1.0.0)\n",
            "Requirement already satisfied: zstandard<0.24.0,>=0.23.0 in /usr/local/lib/python3.11/dist-packages (from langsmith<0.4,>=0.1.125->langchain-community) (0.23.0)\n",
            "Requirement already satisfied: annotated-types>=0.6.0 in /usr/local/lib/python3.11/dist-packages (from pydantic>=2.7.4->langchain-core) (0.7.0)\n",
            "Requirement already satisfied: pydantic-core==2.33.2 in /usr/local/lib/python3.11/dist-packages (from pydantic>=2.7.4->langchain-core) (2.33.2)\n",
            "Requirement already satisfied: typing-inspection>=0.4.0 in /usr/local/lib/python3.11/dist-packages (from pydantic>=2.7.4->langchain-core) (0.4.1)\n",
            "Collecting python-dotenv>=0.21.0 (from pydantic-settings<3.0.0,>=2.4.0->langchain-community)\n",
            "  Downloading python_dotenv-1.1.0-py3-none-any.whl.metadata (24 kB)\n",
            "Requirement already satisfied: charset-normalizer<4,>=2 in /usr/local/lib/python3.11/dist-packages (from requests<3,>=2->langchain-community) (3.4.2)\n",
            "Requirement already satisfied: idna<4,>=2.5 in /usr/local/lib/python3.11/dist-packages (from requests<3,>=2->langchain-community) (3.10)\n",
            "Requirement already satisfied: urllib3<3,>=1.21.1 in /usr/local/lib/python3.11/dist-packages (from requests<3,>=2->langchain-community) (2.4.0)\n",
            "Requirement already satisfied: certifi>=2017.4.17 in /usr/local/lib/python3.11/dist-packages (from requests<3,>=2->langchain-community) (2025.4.26)\n",
            "Requirement already satisfied: greenlet>=1 in /usr/local/lib/python3.11/dist-packages (from SQLAlchemy<3,>=1.4->langchain-community) (3.2.2)\n",
            "Requirement already satisfied: anyio in /usr/local/lib/python3.11/dist-packages (from httpx<1,>=0.23.0->langsmith<0.4,>=0.1.125->langchain-community) (4.9.0)\n",
            "Requirement already satisfied: httpcore==1.* in /usr/local/lib/python3.11/dist-packages (from httpx<1,>=0.23.0->langsmith<0.4,>=0.1.125->langchain-community) (1.0.9)\n",
            "Requirement already satisfied: h11>=0.16 in /usr/local/lib/python3.11/dist-packages (from httpcore==1.*->httpx<1,>=0.23.0->langsmith<0.4,>=0.1.125->langchain-community) (0.16.0)\n",
            "Collecting mypy-extensions>=0.3.0 (from typing-inspect<1,>=0.4.0->dataclasses-json<0.7,>=0.5.7->langchain-community)\n",
            "  Downloading mypy_extensions-1.1.0-py3-none-any.whl.metadata (1.1 kB)\n",
            "Requirement already satisfied: sniffio>=1.1 in /usr/local/lib/python3.11/dist-packages (from anyio->httpx<1,>=0.23.0->langsmith<0.4,>=0.1.125->langchain-community) (1.3.1)\n",
            "Downloading langchain_community-0.3.24-py3-none-any.whl (2.5 MB)\n",
            "\u001b[2K   \u001b[90m━━━━━━━━━━━━━━━━━━━━━━━━━━━━━━━━━━━━━━━━\u001b[0m \u001b[32m2.5/2.5 MB\u001b[0m \u001b[31m23.5 MB/s\u001b[0m eta \u001b[36m0:00:00\u001b[0m\n",
            "\u001b[?25hDownloading dataclasses_json-0.6.7-py3-none-any.whl (28 kB)\n",
            "Downloading httpx_sse-0.4.0-py3-none-any.whl (7.8 kB)\n",
            "Downloading pydantic_settings-2.9.1-py3-none-any.whl (44 kB)\n",
            "\u001b[2K   \u001b[90m━━━━━━━━━━━━━━━━━━━━━━━━━━━━━━━━━━━━━━━━\u001b[0m \u001b[32m44.4/44.4 kB\u001b[0m \u001b[31m4.0 MB/s\u001b[0m eta \u001b[36m0:00:00\u001b[0m\n",
            "\u001b[?25hDownloading marshmallow-3.26.1-py3-none-any.whl (50 kB)\n",
            "\u001b[2K   \u001b[90m━━━━━━━━━━━━━━━━━━━━━━━━━━━━━━━━━━━━━━━━\u001b[0m \u001b[32m50.9/50.9 kB\u001b[0m \u001b[31m4.1 MB/s\u001b[0m eta \u001b[36m0:00:00\u001b[0m\n",
            "\u001b[?25hDownloading python_dotenv-1.1.0-py3-none-any.whl (20 kB)\n",
            "Downloading typing_inspect-0.9.0-py3-none-any.whl (8.8 kB)\n",
            "Downloading mypy_extensions-1.1.0-py3-none-any.whl (5.0 kB)\n",
            "Installing collected packages: python-dotenv, mypy-extensions, marshmallow, httpx-sse, typing-inspect, pydantic-settings, dataclasses-json, langchain-community\n",
            "Successfully installed dataclasses-json-0.6.7 httpx-sse-0.4.0 langchain-community-0.3.24 marshmallow-3.26.1 mypy-extensions-1.1.0 pydantic-settings-2.9.1 python-dotenv-1.1.0 typing-inspect-0.9.0\n"
          ]
        }
      ]
    },
    {
      "cell_type": "code",
      "source": [
        "import os\n",
        "from langchain.chat_models import AzureChatOpenAI\n",
        "from langchain_huggingface import HuggingFaceEndpoint, ChatHuggingFace\n",
        "\n",
        "# 課金openai\n",
        "llm_azure = AzureChatOpenAI(\n",
        "    openai_api_base=\"https://intern-bryan.cognitiveservices.azure.com/\",\n",
        "    openai_api_version=\"2024-08-01-preview\",\n",
        "    deployment_name=\"gpt-4o\",\n",
        "    openai_api_key=\"AwKyfa7qPtoM0f9tnZksQSlVKobqzrwVI56Fmbqpv0tU07MM2WV8JQQJ99AKACYeBjFXJ3w3AAAAACOG55vD\",\n",
        "    temperature=0.3,\n",
        ")\n",
        "\n",
        "# 呼叫huggingface上的API模型 (free)\n",
        "llm_endpoint = HuggingFaceEndpoint(\n",
        "    repo_id=\"Qwen/Qwen2.5-32B-Instruct\",\n",
        "    task=\"text-generation\",\n",
        "    max_new_tokens=512,\n",
        "    do_sample=False,\n",
        "    repetition_penalty=1.03,\n",
        ")\n",
        "\n",
        "llm_huggingface = ChatHuggingFace(llm=llm_endpoint, verbose=False)"
      ],
      "metadata": {
        "id": "3lz0rZv-r5CS",
        "outputId": "103437e5-4345-4b28-9518-0e8aa7d5556a",
        "colab": {
          "base_uri": "https://localhost:8080/"
        }
      },
      "execution_count": 3,
      "outputs": [
        {
          "output_type": "stream",
          "name": "stderr",
          "text": [
            "<ipython-input-3-596681d24297>:6: LangChainDeprecationWarning: The class `AzureChatOpenAI` was deprecated in LangChain 0.0.10 and will be removed in 1.0. An updated version of the class exists in the :class:`~langchain-openai package and should be used instead. To use it run `pip install -U :class:`~langchain-openai` and import as `from :class:`~langchain_openai import AzureChatOpenAI``.\n",
            "  llm_azure = AzureChatOpenAI(\n",
            "/usr/local/lib/python3.11/dist-packages/langchain_community/chat_models/azure_openai.py:174: UserWarning: As of openai>=1.0.0, Azure endpoints should be specified via the `azure_endpoint` param not `openai_api_base` (or alias `base_url`). Updating `openai_api_base` from https://intern-bryan.cognitiveservices.azure.com/ to https://intern-bryan.cognitiveservices.azure.com/openai.\n",
            "  warnings.warn(\n",
            "/usr/local/lib/python3.11/dist-packages/langchain_community/chat_models/azure_openai.py:181: UserWarning: As of openai>=1.0.0, if `deployment_name` (or alias `azure_deployment`) is specified then `openai_api_base` (or alias `base_url`) should not be. Instead use `deployment_name` (or alias `azure_deployment`) and `azure_endpoint`.\n",
            "  warnings.warn(\n",
            "/usr/local/lib/python3.11/dist-packages/langchain_community/chat_models/azure_openai.py:189: UserWarning: As of openai>=1.0.0, if `openai_api_base` (or alias `base_url`) is specified it is expected to be of the form https://example-resource.azure.openai.com/openai/deployments/example-deployment. Updating https://intern-bryan.cognitiveservices.azure.com/ to https://intern-bryan.cognitiveservices.azure.com/openai.\n",
            "  warnings.warn(\n"
          ]
        }
      ]
    },
    {
      "cell_type": "code",
      "source": [
        "# LLM選擇器\n",
        "llm_selector = {\n",
        "    \"azure_openai\": llm_azure,\n",
        "    \"huggingface_qwen\": llm_huggingface,}\n",
        "\n",
        "# 預設使用哪個模型\n",
        "llm_api = llm_selector[\"azure_openai\"]"
      ],
      "metadata": {
        "id": "drk8fe0wuWuk"
      },
      "execution_count": 4,
      "outputs": []
    },
    {
      "cell_type": "code",
      "source": [
        "from typing import Annotated\n",
        "from typing_extensions import TypedDict\n",
        "from langgraph.graph import StateGraph, START, END\n",
        "from langgraph.graph.message import add_messages\n",
        "from langchain_core.messages import HumanMessage, AIMessage,  SystemMessage\n",
        "\n",
        "from transformers import AutoTokenizer\n",
        "from langgraph.checkpoint.memory import MemorySaver\n",
        "\n",
        "from functools import partial\n",
        "\n",
        "class State(TypedDict):\n",
        "  messages: Annotated[list, add_messages]\n",
        "\n",
        "# 自己寫 token count function\n",
        "def count_tokens_approximately(messages):\n",
        "    text = \"\\n\".join([msg.content for msg in messages])\n",
        "    return len(tokenizer.encode(text))\n",
        "\n",
        "# 自己寫 trim function (簡單暴力版)\n",
        "def trim_messages(messages, max_tokens):\n",
        "    while count_tokens_approximately(messages) > max_tokens and len(messages) > 1:\n",
        "        messages = messages[1:]  # 移除最舊的一筆\n",
        "    return messages\n",
        "\n",
        "def chatbot(state: State, llm_api):\n",
        "  # 💻code below:\n",
        "  # hint: you can use langchain_core trim_messages function to trim your trim_messages, and count_tokens_approximately to count tokens\n",
        "    # 設定系統提示\n",
        "    system_prompt = \"你是個只能使用繁體中文回答的助理\"\n",
        "    system_message = SystemMessage(content=system_prompt)\n",
        "\n",
        "    messages = state[\"messages\"]                               # 取得目前的訊息\n",
        "    full_messages = [system_message] + messages                # 先把系統訊息加進來\n",
        "    max_tokens = 3000                                          # 設定token上限（例如：總共最多 3000 tokens）\n",
        "    full_messages = trim_messages(full_messages, max_tokens)   # 裁切訊息\n",
        "    response = llm_api.invoke(full_messages)                   # 呼叫llm\n",
        "    return {\"messages\": [response]}\n",
        "\n",
        "# 建立graph\n",
        "graph_builder = StateGraph(State)\n",
        "graph_builder.add_node(\"chatbot\", partial(chatbot, llm_api=llm_api)) # 在graph裡面加入chatbot的node\n",
        "graph_builder.add_edge(START, \"chatbot\")\n",
        "graph_builder.add_edge(\"chatbot\", END)\n",
        "\n",
        "# 加入短期記憶\n",
        "memory = MemorySaver()\n",
        "graph = graph_builder.compile(checkpointer=memory)\n"
      ],
      "metadata": {
        "id": "bwyMby4dggqz"
      },
      "execution_count": 38,
      "outputs": []
    },
    {
      "cell_type": "code",
      "source": [
        "# 看一下graph\n",
        "from IPython.display import Image, display\n",
        "\n",
        "try:\n",
        "  display(Image(graph.get_graph().draw_mermaid_png()))\n",
        "except Exception as e:\n",
        "  print(e)\n",
        "  pass"
      ],
      "metadata": {
        "colab": {
          "base_uri": "https://localhost:8080/",
          "height": 251
        },
        "id": "Tfjeu3c4uhzz",
        "outputId": "3dc689a1-b256-4ddd-dcc5-11f72cf71281"
      },
      "execution_count": 39,
      "outputs": [
        {
          "output_type": "display_data",
          "data": {
            "image/png": "[encoded data removed]",
            "text/plain": [
              "<IPython.core.display.Image object>"
            ]
          },
          "metadata": {}
        }
      ]
    },
    {
      "cell_type": "code",
      "source": [
        "def stream_graph_updates(user_input: str, config: dict):\n",
        "    for event in graph.stream({\"messages\": [{\"role\": \"user\", \"content\": user_input}]}, config):\n",
        "      if \"chatbot\" in event:\n",
        "        for value in event.values():\n",
        "          print(\"Assistant:\", value[\"messages\"][-1].content)"
      ],
      "metadata": {
        "id": "2Ld1Zg3ersQC"
      },
      "execution_count": 40,
      "outputs": []
    },
    {
      "cell_type": "code",
      "source": [
        "# 設定對話config (第一次對話)\n",
        "config = {\"configurable\": {\"thread_id\": \"conversation_1\"}} # thread_id: 對話id"
      ],
      "metadata": {
        "id": "Jn6-NIHc0jSG"
      },
      "execution_count": 41,
      "outputs": []
    },
    {
      "cell_type": "code",
      "source": [
        "# 開始對話 (可以輸入quit, exit, q，三選一停止對話)\n",
        "while True:\n",
        "  try:\n",
        "    user_input = input(\"User: \")\n",
        "    if user_input.lower() in [\"quit\", \"exit\", \"q\"]:\n",
        "      print(\"Goodbye!\")\n",
        "      break\n",
        "    stream_graph_updates(user_input, config)\n",
        "  except Exception as e:\n",
        "    print(e)\n",
        "    break"
      ],
      "metadata": {
        "id": "wp-MDjLF0ntY",
        "outputId": "c968e88c-a671-45d0-fda4-7be90359df26",
        "colab": {
          "base_uri": "https://localhost:8080/"
        }
      },
      "execution_count": 42,
      "outputs": [
        {
          "output_type": "stream",
          "name": "stdout",
          "text": [
            "User: 嗨 我是火影忍者迷\n",
            "Assistant: 嗨！很高興認識你。火影忍者是一部非常受歡迎的動漫，充滿了精彩的故事和深刻的人物刻畫。你最喜歡的角色或劇情是哪一部分呢？\n",
            "User: 我喜歡宇智波佐助\n",
            "Assistant: 宇智波佐助是一個非常受歡迎且複雜的角色。他的成長過程充滿了挑戰和內心的掙扎，從他對復仇的執著到最終尋找自己的道路。佐助的故事涉及家庭、忠誠和自我認識，這些元素使他成為一個引人入勝的角色。你喜歡佐助的哪個方面或故事情節呢？\n",
            "User: 我們來聊點別的\n",
            "Assistant: 好的！你想聊什麼話題呢？無論是其他動漫、電影、音樂，還是生活中的事情，我都很樂意和你交流。\n",
            "User: 那你還記得我喜歡甚麼嗎\n",
            "Assistant: 當然記得！你提到過你是火影忍者迷，並且特別喜歡宇智波佐助。如果有其他你感興趣的話題或想聊的內容，隨時告訴我哦！\n",
            "User: q\n",
            "Goodbye!\n"
          ]
        }
      ]
    },
    {
      "cell_type": "markdown",
      "source": [
        "---"
      ],
      "metadata": {
        "id": "JFqg436etzLs"
      }
    },
    {
      "cell_type": "markdown",
      "source": [
        "# 2.長期記憶"
      ],
      "metadata": {
        "id": "2O2TZ8VqBpuA"
      }
    },
    {
      "cell_type": "markdown",
      "source": [
        "## (1) 基本版\n",
        "🔰 [基本版]\n",
        "- chatbot node: 在chatbot node中，將該使用者的資訊取出，讓入prompt中讓llm依據使用者的資訊給予個人化的回答\n",
        "\n",
        "- write_memory node: 在每一次生成回答後，將使用者的資訊整理成一段對使用者的描述(使用llm，給予system prompt做指引，自行設計如何整理、需要整理哪些資訊)，將整理完的資訊整理到store (可跨threads存取的地方)。\n",
        "\n",
        "- config: config從原本的短期記憶只有thread_id, 也要加入user_id\n",
        "\n",
        "<img src=\"https://drive.google.com/uc?export=view&id=1H4Y0WplOi6R4Eo06Ac2JA_9TbZa2YaRD\" width=\"100\"/>"
      ],
      "metadata": {
        "id": "zZSFFrWiuE3v"
      }
    },
    {
      "cell_type": "code",
      "source": [
        "%%capture --no-stderr\n",
        "!pip install langchain_core"
      ],
      "metadata": {
        "id": "VPEkk6s1uZEg"
      },
      "execution_count": 43,
      "outputs": []
    },
    {
      "cell_type": "code",
      "source": [
        "from typing import Annotated\n",
        "from typing_extensions import TypedDict\n",
        "from langgraph.checkpoint.memory import MemorySaver # within-thread memory\n",
        "from langgraph.store.memory import InMemoryStore # cross-thread store\n",
        "\n",
        "from langgraph.graph import StateGraph, START, END\n",
        "from langgraph.graph.message import add_messages\n",
        "\n",
        "from langchain_core.messages import HumanMessage, SystemMessage, AIMessage\n",
        "\n",
        "\n",
        "class State(TypedDict):\n",
        "  messages: Annotated[list, add_messages]\n",
        "\n",
        "store = InMemoryStore()\n",
        "\n",
        "def chatbot(state: State, config: dict):\n",
        "  # 💻code here:\n",
        "  # TODO:\n",
        "  # 依據user_id取得長期記憶\n",
        "  # 將長期記憶也放進system prompt中，讓llm可以個人化回覆\n",
        "  user_id = config[\"configurable\"][\"user_id\"]\n",
        "\n",
        "  # 從長期記憶store讀取使用者資訊\n",
        "  user_profile = store.get(key=user_id, namespace=None) or \"尚未有使用者資訊。\"\n",
        "\n",
        "  system_prompt = f\"\"\"你是個只能使用繁體中文回答的助理。\n",
        "  以下是已知的使用者資訊，請根據這些資訊提供個人化回應：\n",
        "  使用者資訊: {user_profile}\n",
        "  \"\"\"\n",
        "\n",
        "  system_message = SystemMessage(content=system_prompt)\n",
        "  messages = state[\"messages\"]\n",
        "  full_messages = [system_message] + messages\n",
        "\n",
        "  # 呼叫llm\n",
        "  response = llm_api.invoke(full_messages)\n",
        "  return {\"messages\": [response]}\n",
        "  #return {\"messages\": [AIMessage(content=response)]}\n",
        "\n",
        "\n",
        "def write_memory(state: State, config: dict):\n",
        "  # 💻code here:\n",
        "  # TODO:\n",
        "  # 將使用者的對話整理成要儲存成長期記憶的資訊，並存入長期記憶\n",
        "  user_id = config[\"configurable\"][\"user_id\"]\n",
        "  messages = state[\"messages\"]\n",
        "\n",
        "  # 取出近期對話\n",
        "  recent_dialogue = \"\\n\".join([f\"{m.type}: {m.content}\" for m in messages[-5:]])\n",
        "\n",
        "  # 用LLM摘要使用者資訊\n",
        "  system_prompt = \"\"\"你是一個負責整理使用者資訊的系統，請依據對話紀錄整理使用者的個人資訊，包含：\n",
        "  -興趣嗜好\n",
        "  -性格特徵\n",
        "  -需求與問題\n",
        "  -其他有幫助的資訊\n",
        "  請簡潔整理成一段使用者描述 (限100字內)。\n",
        "  \"\"\"\n",
        "\n",
        "  llm_input = [SystemMessage(content=system_prompt), HumanMessage(content=recent_dialogue)]\n",
        "\n",
        "  profile_summary = llm_api.invoke(llm_input)\n",
        "  # 更新長期記憶\n",
        "  store.set(key=user_id, value=profile_summary, namespace=None)\n",
        "  return state\n",
        "\n",
        "# Define the graph\n",
        "builder = StateGraph(State)\n",
        "builder.add_node(\"chatbot\", chatbot)\n",
        "builder.add_node(\"write_memory\", write_memory)\n",
        "builder.add_edge(START, \"chatbot\")\n",
        "builder.add_edge(\"chatbot\", \"write_memory\")\n",
        "builder.add_edge(\"write_memory\", END)\n",
        "\n",
        "\n",
        "# Compile the graph with the checkpointer fir and store\n",
        "\n",
        "# 💻Code Here\n",
        "# 記得放入短期記憶，長期記憶的store\n",
        "# 短期記憶 + 長期記憶\n",
        "memory = MemorySaver()\n",
        "graph = builder.compile(checkpointer=memory, store=store)\n"
      ],
      "metadata": {
        "id": "5czQ-VSKBICQ"
      },
      "execution_count": 93,
      "outputs": []
    },
    {
      "cell_type": "code",
      "source": [
        "# View\n",
        "from IPython.display import Image, display\n",
        "try:\n",
        "  display(Image(graph.get_graph().draw_mermaid_png()))\n",
        "except Exception as e:\n",
        "  print(e)\n",
        "  pass"
      ],
      "metadata": {
        "id": "KPPiEQpvHKl8",
        "outputId": "2c1c7ca0-b216-4635-a9b3-467acb362515",
        "colab": {
          "base_uri": "https://localhost:8080/",
          "height": 350
        }
      },
      "execution_count": 94,
      "outputs": [
        {
          "output_type": "display_data",
          "data": {
            "image/png": "[encoded data removed]",
            "text/plain": [
              "<IPython.core.display.Image object>"
            ]
          },
          "metadata": {}
        }
      ]
    },
    {
      "cell_type": "code",
      "source": [
        "def stream_graph_updates(user_input: str, config: dict):\n",
        "    for event in graph.stream({\"messages\": [{\"role\": \"user\", \"content\": user_input}]}, config):\n",
        "        if \"chatbot\" in event:\n",
        "          for value in event.values():\n",
        "              print(\"Assistant:\", value[\"messages\"][-1].content)"
      ],
      "metadata": {
        "id": "zjdk4Y1tvXyb"
      },
      "execution_count": 95,
      "outputs": []
    },
    {
      "cell_type": "code",
      "source": [
        "# 使用者A的第一次對話\n",
        "config = {\"configurable\": {\"thread_id\": \"conversation_1\", \"user_id\": \"user_a\"}}"
      ],
      "metadata": {
        "id": "GMyA_OCNBIEW"
      },
      "execution_count": 96,
      "outputs": []
    },
    {
      "cell_type": "code",
      "source": [
        "# 開始對話 (可以輸入quit, exit, q，三選一停止對話)\n",
        "while True:\n",
        "  try:\n",
        "    user_input = input(\"User: \")\n",
        "    if user_input.lower() in [\"quit\", \"exit\", \"q\"]:\n",
        "      print(\"Goodbye!\")\n",
        "      break\n",
        "    stream_graph_updates(user_input, config)\n",
        "  except Exception as e:\n",
        "    print(e)\n",
        "    break"
      ],
      "metadata": {
        "id": "GTx7BfHTvVVa",
        "outputId": "56842dda-8117-46cc-a45e-066cf5edb489",
        "colab": {
          "base_uri": "https://localhost:8080/"
        }
      },
      "execution_count": 97,
      "outputs": [
        {
          "name": "stdout",
          "output_type": "stream",
          "text": [
            "User: 嗨 我是火影忍者迷\n"
          ]
        },
        {
          "output_type": "stream",
          "name": "stderr",
          "text": [
            "/usr/local/lib/python3.11/dist-packages/langgraph/utils/runnable.py:377: RuntimeWarning: coroutine 'BaseStore.aget' was never awaited\n",
            "  ret = self.func(*args, **kwargs)\n",
            "RuntimeWarning: Enable tracemalloc to get the object allocation traceback\n"
          ]
        },
        {
          "output_type": "stream",
          "name": "stdout",
          "text": [
            "Assistant: 嗨！很高興認識你，火影忍者是一部非常受歡迎的動漫。你最喜歡的角色或場景是什麼呢？或者有什麼特別的情節讓你印象深刻嗎？我們可以一起聊聊！\n",
            "'InMemoryStore' object has no attribute 'aset'\n"
          ]
        }
      ]
    },
    {
      "cell_type": "code",
      "source": [
        "# 使用者A的第二次對話\n",
        "config = {\"configurable\": {\"thread_id\": \"conversation_2\", \"user_id\": \"user_a\"}}"
      ],
      "metadata": {
        "id": "hnwxAcAqvgzE"
      },
      "execution_count": 98,
      "outputs": []
    },
    {
      "cell_type": "code",
      "source": [
        "# 開始對話 (可以輸入quit, exit, q，三選一停止對話)\n",
        "while True:\n",
        "  try:\n",
        "    user_input = input(\"User: \")\n",
        "    if user_input.lower() in [\"quit\", \"exit\", \"q\"]:\n",
        "      print(\"Goodbye!\")\n",
        "      break\n",
        "    stream_graph_updates(user_input, config)\n",
        "  except Exception as e:\n",
        "    print(e)\n",
        "    break"
      ],
      "metadata": {
        "id": "qOyjZJ_HvmIk",
        "outputId": "0b4c0ed6-2573-480d-cce4-069a83da456e",
        "colab": {
          "base_uri": "https://localhost:8080/"
        }
      },
      "execution_count": 99,
      "outputs": [
        {
          "name": "stdout",
          "output_type": "stream",
          "text": [
            "User: 嗨 我是火影忍者迷\n"
          ]
        },
        {
          "output_type": "stream",
          "name": "stderr",
          "text": [
            "/usr/local/lib/python3.11/dist-packages/langgraph/utils/runnable.py:377: RuntimeWarning: coroutine 'BaseStore.aget' was never awaited\n",
            "  ret = self.func(*args, **kwargs)\n",
            "RuntimeWarning: Enable tracemalloc to get the object allocation traceback\n"
          ]
        },
        {
          "output_type": "stream",
          "name": "stdout",
          "text": [
            "Assistant: 嗨！太棒了！火影忍者是一部非常受歡迎的動漫，充滿了精彩的故事和令人難忘的角色。你最喜歡的角色或情節是什麼呢？我們可以聊聊這部作品！\n",
            "'InMemoryStore' object has no attribute 'aset'\n"
          ]
        }
      ]
    },
    {
      "cell_type": "markdown",
      "source": [
        "## (2) 進階版\n",
        "\n",
        "👨‍🎓 [進階版]\n",
        "- chatbot node: 可以決定使用者的問題是否需要從長期記憶中取得資訊，以及需要取得什麼資訊\n",
        "- write_memory node: 可以整理成特定格式 (例如：使用with_structured_output，相關概念可以延伸到R3 tool calling內容)。例如：\n",
        "```\n",
        "user_profile = {\n",
        "  \"first_name\": \"XXXX\",\n",
        "  \"last_name\": \"OOO\",\n",
        "  \"preferred_lang\": [\"en\", \"zh-tw\"]\n",
        "}\n",
        "```\n",
        "- 也可以自行將graph結構調整自己喜歡的(增刪不同node, conditional router, ...)"
      ],
      "metadata": {
        "id": "2qIEWoYKwExU"
      }
    },
    {
      "cell_type": "code",
      "source": [
        "# 💻code here, enjoy the ride 😎\n"
      ],
      "metadata": {
        "id": "5MLcnXZAwHeE"
      },
      "execution_count": null,
      "outputs": []
    },
    {
      "cell_type": "code",
      "source": [],
      "metadata": {
        "id": "jyJZA50xwZBf"
      },
      "execution_count": null,
      "outputs": []
    }
  ]
}
