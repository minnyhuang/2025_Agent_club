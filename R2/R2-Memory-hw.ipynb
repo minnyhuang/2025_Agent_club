{
  "nbformat": 4,
  "nbformat_minor": 0,
  "metadata": {
    "colab": {
      "provenance": [],
      "gpuType": "T4"
    },
    "kernelspec": {
      "name": "python3",
      "display_name": "Python 3"
    },
    "language_info": {
      "name": "python"
    },
    "accelerator": "GPU"
  },
  "cells": [
    {
      "cell_type": "markdown",
      "source": [
        "# 0.Assignments\n",
        "\n",
        "👾 這個陽春的聊天機器人需要被優化！<br>\n",
        "若是一個對話串不間斷地持續進行，送進去的訊息量會很多，tokens數量也會跟著增加，會需要花比較多費用(💸💸💸)，也可能使模型的回應雜訊比較多而回應受到干擾，所以我們可以優化短期記憶。<br>\n",
        "另外，我們希望優化使用者體驗，我們可以根據聊天的內容整理出使用者的屬性，並在每一次跟使用者聊天時，都能根據這個使用者的狀況給予客製化的回應，因此我們要加入長期記憶的功能！\n",
        "\n",
        "<br>\n",
        "\n",
        "### 1. 短期記憶優化\n",
        "\n",
        "(1) 🔰 [基本版] 在短期記憶中，將chatbot node送入llm的訊息中加入trim的優化機制 (依據適當的tokens數量決定)\n",
        "\n",
        "\n",
        "<br>\n",
        "\n",
        "### 2. 加入長期記憶\n",
        "\n",
        "加入長期記憶，讓聊天機器人能夠記住使用者的資訊（名字、偏好語言、興趣），在下一次對話也能針對同個使用者的資訊，給予個人化的回答。\n",
        "\n",
        "(1) 🔰 [基本版]\n",
        "- chatbot node: 在chatbot node中，將該使用者的資訊取出，讓入prompt中讓llm依據使用者的資訊給予個人化的回答\n",
        "\n",
        "- write_memory node: 在每一次生成回答後，將使用者的資訊整理成一段對使用者的描述(使用llm，給予system prompt做指引，自行設計如何整理、需要整理哪些資訊)，將整理完的資訊整理到store (可跨threads存取的地方)。\n",
        "\n",
        "- config: config從原本的短期記憶只有thread_id, 也要加入user_id\n",
        "\n",
        "<img src=\"https://drive.google.com/uc?export=view&id=1H4Y0WplOi6R4Eo06Ac2JA_9TbZa2YaRD\" width=\"100\"/>\n",
        "\n",
        "\n",
        "(2) 👨‍🎓 [進階版]\n",
        "- chatbot node: 可以決定使用者的問題是否需要從長期記憶中取得資訊，以及需要取得什麼資訊\n",
        "- write_memory node: 可以整理成特定格式 (例如：使用with_structured_output，相關概念可以延伸到R3 tool calling內容)。例如：\n",
        "```\n",
        "user_profile = {\n",
        "  \"first_name\": \"XXXX\",\n",
        "  \"last_name\": \"OOO\",\n",
        "  \"preferred_lang\": [\"en\", \"zh-tw\"]\n",
        "}\n",
        "```\n",
        "- 也可以自行將graph結構調整自己喜歡的(增刪不同node, conditional router, ...)\n",
        "<br>\n",
        "備註：基本版是需要大家完成的，進階版可以自行決定是否挑戰，Enjoy the ride! 😎"
      ],
      "metadata": {
        "id": "YzuZTjoZkt7a"
      }
    },
    {
      "cell_type": "markdown",
      "source": [
        "# 1.短期記憶"
      ],
      "metadata": {
        "id": "Zprt5eyzemnq"
      }
    },
    {
      "cell_type": "markdown",
      "source": [
        "## (1) 基本版\n",
        "🔰 [基本版] 在短期記憶中，將chatbot node送入llm的訊息中加入trim的優化機制 (依據適當的tokens數量決定)\n",
        "\n",
        "note: 可以邊做邊看一下trim設定的效果以及內部運作的機制"
      ],
      "metadata": {
        "id": "PZHRs_NSsfnF"
      }
    },
    {
      "cell_type": "code",
      "source": [
        "%%capture --no-stderr\n",
        "!pip install -U langgraph langchain_openai==0.3.15 langchain transformers bitsandbytes langchain-huggingface\n"
      ],
      "metadata": {
        "id": "m8Ahe-dgr3Qa"
      },
      "execution_count": 1,
      "outputs": []
    },
    {
      "cell_type": "code",
      "source": [
        "from transformers import AutoTokenizer, AutoModelForCausalLM, pipeline, BitsAndBytesConfig\n",
        "from langchain_huggingface import HuggingFacePipeline\n",
        "\n",
        "# 會需要一點時間\n",
        "# 使用 4-bit 量化模型\n",
        "model_id = \"MediaTek-Research/Breeze-7B-Instruct-v1_0\"\n",
        "\n",
        "quant_config = BitsAndBytesConfig(\n",
        "    load_in_4bit=True,\n",
        "    bnb_4bit_quant_type=\"nf4\",\n",
        "    bnb_4bit_use_double_quant=True,\n",
        "    llm_int8_threshold=6.0,\n",
        ")\n",
        "\n",
        "# 載入 tokenizer 與 4-bit 模型\n",
        "tokenizer = AutoTokenizer.from_pretrained(model_id, use_fast=True)\n",
        "model = AutoModelForCausalLM.from_pretrained(\n",
        "    model_id,\n",
        "    device_map=\"auto\",\n",
        "    quantization_config=quant_config,\n",
        "    trust_remote_code=True\n",
        ")"
      ],
      "metadata": {
        "id": "Ep_VhJl4yKmN",
        "outputId": "eb6b4da1-c48a-4831-a7a4-9008c04c9146",
        "colab": {
          "base_uri": "https://localhost:8080/",
          "height": 592,
          "referenced_widgets": [
            "b295e0c9025641c0bb7d379aaf990624",
            "5638aeb26f2444a0a5567a88542cd2c4",
            "f2896e2c6ad346b8b36f703d601fc44d",
            "16960d6e46e144419da7b9cb3226b10f",
            "4084b66b22434217814ac900fdbff02e",
            "2bad7bdacdda47d290e3dc3083be00ad",
            "db7886d0b96a4b3387a632768e8c9bfe",
            "5688a593d4b9422384e6390259db731d",
            "51fa029f67e8426da01ccb9d18f0a544",
            "02c0d6b1ee764017bac2d8a23d631c4e",
            "f1513a16f1bb4844b42a095b0dc10d3f",
            "21b29bf7f79e448cbd3d7ab07f00a14d",
            "734b0974afd641c0a83ab9b4e1a7a589",
            "49b53110455e4da0b6589f72a4568cce",
            "216ffda1f719406d9f37ec192b6b08dd",
            "fdda9130fd9b4d4ba56839f8096752cf",
            "998af82183744537b325cdc9135629f3",
            "322e3401ca5a40fa8723c5989f785cb9",
            "15073bad70094129a74932a4c60483fc",
            "b75f8007cb0c4129945800bce6cf4b67",
            "c5e83a6bf07e4c02b66e7d50b84b8c0d",
            "a320175068b940cca31e3b3d5e7ee804",
            "dc47120bc6094177848bd1ebd32483c8",
            "00a58231dcdf4e719423868b234a5391",
            "46d7049f934e4fc1ac8af98037422947",
            "7934a9da75b34c64a08b5ca1c9318802",
            "be4e40c3f53f4432add44347a1aa87ee",
            "15ae52c5c0e54b89837628db932156c8",
            "162b9c194ff94cf3ac4321c2bddf19c3",
            "be6560169ad34d7090ed6907b1ed3b6e",
            "75a43b74d1864acc84f3f6e5a2a15920",
            "8d7568e494744e7b9c5f29acb6def9e1",
            "dabe03b7bd754953901526d1b02366d3",
            "8bcade68daea469eb8be9927989dcb1e",
            "ee3f02e6bac84e06ab3402c95c4ad77a",
            "1f1e6a03336d41418c23347b4ec6bf58",
            "a88059b0d88e4e229240f6b363d2cb5e",
            "03899631eb8a4e59acee63813ed5794e",
            "0ae663e199664e30808795d701ef2e2e",
            "4c0a4f56552e4c048e31bd7edd96948b",
            "ca10f29492a7410090c4eb2efaf01fb4",
            "ac4f28d357354ef48f9e70f723afdab0",
            "e7e6074397f7424fa5b41e0c3e14e1db",
            "51409c218d6b44d2830fe2bf289efbdf",
            "53f82c507030410883bfcbf1ba51953b",
            "9e9889b4ee8943f889d3751a6569cffe",
            "5282200dfbf34fb295962595eb51ff73",
            "3ebae12c73ad4fb0afc57bc3db4de83e",
            "73651c4e61da4eb3a3ae6fd82e71c283",
            "e8fff8f1c1304a73a2734ae84caebe4b",
            "1b7a4cc0dcff48bead4a463b232d2876",
            "b26b041e0a824ec98a2a0e786cdd4393",
            "a867e6488cac4eeabd991b31d5119b61",
            "1db302bdfeb94c7f87fae15062f12445",
            "f7ffdb85e98e4c6eaeb394a386ec1204",
            "2f10b7667fbc471885906acbf6e3fbd0",
            "03455554f08d4a98a18feaeaad81f962",
            "902982d529f246268af018c7aa7f208c",
            "c2247fbb94db4a39957d23e913b2451f",
            "893377d987da422baac965208eae17b9",
            "82acfab72da14b79bc169180e56415c5",
            "19557b1be696468f91a27bdeb7f8c2c1",
            "59864d20cad74c3ea6c30e5db183b57e",
            "37eca604289b4a28afe3e5594966e203",
            "fe7275fb068b4cd3a33d4e355098113f",
            "9c7903acc8cb457b80fcc8b8ac7a62f8",
            "800eeed8b3924ac5b7c8a1ec9b899939",
            "b0f7c923de9f41dc852957b90e36c7fa",
            "5a14c72a9dd1421195ff752be1edf2c9",
            "913beaea79924f228554dda047ae2b83",
            "88c2b19c431e407c83865355f0ac498c",
            "b890ec6a41ce4880850a97a37a1acaa1",
            "19889ddd5c1449b19722abd7460bb9e9",
            "f4a44b9d30fa4dee9db6b245f86f8986",
            "be9f73c68d594f2c8200e97ec9aa56a3",
            "9af175aa28c343d28eac2e98cb6e1a56",
            "c1778d15e7cb4b10844eae48acef582b",
            "4bc713177b9b46d4bbd1f34801b5eb0d",
            "68328eb06bac40f8b824f8f27ea520ec",
            "9326996e90d3421984f410bff3f97fbd",
            "4f4917d6192345458a099e4ee129a1cf",
            "0975e0bb779f4ce3b7bb1add1eb3aba3",
            "34cfe1ca9c7c4e3197f2e6e0b0669c7f",
            "e4e0ea6f9e4b42a1848f5029498ed5ad",
            "e22f3ade93c4430b8a70dd6117439033",
            "85745eaa7ead44b8a5f0dac3f60609a7",
            "7d87ed9ba33d4e55a24156459fdd23c9",
            "6ed848e5acee4ad183ee22d14cbf4cdd",
            "b29f91a04a2d43299378837f4e115608",
            "e1f2910a0000434a891ac8db8c443d96",
            "7917b54e8516437c84993013912f0750",
            "483ddd60bfcb4a48977498c78c461c53",
            "f74a5e7d11454936a512cfafc14bd8ea",
            "29941ffeea694b259583c49da14187d2",
            "bb69b7191131455aa264360a6f84ee72",
            "2a37f61729d341408e58cf4f3a6b9c28",
            "5eac073f65a645d59a09d1177c0e9d24",
            "cdf3af6477fd4cef804c7f4e56084623",
            "1cfda72ed12646a7a4d171f0b6908da6",
            "934ea89db1a54702b4fbedf1483bd95b",
            "e4180d7dfae74b2390b0eefcf0ea8bae",
            "9be49e758bf74b22ab3d883549cc0132",
            "337d88edb50b46418e972c5dd2334923",
            "7cb335420f904ef8b53d102ec6b04b62",
            "30a608f666e14fd2998f8bc942de1984",
            "89fc3f9513f14176b49c6c536f3580e0",
            "c049426bf5be488eb9d8db462807dcbb",
            "f7bd500742e345cfbf0233b0e5c1f974",
            "2cecb05e320646e4a159b9b3833dcd3c",
            "a7340891b1424cdb82793eaa9be21b2d",
            "1241ee726e9f44729acf69ce9298da73",
            "dfa3d0fd462e44efa334a9c3cb240d9d",
            "fc9be1555d004ff786b6ff6f19660973",
            "9e46424cc03540099ac29874215aebf2",
            "c64e8fce78a04ff0a9af0e958c677717",
            "9d55c0a398fa428caa39d0f13e49fabc",
            "02dd9b5cf6934a2f87e616e89a66c738",
            "f10c5a6ba4ac418fb17284110d706d59",
            "a94de31609024f458702b31bc1a530f0",
            "b23c2a9907cb462081ddccc80387854f",
            "dace64ab9abb40e98108c04c32654b7a",
            "8e167f28c0d24f62a1b8298410796508",
            "9a54f8be08f5479685d0ad02c9d18524",
            "7f36e6de304b4dad9cfd62b8276ebc15",
            "1b65bfb0f5b54ebe9df952f3ef94453a",
            "5f900c15fd5448869bdc82baba691e51",
            "0cce2ae3757542a6b5a9d5ec5c5134da",
            "d81992c48fc74fb7a1f93677010531ea",
            "f84dfd0a74824d74a784de99c79de99a",
            "7b44f643bd2544788c939bbe00a81dc7",
            "9a383dcdca8b4edf99cf2892d306d7a5",
            "69f9723a30e745c282b54150bdfbd610",
            "36731171ef8f4dd99c4f24531a80b188",
            "985ee84252214e6ba51af4d942b1c8ba",
            "708a4be02fb04c90976d6298c34fc978",
            "b4c9ce8e9f95496db364c9bf413045e3",
            "18d1fd70702c43a08f64c9c3d57a2560",
            "e3dce36e396c49bda7de576ce8152cda",
            "bf4826dac56a4909a556061b7512e6d8",
            "f11391cce39541dca0bb53e4f154bfc6",
            "5520252347344b78887a0b9999c33033",
            "8a0214aabc3a4114ae7ba547d5219f59",
            "c148079943ca42f4a20457f60a283a23",
            "1bd9b8bab88845b18667218ee74ca241",
            "39a326c066dc455a863c90d56f2206e5",
            "0404c3669bbf423d82a0ab2b14dcd0bb",
            "5d2b77fd42c742efa56d9b84de18a218",
            "4a5841427a88472ca8aca35fe0d4fe20",
            "cd071d67a5694b23ba6205d8a57cc4ef",
            "fabd70cfba964717b5d270a49fc98ee5",
            "7410fa2e26a746588f4e01736e6857c3",
            "7c73755180754e918069b2c74b5fb4c8",
            "093757c96f544603ad4eecc96268f3f7",
            "8eed65bce04a41d39fcef909faf97396"
          ]
        }
      },
      "execution_count": 2,
      "outputs": [
        {
          "output_type": "stream",
          "name": "stderr",
          "text": [
            "/usr/local/lib/python3.11/dist-packages/huggingface_hub/utils/_auth.py:94: UserWarning: \n",
            "The secret `HF_TOKEN` does not exist in your Colab secrets.\n",
            "To authenticate with the Hugging Face Hub, create a token in your settings tab (https://huggingface.co/settings/tokens), set it as secret in your Google Colab and restart your session.\n",
            "You will be able to reuse this secret in all of your notebooks.\n",
            "Please note that authentication is recommended but still optional to access public models or datasets.\n",
            "  warnings.warn(\n"
          ]
        },
        {
          "output_type": "display_data",
          "data": {
            "text/plain": [
              "tokenizer_config.json:   0%|          | 0.00/2.33k [00:00<?, ?B/s]"
            ],
            "application/vnd.jupyter.widget-view+json": {
              "version_major": 2,
              "version_minor": 0,
              "model_id": "b295e0c9025641c0bb7d379aaf990624"
            }
          },
          "metadata": {}
        },
        {
          "output_type": "display_data",
          "data": {
            "text/plain": [
              "tokenizer.model:   0%|          | 0.00/911k [00:00<?, ?B/s]"
            ],
            "application/vnd.jupyter.widget-view+json": {
              "version_major": 2,
              "version_minor": 0,
              "model_id": "21b29bf7f79e448cbd3d7ab07f00a14d"
            }
          },
          "metadata": {}
        },
        {
          "output_type": "display_data",
          "data": {
            "text/plain": [
              "tokenizer.json:   0%|          | 0.00/2.79M [00:00<?, ?B/s]"
            ],
            "application/vnd.jupyter.widget-view+json": {
              "version_major": 2,
              "version_minor": 0,
              "model_id": "dc47120bc6094177848bd1ebd32483c8"
            }
          },
          "metadata": {}
        },
        {
          "output_type": "display_data",
          "data": {
            "text/plain": [
              "added_tokens.json:   0%|          | 0.00/39.0 [00:00<?, ?B/s]"
            ],
            "application/vnd.jupyter.widget-view+json": {
              "version_major": 2,
              "version_minor": 0,
              "model_id": "8bcade68daea469eb8be9927989dcb1e"
            }
          },
          "metadata": {}
        },
        {
          "output_type": "display_data",
          "data": {
            "text/plain": [
              "special_tokens_map.json:   0%|          | 0.00/551 [00:00<?, ?B/s]"
            ],
            "application/vnd.jupyter.widget-view+json": {
              "version_major": 2,
              "version_minor": 0,
              "model_id": "53f82c507030410883bfcbf1ba51953b"
            }
          },
          "metadata": {}
        },
        {
          "output_type": "display_data",
          "data": {
            "text/plain": [
              "config.json:   0%|          | 0.00/650 [00:00<?, ?B/s]"
            ],
            "application/vnd.jupyter.widget-view+json": {
              "version_major": 2,
              "version_minor": 0,
              "model_id": "2f10b7667fbc471885906acbf6e3fbd0"
            }
          },
          "metadata": {}
        },
        {
          "output_type": "display_data",
          "data": {
            "text/plain": [
              "model.safetensors.index.json:   0%|          | 0.00/23.9k [00:00<?, ?B/s]"
            ],
            "application/vnd.jupyter.widget-view+json": {
              "version_major": 2,
              "version_minor": 0,
              "model_id": "800eeed8b3924ac5b7c8a1ec9b899939"
            }
          },
          "metadata": {}
        },
        {
          "output_type": "display_data",
          "data": {
            "text/plain": [
              "Fetching 4 files:   0%|          | 0/4 [00:00<?, ?it/s]"
            ],
            "application/vnd.jupyter.widget-view+json": {
              "version_major": 2,
              "version_minor": 0,
              "model_id": "4bc713177b9b46d4bbd1f34801b5eb0d"
            }
          },
          "metadata": {}
        },
        {
          "output_type": "display_data",
          "data": {
            "text/plain": [
              "model-00004-of-00004.safetensors:   0%|          | 0.00/508M [00:00<?, ?B/s]"
            ],
            "application/vnd.jupyter.widget-view+json": {
              "version_major": 2,
              "version_minor": 0,
              "model_id": "b29f91a04a2d43299378837f4e115608"
            }
          },
          "metadata": {}
        },
        {
          "output_type": "display_data",
          "data": {
            "text/plain": [
              "model-00002-of-00004.safetensors:   0%|          | 0.00/4.92G [00:00<?, ?B/s]"
            ],
            "application/vnd.jupyter.widget-view+json": {
              "version_major": 2,
              "version_minor": 0,
              "model_id": "934ea89db1a54702b4fbedf1483bd95b"
            }
          },
          "metadata": {}
        },
        {
          "output_type": "display_data",
          "data": {
            "text/plain": [
              "model-00001-of-00004.safetensors:   0%|          | 0.00/4.95G [00:00<?, ?B/s]"
            ],
            "application/vnd.jupyter.widget-view+json": {
              "version_major": 2,
              "version_minor": 0,
              "model_id": "1241ee726e9f44729acf69ce9298da73"
            }
          },
          "metadata": {}
        },
        {
          "output_type": "display_data",
          "data": {
            "text/plain": [
              "model-00003-of-00004.safetensors:   0%|          | 0.00/4.60G [00:00<?, ?B/s]"
            ],
            "application/vnd.jupyter.widget-view+json": {
              "version_major": 2,
              "version_minor": 0,
              "model_id": "8e167f28c0d24f62a1b8298410796508"
            }
          },
          "metadata": {}
        },
        {
          "output_type": "display_data",
          "data": {
            "text/plain": [
              "Loading checkpoint shards:   0%|          | 0/4 [00:00<?, ?it/s]"
            ],
            "application/vnd.jupyter.widget-view+json": {
              "version_major": 2,
              "version_minor": 0,
              "model_id": "36731171ef8f4dd99c4f24531a80b188"
            }
          },
          "metadata": {}
        },
        {
          "output_type": "display_data",
          "data": {
            "text/plain": [
              "generation_config.json:   0%|          | 0.00/111 [00:00<?, ?B/s]"
            ],
            "application/vnd.jupyter.widget-view+json": {
              "version_major": 2,
              "version_minor": 0,
              "model_id": "1bd9b8bab88845b18667218ee74ca241"
            }
          },
          "metadata": {}
        }
      ]
    },
    {
      "cell_type": "code",
      "source": [
        "generator = pipeline(\n",
        "    task=\"text-generation\",\n",
        "    model=model,\n",
        "    tokenizer=tokenizer,\n",
        "    max_new_tokens=512,\n",
        "    do_sample=True,\n",
        "    temperature=0.4,\n",
        "    return_full_text=False # 僅返回生成的回應內容\n",
        ")\n",
        "\n",
        "# 包裝成 LangChain 的 llm 物件\n",
        "llm = HuggingFacePipeline(pipeline=generator)"
      ],
      "metadata": {
        "colab": {
          "base_uri": "https://localhost:8080/"
        },
        "id": "beAp0_a0yNsP",
        "outputId": "8037db62-be85-48c6-e089-7f533c4ae9bb"
      },
      "execution_count": 3,
      "outputs": [
        {
          "output_type": "stream",
          "name": "stderr",
          "text": [
            "Device set to use cuda:0\n"
          ]
        }
      ]
    },
    {
      "cell_type": "code",
      "source": [
        "!pip install langchain-community langchain-core"
      ],
      "metadata": {
        "id": "vzKJPFJxr-xY",
        "outputId": "b2279f84-f408-4d3c-bb60-54aeb3091156",
        "colab": {
          "base_uri": "https://localhost:8080/"
        }
      },
      "execution_count": 14,
      "outputs": [
        {
          "output_type": "stream",
          "name": "stdout",
          "text": [
            "Collecting langchain-community\n",
            "  Downloading langchain_community-0.3.24-py3-none-any.whl.metadata (2.5 kB)\n",
            "Requirement already satisfied: langchain-core in /usr/local/lib/python3.11/dist-packages (0.3.60)\n",
            "Requirement already satisfied: langchain<1.0.0,>=0.3.25 in /usr/local/lib/python3.11/dist-packages (from langchain-community) (0.3.25)\n",
            "Requirement already satisfied: SQLAlchemy<3,>=1.4 in /usr/local/lib/python3.11/dist-packages (from langchain-community) (2.0.41)\n",
            "Requirement already satisfied: requests<3,>=2 in /usr/local/lib/python3.11/dist-packages (from langchain-community) (2.32.3)\n",
            "Requirement already satisfied: PyYAML>=5.3 in /usr/local/lib/python3.11/dist-packages (from langchain-community) (6.0.2)\n",
            "Requirement already satisfied: aiohttp<4.0.0,>=3.8.3 in /usr/local/lib/python3.11/dist-packages (from langchain-community) (3.11.15)\n",
            "Requirement already satisfied: tenacity!=8.4.0,<10,>=8.1.0 in /usr/local/lib/python3.11/dist-packages (from langchain-community) (9.1.2)\n",
            "Collecting dataclasses-json<0.7,>=0.5.7 (from langchain-community)\n",
            "  Downloading dataclasses_json-0.6.7-py3-none-any.whl.metadata (25 kB)\n",
            "Collecting pydantic-settings<3.0.0,>=2.4.0 (from langchain-community)\n",
            "  Downloading pydantic_settings-2.9.1-py3-none-any.whl.metadata (3.8 kB)\n",
            "Requirement already satisfied: langsmith<0.4,>=0.1.125 in /usr/local/lib/python3.11/dist-packages (from langchain-community) (0.3.42)\n",
            "Collecting httpx-sse<1.0.0,>=0.4.0 (from langchain-community)\n",
            "  Downloading httpx_sse-0.4.0-py3-none-any.whl.metadata (9.0 kB)\n",
            "Requirement already satisfied: numpy>=1.26.2 in /usr/local/lib/python3.11/dist-packages (from langchain-community) (2.0.2)\n",
            "Requirement already satisfied: jsonpatch<2.0,>=1.33 in /usr/local/lib/python3.11/dist-packages (from langchain-core) (1.33)\n",
            "Requirement already satisfied: packaging<25,>=23.2 in /usr/local/lib/python3.11/dist-packages (from langchain-core) (24.2)\n",
            "Requirement already satisfied: typing-extensions>=4.7 in /usr/local/lib/python3.11/dist-packages (from langchain-core) (4.13.2)\n",
            "Requirement already satisfied: pydantic>=2.7.4 in /usr/local/lib/python3.11/dist-packages (from langchain-core) (2.11.4)\n",
            "Requirement already satisfied: aiohappyeyeballs>=2.3.0 in /usr/local/lib/python3.11/dist-packages (from aiohttp<4.0.0,>=3.8.3->langchain-community) (2.6.1)\n",
            "Requirement already satisfied: aiosignal>=1.1.2 in /usr/local/lib/python3.11/dist-packages (from aiohttp<4.0.0,>=3.8.3->langchain-community) (1.3.2)\n",
            "Requirement already satisfied: attrs>=17.3.0 in /usr/local/lib/python3.11/dist-packages (from aiohttp<4.0.0,>=3.8.3->langchain-community) (25.3.0)\n",
            "Requirement already satisfied: frozenlist>=1.1.1 in /usr/local/lib/python3.11/dist-packages (from aiohttp<4.0.0,>=3.8.3->langchain-community) (1.6.0)\n",
            "Requirement already satisfied: multidict<7.0,>=4.5 in /usr/local/lib/python3.11/dist-packages (from aiohttp<4.0.0,>=3.8.3->langchain-community) (6.4.4)\n",
            "Requirement already satisfied: propcache>=0.2.0 in /usr/local/lib/python3.11/dist-packages (from aiohttp<4.0.0,>=3.8.3->langchain-community) (0.3.1)\n",
            "Requirement already satisfied: yarl<2.0,>=1.17.0 in /usr/local/lib/python3.11/dist-packages (from aiohttp<4.0.0,>=3.8.3->langchain-community) (1.20.0)\n",
            "Collecting marshmallow<4.0.0,>=3.18.0 (from dataclasses-json<0.7,>=0.5.7->langchain-community)\n",
            "  Downloading marshmallow-3.26.1-py3-none-any.whl.metadata (7.3 kB)\n",
            "Collecting typing-inspect<1,>=0.4.0 (from dataclasses-json<0.7,>=0.5.7->langchain-community)\n",
            "  Downloading typing_inspect-0.9.0-py3-none-any.whl.metadata (1.5 kB)\n",
            "Requirement already satisfied: jsonpointer>=1.9 in /usr/local/lib/python3.11/dist-packages (from jsonpatch<2.0,>=1.33->langchain-core) (3.0.0)\n",
            "Requirement already satisfied: langchain-text-splitters<1.0.0,>=0.3.8 in /usr/local/lib/python3.11/dist-packages (from langchain<1.0.0,>=0.3.25->langchain-community) (0.3.8)\n",
            "Requirement already satisfied: httpx<1,>=0.23.0 in /usr/local/lib/python3.11/dist-packages (from langsmith<0.4,>=0.1.125->langchain-community) (0.28.1)\n",
            "Requirement already satisfied: orjson<4.0.0,>=3.9.14 in /usr/local/lib/python3.11/dist-packages (from langsmith<0.4,>=0.1.125->langchain-community) (3.10.18)\n",
            "Requirement already satisfied: requests-toolbelt<2.0.0,>=1.0.0 in /usr/local/lib/python3.11/dist-packages (from langsmith<0.4,>=0.1.125->langchain-community) (1.0.0)\n",
            "Requirement already satisfied: zstandard<0.24.0,>=0.23.0 in /usr/local/lib/python3.11/dist-packages (from langsmith<0.4,>=0.1.125->langchain-community) (0.23.0)\n",
            "Requirement already satisfied: annotated-types>=0.6.0 in /usr/local/lib/python3.11/dist-packages (from pydantic>=2.7.4->langchain-core) (0.7.0)\n",
            "Requirement already satisfied: pydantic-core==2.33.2 in /usr/local/lib/python3.11/dist-packages (from pydantic>=2.7.4->langchain-core) (2.33.2)\n",
            "Requirement already satisfied: typing-inspection>=0.4.0 in /usr/local/lib/python3.11/dist-packages (from pydantic>=2.7.4->langchain-core) (0.4.1)\n",
            "Collecting python-dotenv>=0.21.0 (from pydantic-settings<3.0.0,>=2.4.0->langchain-community)\n",
            "  Downloading python_dotenv-1.1.0-py3-none-any.whl.metadata (24 kB)\n",
            "Requirement already satisfied: charset-normalizer<4,>=2 in /usr/local/lib/python3.11/dist-packages (from requests<3,>=2->langchain-community) (3.4.2)\n",
            "Requirement already satisfied: idna<4,>=2.5 in /usr/local/lib/python3.11/dist-packages (from requests<3,>=2->langchain-community) (3.10)\n",
            "Requirement already satisfied: urllib3<3,>=1.21.1 in /usr/local/lib/python3.11/dist-packages (from requests<3,>=2->langchain-community) (2.4.0)\n",
            "Requirement already satisfied: certifi>=2017.4.17 in /usr/local/lib/python3.11/dist-packages (from requests<3,>=2->langchain-community) (2025.4.26)\n",
            "Requirement already satisfied: greenlet>=1 in /usr/local/lib/python3.11/dist-packages (from SQLAlchemy<3,>=1.4->langchain-community) (3.2.2)\n",
            "Requirement already satisfied: anyio in /usr/local/lib/python3.11/dist-packages (from httpx<1,>=0.23.0->langsmith<0.4,>=0.1.125->langchain-community) (4.9.0)\n",
            "Requirement already satisfied: httpcore==1.* in /usr/local/lib/python3.11/dist-packages (from httpx<1,>=0.23.0->langsmith<0.4,>=0.1.125->langchain-community) (1.0.9)\n",
            "Requirement already satisfied: h11>=0.16 in /usr/local/lib/python3.11/dist-packages (from httpcore==1.*->httpx<1,>=0.23.0->langsmith<0.4,>=0.1.125->langchain-community) (0.16.0)\n",
            "Collecting mypy-extensions>=0.3.0 (from typing-inspect<1,>=0.4.0->dataclasses-json<0.7,>=0.5.7->langchain-community)\n",
            "  Downloading mypy_extensions-1.1.0-py3-none-any.whl.metadata (1.1 kB)\n",
            "Requirement already satisfied: sniffio>=1.1 in /usr/local/lib/python3.11/dist-packages (from anyio->httpx<1,>=0.23.0->langsmith<0.4,>=0.1.125->langchain-community) (1.3.1)\n",
            "Downloading langchain_community-0.3.24-py3-none-any.whl (2.5 MB)\n",
            "\u001b[2K   \u001b[90m━━━━━━━━━━━━━━━━━━━━━━━━━━━━━━━━━━━━━━━━\u001b[0m \u001b[32m2.5/2.5 MB\u001b[0m \u001b[31m47.0 MB/s\u001b[0m eta \u001b[36m0:00:00\u001b[0m\n",
            "\u001b[?25hDownloading dataclasses_json-0.6.7-py3-none-any.whl (28 kB)\n",
            "Downloading httpx_sse-0.4.0-py3-none-any.whl (7.8 kB)\n",
            "Downloading pydantic_settings-2.9.1-py3-none-any.whl (44 kB)\n",
            "\u001b[2K   \u001b[90m━━━━━━━━━━━━━━━━━━━━━━━━━━━━━━━━━━━━━━━━\u001b[0m \u001b[32m44.4/44.4 kB\u001b[0m \u001b[31m3.9 MB/s\u001b[0m eta \u001b[36m0:00:00\u001b[0m\n",
            "\u001b[?25hDownloading marshmallow-3.26.1-py3-none-any.whl (50 kB)\n",
            "\u001b[2K   \u001b[90m━━━━━━━━━━━━━━━━━━━━━━━━━━━━━━━━━━━━━━━━\u001b[0m \u001b[32m50.9/50.9 kB\u001b[0m \u001b[31m5.1 MB/s\u001b[0m eta \u001b[36m0:00:00\u001b[0m\n",
            "\u001b[?25hDownloading python_dotenv-1.1.0-py3-none-any.whl (20 kB)\n",
            "Downloading typing_inspect-0.9.0-py3-none-any.whl (8.8 kB)\n",
            "Downloading mypy_extensions-1.1.0-py3-none-any.whl (5.0 kB)\n",
            "Installing collected packages: python-dotenv, mypy-extensions, marshmallow, httpx-sse, typing-inspect, pydantic-settings, dataclasses-json, langchain-community\n",
            "Successfully installed dataclasses-json-0.6.7 httpx-sse-0.4.0 langchain-community-0.3.24 marshmallow-3.26.1 mypy-extensions-1.1.0 pydantic-settings-2.9.1 python-dotenv-1.1.0 typing-inspect-0.9.0\n"
          ]
        }
      ]
    },
    {
      "cell_type": "code",
      "source": [
        "import os\n",
        "from langchain.chat_models import AzureChatOpenAI\n",
        "from langchain_huggingface import HuggingFaceEndpoint, ChatHuggingFace\n",
        "\n",
        "# 課金openai\n",
        "llm_azure = AzureChatOpenAI(\n",
        "    openai_api_base=\"https://intern-bryan.cognitiveservices.azure.com/\",\n",
        "    openai_api_version=\"2024-08-01-preview\",\n",
        "    deployment_name=\"gpt-4o\",\n",
        "    openai_api_key=\"AwKyfa7qPtoM0f9tnZksQSlVKobqzrwVI56Fmbqpv0tU07MM2WV8JQQJ99AKACYeBjFXJ3w3AAAAACOG55vD\",\n",
        "    temperature=0.3,\n",
        ")\n",
        "\n",
        "# 呼叫huggingface上的API模型 (free)\n",
        "llm_endpoint = HuggingFaceEndpoint(\n",
        "    repo_id=\"Qwen/Qwen2.5-32B-Instruct\",\n",
        "    task=\"text-generation\",\n",
        "    max_new_tokens=512,\n",
        "    do_sample=False,\n",
        "    repetition_penalty=1.03,\n",
        ")\n",
        "\n",
        "llm_huggingface = ChatHuggingFace(llm=llm_endpoint, verbose=False)"
      ],
      "metadata": {
        "id": "3lz0rZv-r5CS",
        "outputId": "835dbc30-15a6-4f41-d50a-328f6a5e9984",
        "colab": {
          "base_uri": "https://localhost:8080/"
        }
      },
      "execution_count": 16,
      "outputs": [
        {
          "output_type": "stream",
          "name": "stderr",
          "text": [
            "/usr/local/lib/python3.11/dist-packages/langchain_community/chat_models/azure_openai.py:174: UserWarning: As of openai>=1.0.0, Azure endpoints should be specified via the `azure_endpoint` param not `openai_api_base` (or alias `base_url`). Updating `openai_api_base` from https://intern-bryan.cognitiveservices.azure.com/ to https://intern-bryan.cognitiveservices.azure.com/openai.\n",
            "  warnings.warn(\n",
            "/usr/local/lib/python3.11/dist-packages/langchain_community/chat_models/azure_openai.py:181: UserWarning: As of openai>=1.0.0, if `deployment_name` (or alias `azure_deployment`) is specified then `openai_api_base` (or alias `base_url`) should not be. Instead use `deployment_name` (or alias `azure_deployment`) and `azure_endpoint`.\n",
            "  warnings.warn(\n",
            "/usr/local/lib/python3.11/dist-packages/langchain_community/chat_models/azure_openai.py:189: UserWarning: As of openai>=1.0.0, if `openai_api_base` (or alias `base_url`) is specified it is expected to be of the form https://example-resource.azure.openai.com/openai/deployments/example-deployment. Updating https://intern-bryan.cognitiveservices.azure.com/ to https://intern-bryan.cognitiveservices.azure.com/openai.\n",
            "  warnings.warn(\n"
          ]
        }
      ]
    },
    {
      "cell_type": "code",
      "source": [
        "# LLM選擇器\n",
        "llm_selector = {\n",
        "    \"azure_openai\": llm_azure,\n",
        "    \"huggingface_qwen\": llm_huggingface,}\n",
        "\n",
        "# 預設使用哪個模型\n",
        "llm_api = llm_selector[\"azure_openai\"]"
      ],
      "metadata": {
        "id": "drk8fe0wuWuk"
      },
      "execution_count": 17,
      "outputs": []
    },
    {
      "cell_type": "code",
      "source": [
        "from typing import Annotated\n",
        "from typing_extensions import TypedDict\n",
        "from langgraph.graph import StateGraph, START, END\n",
        "from langgraph.graph.message import add_messages\n",
        "from langchain_core.messages import HumanMessage, AIMessage,  SystemMessage\n",
        "\n",
        "from transformers import AutoTokenizer\n",
        "from langgraph.checkpoint.memory import MemorySaver\n",
        "\n",
        "from functools import partial\n",
        "\n",
        "class State(TypedDict):\n",
        "  messages: Annotated[list, add_messages]\n",
        "\n",
        "# 自己寫 token count function\n",
        "def count_tokens_approximately(messages):\n",
        "    text = \"\\n\".join([msg.content for msg in messages])\n",
        "    return len(tokenizer.encode(text))\n",
        "\n",
        "# 自己寫 trim function (簡單暴力版)\n",
        "def trim_messages(messages, max_tokens):\n",
        "    while count_tokens_approximately(messages) > max_tokens and len(messages) > 1:\n",
        "        messages = messages[1:]  # 移除最舊的一筆\n",
        "    return messages\n",
        "\n",
        "def chatbot(state: State, llm_api):\n",
        "  # 💻code below:\n",
        "  # hint: you can use langchain_core trim_messages function to trim your trim_messages, and count_tokens_approximately to count tokens\n",
        "    # 設定系統提示\n",
        "    system_prompt = \"你是個只能使用繁體中文回答的助理\"\n",
        "    system_message = SystemMessage(content=system_prompt)\n",
        "\n",
        "    messages = state[\"messages\"]                               # 取得目前的訊息\n",
        "    full_messages = [system_message] + messages                # 先把系統訊息加進來\n",
        "    max_tokens = 3000                                          # 設定token上限（例如：總共最多 3000 tokens）\n",
        "    full_messages = trim_messages(full_messages, max_tokens)   # 裁切訊息\n",
        "    response = llm_api.invoke(full_messages)                   # 呼叫llm\n",
        "    return {\"messages\": [response]}\n",
        "\n",
        "# 建立graph\n",
        "graph_builder = StateGraph(State)\n",
        "graph_builder.add_node(\"chatbot\", partial(chatbot, llm_api=llm_api)) # 在graph裡面加入chatbot的node\n",
        "graph_builder.add_edge(START, \"chatbot\")\n",
        "graph_builder.add_edge(\"chatbot\", END)\n",
        "\n",
        "# 加入短期記憶\n",
        "memory = MemorySaver()\n",
        "graph = graph_builder.compile(checkpointer=memory)\n"
      ],
      "metadata": {
        "id": "bwyMby4dggqz"
      },
      "execution_count": 34,
      "outputs": []
    },
    {
      "cell_type": "code",
      "source": [
        "# 看一下graph\n",
        "from IPython.display import Image, display\n",
        "\n",
        "try:\n",
        "  display(Image(graph.get_graph().draw_mermaid_png()))\n",
        "except Exception as e:\n",
        "  print(e)\n",
        "  pass"
      ],
      "metadata": {
        "colab": {
          "base_uri": "https://localhost:8080/",
          "height": 251
        },
        "id": "Tfjeu3c4uhzz",
        "outputId": "bea28a94-19b4-4329-ad60-c09d5fbeb0e1"
      },
      "execution_count": 35,
      "outputs": [
        {
          "output_type": "display_data",
          "data": {
            "image/png": "[encoded data removed]",
            "text/plain": [
              "<IPython.core.display.Image object>"
            ]
          },
          "metadata": {}
        }
      ]
    },
    {
      "cell_type": "code",
      "source": [
        "def stream_graph_updates(user_input: str, config: dict):\n",
        "    for event in graph.stream({\"messages\": [{\"role\": \"user\", \"content\": user_input}]}, config):\n",
        "      if \"chatbot\" in event:\n",
        "        for value in event.values():\n",
        "          print(\"Assistant:\", value[\"messages\"][-1].content)"
      ],
      "metadata": {
        "id": "2Ld1Zg3ersQC"
      },
      "execution_count": 36,
      "outputs": []
    },
    {
      "cell_type": "code",
      "source": [
        "# 設定對話config (第一次對話)\n",
        "config = {\"configurable\": {\"thread_id\": \"conversation_1\"}} # thread_id: 對話id"
      ],
      "metadata": {
        "id": "Jn6-NIHc0jSG"
      },
      "execution_count": 37,
      "outputs": []
    },
    {
      "cell_type": "code",
      "source": [
        "# 開始對話 (可以輸入quit, exit, q，三選一停止對話)\n",
        "while True:\n",
        "  try:\n",
        "    user_input = input(\"User: \")\n",
        "    if user_input.lower() in [\"quit\", \"exit\", \"q\"]:\n",
        "      print(\"Goodbye!\")\n",
        "      break\n",
        "    stream_graph_updates(user_input, config)\n",
        "  except Exception as e:\n",
        "    print(e)\n",
        "    break"
      ],
      "metadata": {
        "id": "wp-MDjLF0ntY",
        "outputId": "d4ea6b7c-fc96-406f-f30d-c320df63ded1",
        "colab": {
          "base_uri": "https://localhost:8080/"
        }
      },
      "execution_count": 38,
      "outputs": [
        {
          "output_type": "stream",
          "name": "stdout",
          "text": [
            "User:  嗨 我是火影忍者迷\n",
            "Assistant: 嗨！很高興認識你！火影忍者是一部非常受歡迎的動漫，你最喜歡的角色或劇情是哪一個呢？\n",
            "User: 我喜歡宇智波佐助\n",
            "Assistant: 宇智波佐助是一個非常受歡迎的角色，他的故事充滿了複雜的情感和成長。他從一開始的復仇心切到後來逐漸理解友情和責任，這段旅程非常引人入勝。你喜歡他哪一部分的故事或特質呢？\n",
            "User: 我們來聊點別的\n",
            "Assistant: 好的！你想聊什麼呢？有什麼其他的興趣或話題是你想討論的嗎？例如其他的動漫、電影、音樂或是任何你感興趣的事情。\n",
            "User: 那你還記得我喜歡甚麼嗎\n",
            "Assistant: 當然記得！你提到過你是火影忍者迷，並且喜歡宇智波佐助。如果有其他興趣或話題想分享，隨時告訴我哦！\n",
            "User: q\n",
            "Goodbye!\n"
          ]
        }
      ]
    },
    {
      "cell_type": "markdown",
      "source": [
        "---"
      ],
      "metadata": {
        "id": "JFqg436etzLs"
      }
    },
    {
      "cell_type": "markdown",
      "source": [
        "# 2.長期記憶"
      ],
      "metadata": {
        "id": "2O2TZ8VqBpuA"
      }
    },
    {
      "cell_type": "markdown",
      "source": [
        "## (1) 基本版\n",
        "🔰 [基本版]\n",
        "- chatbot node: 在chatbot node中，將該使用者的資訊取出，讓入prompt中讓llm依據使用者的資訊給予個人化的回答\n",
        "\n",
        "- write_memory node: 在每一次生成回答後，將使用者的資訊整理成一段對使用者的描述(使用llm，給予system prompt做指引，自行設計如何整理、需要整理哪些資訊)，將整理完的資訊整理到store (可跨threads存取的地方)。\n",
        "\n",
        "- config: config從原本的短期記憶只有thread_id, 也要加入user_id\n",
        "\n",
        "<img src=\"https://drive.google.com/uc?export=view&id=1H4Y0WplOi6R4Eo06Ac2JA_9TbZa2YaRD\" width=\"100\"/>"
      ],
      "metadata": {
        "id": "zZSFFrWiuE3v"
      }
    },
    {
      "cell_type": "code",
      "source": [
        "%%capture --no-stderr\n",
        "!pip install langchain_core"
      ],
      "metadata": {
        "id": "VPEkk6s1uZEg"
      },
      "execution_count": null,
      "outputs": []
    },
    {
      "cell_type": "code",
      "source": [
        "from typing import Annotated\n",
        "from typing_extensions import TypedDict\n",
        "from langgraph.checkpoint.memory import MemorySaver # within-thread memory\n",
        "from langgraph.store.memory import InMemoryStore # cross-thread store\n",
        "\n",
        "from langgraph.graph import StateGraph, START, END\n",
        "from langgraph.graph.message import add_messages\n",
        "\n",
        "from langchain_core.messages import HumanMessage, SystemMessage, AIMessage\n",
        "\n",
        "\n",
        "class State(TypedDict):\n",
        "  messages: Annotated[list, add_messages]\n",
        "\n",
        "def chatbot(__________):\n",
        "  # 💻code here:\n",
        "  # TODO:\n",
        "  # 依據user_id取得長期記憶\n",
        "  # 將長期記憶也放進system prompt中，讓llm可以個人化回覆\n",
        "\n",
        "\n",
        "  return {\"messages\": [AIMessage(content=response)]}\n",
        "\n",
        "\n",
        "def write_memory(________):\n",
        "  # 💻code here:\n",
        "  # TODO:\n",
        "  # 將使用者的對話整理成要儲存成長期記憶的資訊，並存入長期記憶\n",
        "\n",
        "# Define the graph\n",
        "builder = StateGraph(State)\n",
        "builder.add_node(\"chatbot\", chatbot)\n",
        "builder.add_node(\"write_memory\", write_memory)\n",
        "builder.add_edge(START, \"chatbot\")\n",
        "builder.add_edge(\"chatbot\", \"write_memory\")\n",
        "builder.add_edge(\"write_memory\", END)\n",
        "\n",
        "\n",
        "# Compile the graph with the checkpointer fir and store\n",
        "\n",
        "# 💻Code Here\n",
        "# 記得放入短期記憶，長期記憶的store\n",
        "graph = builder.compile(checkpointer=______, store=________)\n"
      ],
      "metadata": {
        "id": "5czQ-VSKBICQ"
      },
      "execution_count": null,
      "outputs": []
    },
    {
      "cell_type": "code",
      "source": [
        "# View\n",
        "from IPython.display import Image, display\n",
        "try:\n",
        "  display(Image(graph.get_graph().draw_mermaid_png()))\n",
        "except Exception as e:\n",
        "  print(e)\n",
        "  pass"
      ],
      "metadata": {
        "id": "KPPiEQpvHKl8"
      },
      "execution_count": null,
      "outputs": []
    },
    {
      "cell_type": "code",
      "source": [
        "def stream_graph_updates(user_input: str, config: dict):\n",
        "    for event in graph.stream({\"messages\": [{\"role\": \"user\", \"content\": user_input}]}, config):\n",
        "        if \"chatbot\" in event:\n",
        "          for value in event.values():\n",
        "              print(\"Assistant:\", value[\"messages\"][-1].content)"
      ],
      "metadata": {
        "id": "zjdk4Y1tvXyb"
      },
      "execution_count": null,
      "outputs": []
    },
    {
      "cell_type": "code",
      "source": [
        "# 使用者A的第一次對話\n",
        "config = {\"configurable\": {\"thread_id\": \"conversation_1\", \"user_id\": \"user_a\"}}"
      ],
      "metadata": {
        "id": "GMyA_OCNBIEW"
      },
      "execution_count": null,
      "outputs": []
    },
    {
      "cell_type": "code",
      "source": [
        "# 開始對話 (可以輸入quit, exit, q，三選一停止對話)\n",
        "while True:\n",
        "  try:\n",
        "    user_input = input(\"User: \")\n",
        "    if user_input.lower() in [\"quit\", \"exit\", \"q\"]:\n",
        "      print(\"Goodbye!\")\n",
        "      break\n",
        "    stream_graph_updates(user_input, config)\n",
        "  except Exception as e:\n",
        "    print(e)\n",
        "    break"
      ],
      "metadata": {
        "id": "GTx7BfHTvVVa"
      },
      "execution_count": null,
      "outputs": []
    },
    {
      "cell_type": "code",
      "source": [
        "# 使用者A的第二次對話\n",
        "config = {\"configurable\": {\"thread_id\": \"conversation_2\", \"user_id\": \"user_a\"}}"
      ],
      "metadata": {
        "id": "hnwxAcAqvgzE"
      },
      "execution_count": null,
      "outputs": []
    },
    {
      "cell_type": "code",
      "source": [
        "# 開始對話 (可以輸入quit, exit, q，三選一停止對話)\n",
        "while True:\n",
        "  try:\n",
        "    user_input = input(\"User: \")\n",
        "    if user_input.lower() in [\"quit\", \"exit\", \"q\"]:\n",
        "      print(\"Goodbye!\")\n",
        "      break\n",
        "    stream_graph_updates(user_input, config)\n",
        "  except Exception as e:\n",
        "    print(e)\n",
        "    break"
      ],
      "metadata": {
        "id": "qOyjZJ_HvmIk"
      },
      "execution_count": null,
      "outputs": []
    },
    {
      "cell_type": "markdown",
      "source": [
        "## (2) 進階版\n",
        "\n",
        "👨‍🎓 [進階版]\n",
        "- chatbot node: 可以決定使用者的問題是否需要從長期記憶中取得資訊，以及需要取得什麼資訊\n",
        "- write_memory node: 可以整理成特定格式 (例如：使用with_structured_output，相關概念可以延伸到R3 tool calling內容)。例如：\n",
        "```\n",
        "user_profile = {\n",
        "  \"first_name\": \"XXXX\",\n",
        "  \"last_name\": \"OOO\",\n",
        "  \"preferred_lang\": [\"en\", \"zh-tw\"]\n",
        "}\n",
        "```\n",
        "- 也可以自行將graph結構調整自己喜歡的(增刪不同node, conditional router, ...)"
      ],
      "metadata": {
        "id": "2qIEWoYKwExU"
      }
    },
    {
      "cell_type": "code",
      "source": [
        "# 💻code here, enjoy the ride 😎\n"
      ],
      "metadata": {
        "id": "5MLcnXZAwHeE"
      },
      "execution_count": null,
      "outputs": []
    },
    {
      "cell_type": "code",
      "source": [],
      "metadata": {
        "id": "jyJZA50xwZBf"
      },
      "execution_count": null,
      "outputs": []
    }
  ]
}
