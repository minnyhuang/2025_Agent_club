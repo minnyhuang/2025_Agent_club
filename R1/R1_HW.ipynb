{
  "cells": [
    {
      "cell_type": "code",
      "source": [
        "!pip install -q langchain langgraph transformers bitsandbytes langchain-huggingface langchain-community chromadb"
      ],
      "metadata": {
        "id": "9oMXDVngTxd5"
      },
      "execution_count": 1,
      "outputs": []
    },
    {
      "cell_type": "code",
      "source": [
        "from transformers import AutoTokenizer, AutoModelForCausalLM, pipeline, BitsAndBytesConfig\n",
        "from langchain_huggingface import HuggingFacePipeline\n",
        "\n",
        "# 使用 4-bit 量化模型\n",
        "model_id = \"MediaTek-Research/Breeze-7B-Instruct-v1_0\"\n",
        "\n",
        "quant_config = BitsAndBytesConfig(\n",
        "    load_in_4bit=True,\n",
        "    bnb_4bit_quant_type=\"nf4\",\n",
        "    bnb_4bit_use_double_quant=True,\n",
        "    llm_int8_threshold=6.0,\n",
        ")\n",
        "\n",
        "# 載入 tokenizer 與 4-bit 模型\n",
        "tokenizer = AutoTokenizer.from_pretrained(model_id, use_fast=True)\n",
        "model = AutoModelForCausalLM.from_pretrained(\n",
        "    model_id,\n",
        "    device_map=\"auto\",\n",
        "    quantization_config=quant_config,\n",
        "    trust_remote_code=True\n",
        ")"
      ],
      "metadata": {
        "id": "yyo3YI-UWb3h",
        "outputId": "e48b16d3-1c1e-40c6-8713-c03092fc2414",
        "colab": {
          "base_uri": "https://localhost:8080/",
          "height": 176,
          "referenced_widgets": [
            "e6402a9efa7e41d9bd326c702dd89fbc",
            "752c9ca32c154f10b52b63710fbef35a",
            "9d8d736f6a064e6eaff5f2886929aeba",
            "b1cb798c31b3452494f85f6d727fad62",
            "5af1e971fea5447b88db6b4fe0463ca7",
            "23329d014d034e69ad28070bc845bec9",
            "e1c7e53a5a1845d4b3bac15c1d5a0e4c",
            "2f5b2ea1219b4c61b898844b9f3eaf33",
            "952f6b2518f8412988dbf1e50e2a5087",
            "e8c651330dff455692c7ebd0b889019b",
            "70dca5d864a141758b9b34a373f300ff"
          ]
        }
      },
      "execution_count": 2,
      "outputs": [
        {
          "output_type": "stream",
          "name": "stderr",
          "text": [
            "/usr/local/lib/python3.11/dist-packages/huggingface_hub/utils/_auth.py:94: UserWarning: \n",
            "The secret `HF_TOKEN` does not exist in your Colab secrets.\n",
            "To authenticate with the Hugging Face Hub, create a token in your settings tab (https://huggingface.co/settings/tokens), set it as secret in your Google Colab and restart your session.\n",
            "You will be able to reuse this secret in all of your notebooks.\n",
            "Please note that authentication is recommended but still optional to access public models or datasets.\n",
            "  warnings.warn(\n"
          ]
        },
        {
          "output_type": "display_data",
          "data": {
            "text/plain": [
              "Loading checkpoint shards:   0%|          | 0/4 [00:00<?, ?it/s]"
            ],
            "application/vnd.jupyter.widget-view+json": {
              "version_major": 2,
              "version_minor": 0,
              "model_id": "e6402a9efa7e41d9bd326c702dd89fbc"
            }
          },
          "metadata": {}
        }
      ]
    },
    {
      "cell_type": "code",
      "source": [
        "# 建立 text generation pipeline\n",
        "generator = pipeline(\n",
        "    task=\"text-generation\",\n",
        "    model=model,\n",
        "    tokenizer=tokenizer,\n",
        "    max_new_tokens=512,\n",
        "    do_sample=True,\n",
        "    temperature=0.4,\n",
        "    return_full_text=False # 僅返回生成的回應內容\n",
        ")\n",
        "\n",
        "# 包裝成 LangChain 的 llm 物件\n",
        "llm = HuggingFacePipeline(pipeline=generator)"
      ],
      "metadata": {
        "id": "phE8eW94WdYB",
        "outputId": "6135a6e6-c39a-4a3e-b6cc-c15d67437018",
        "colab": {
          "base_uri": "https://localhost:8080/"
        }
      },
      "execution_count": 3,
      "outputs": [
        {
          "output_type": "stream",
          "name": "stderr",
          "text": [
            "Device set to use cuda:0\n"
          ]
        }
      ]
    },
    {
      "cell_type": "code",
      "source": [
        "from langchain_core.documents import Document\n",
        "from langchain.vectorstores import Chroma\n",
        "from langchain.embeddings import HuggingFaceEmbeddings"
      ],
      "metadata": {
        "id": "3rzVc3sRY8cq"
      },
      "execution_count": 4,
      "outputs": []
    },
    {
      "cell_type": "markdown",
      "metadata": {
        "id": "XOPXxjexDMDZ"
      },
      "source": [
        "# baseline"
      ]
    },
    {
      "cell_type": "markdown",
      "metadata": {
        "id": "3hvn98KdEE9_"
      },
      "source": [
        "將`關鍵字`比對換成`向量相似度`比對。"
      ]
    },
    {
      "cell_type": "markdown",
      "metadata": {
        "id": "pV4-rfIDDz7D"
      },
      "source": [
        "> 請將目前使用關鍵字比對的 route_by_query，改為使用向量相似度進行分類，並設一個合理的相似度門檻，根據檢索結果的分數判斷是否走 RAG 流程。  \n",
        "例如用向量相似度及自訂 threshold 決定要不要分到 retriever。"
      ]
    },
    {
      "cell_type": "markdown",
      "metadata": {
        "id": "W2jMeAOuJ2OM"
      },
      "source": [
        "> Hint：similarity_search_with_score(...)  \n",
        "可參考去年的讀書會 R4：向量資料庫的基本操作"
      ]
    },
    {
      "cell_type": "code",
      "execution_count": null,
      "metadata": {
        "id": "uGc7o1k0LvdY"
      },
      "outputs": [],
      "source": [
        "docs_text = \"\"\"\n",
        "火影代數\t姓名\t師傅\t徒弟\n",
        "初代\t千手柱間\t無明確記載\t猿飛日斬、水戶門炎、轉寢小春\n",
        "二代\t千手扉間\t千手柱間（兄長）\t猿飛日斬、志村團藏、宇智波鏡等\n",
        "三代\t猿飛日斬\t千手柱間、千手扉間\t自來也、大蛇丸、千手綱手（傳說三忍）\n",
        "四代\t波風湊\t自來也\t旗木卡卡西、宇智波帶土、野原琳\n",
        "五代\t千手綱手\t猿飛日斬\t春野櫻、志乃等（主要為春野櫻）\n",
        "六代\t旗木卡卡西\t波風湊\t漩渦鳴人、宇智波佐助、春野櫻（第七班）\n",
        "七代\t漩渦鳴人\t自來也、旗木卡卡西\t木葉丸等（主要為木葉丸）\n",
        "\"\"\""
      ]
    },
    {
      "cell_type": "code",
      "execution_count": null,
      "metadata": {
        "id": "CDN-jWJhNNNr",
        "outputId": "8650e2ee-6256-4cea-a61e-c68385a6fd45",
        "colab": {
          "base_uri": "https://localhost:8080/",
          "height": 428,
          "referenced_widgets": [
            "f2159c4cd70d4a1e97e03703d217a18b",
            "7d0ca3a0101c47d6ab675567acd9b6d5",
            "dde8c6dca0f349e2be2d59010b051f0a",
            "6d759ae216704bc5be0b3b56ec58940e",
            "d5d6da4da4e541c18be7e407bcd72c55",
            "56f742f0a35c4c098791d6b67ad57e93",
            "0d907b99cdbe4c39920f6cdb003884d0",
            "62a38e1131804093b1a6a020ee953146",
            "eb8658917fbe45758d1f60e6bf0e5317",
            "8019020d725843d1999238f202f23f6d",
            "bc1535104fbe4c149b1e611040761fcc",
            "733178702e654cae8366907cc4e52182",
            "d984065e4f2a4f3098d437bde77c0d37",
            "4c9e97e58a144f98ba7f32fc06db1049",
            "1237410d4b4847f3acc2c5f73a098a70",
            "ef27bf5b69e14a4f81f20eb2ba24fe81",
            "5db63f989f8b42a4bc025508ef4c4cad",
            "8b3cc9f3d3cb4b60a89869585d970c32",
            "2bda0266505945b58e445f0bd2875674",
            "2f2ef1f84af248ac8baac0aa417d9478",
            "fc0a87a7b47d465ca55cb7e08c575721",
            "edb8f834e6834af185507c3146de78f1",
            "c1c82c8c52e24b6386791981dc9aba2a",
            "a386647e9f7a448ab13860da58d7dff7",
            "be6c34ef6f8a4cd9ad35add19319977e",
            "e2a96ef1c5cf4aa3b6821af90dc9a3ec",
            "f6211282f5b34da29325daddcfc19350",
            "e491dc558c5345238694ba0e061f1da0",
            "4bfb37ce147941fc9d8646542457d565",
            "76924ea5dd844b27b6295afa25713010",
            "da2cfcea314a4ac5b39be62484626ab4",
            "2ac9ca47aa924aaabefb5f891cf67e32",
            "149becca23b04ecab1780c909679e7c9",
            "f0553b3981ea4d1199a017f372029d11",
            "f7b7126931a34b3e85bcc43f939bb708",
            "6a8d3c624b984b4cb1ab298f8839acf3",
            "79195acfd79645aa9e397d391c98fb5d",
            "8f40559e238242af8c6694d1c903a44b",
            "eb11eea571534d809e358b486a795e46",
            "dbdaf11fa31a4d6e8fff5a116b69a8f9",
            "d97c288b13ee4c2d88117c30984999ca",
            "15db483268ac414ba3cd26a02ab685cf",
            "87c2c75d9f814babb9e8028e55bf54a6",
            "d25de293114c4246b55847dfa3d3060e",
            "d63f3afe028f4aea91610fd36084ca5e",
            "52313aa122824390acabea6d87d09ffb",
            "4a2c75196a444386b832ee3cbb16d26c",
            "ec5dff849e1147709385a7a2452c214a",
            "4aee7338f22c4140bf81e560f605741b",
            "2ef6f74a487949cea6b6b87f1715f111",
            "032bc3a295c14d9882c617abbc791d3e",
            "d62aa4931c254faf91540a5e299c8da0",
            "25ecca8ecad346a6bd54ad531bc82c9c",
            "2953dd7cf2264b70a79444cb8fb11c7e",
            "af85d82e21c2429fb455be212179a894",
            "343ae50db613428b9a38c3d2722163d1",
            "2555cf6f826d413190535c49f2938199",
            "e80caad02d134d1082376b2714dc8a16",
            "735300bf00e04fd6834a172c6742da44",
            "c8a18570b4c84a92a1ac951090c880c0",
            "3ed6d1b58fb24da88b3352792233cd1f",
            "8e00b72944804955b79808da77d94a68",
            "07575294319a440aaac803f5ce3b494f",
            "bf3e49e8c1cb49df8330a6839636326e",
            "a42bef70e24e42eaae112aa19e5f0dd3",
            "9118050c1dd0458899b75f402cced6b0",
            "c648f2986fd6454f86f9861ddc04cf83",
            "236981b8378142e9814f892033f8d64c",
            "abd61b4ab1ba468ba5ad883bf0e064b0",
            "70b345442e054b5b9102ca26247b3d3d",
            "c3602b2cb88045e4adb854e506c8e354",
            "25fb5e5472cb4e5ca39c5e66eb0b0a75",
            "5d7c18caad8a441ea9944298cb27a412",
            "e8fba7acf37f4a64a29532b8219fac61",
            "73e87676f2154ace9da098478b096f5d",
            "803540362e7642c0aead308c058381d4",
            "c6cb131ba359455a88848276efc8f7f6",
            "ce28d707f7e543ae90b192b269f9b93c",
            "f7b0ef22da6e4242a0ca51cb3c247232",
            "b2887b21b0384c10b70ddb228f40de2f",
            "1885fb4cb7614c9097b9e1de5c322acd",
            "a0015dabb4414997b3c9d3ed11ff4439",
            "3180c5fcd6b0408d85b3ba4c2e340e3b",
            "e0c4f2f650cc455db30df0b7f7fd791b",
            "5e4d482bb0fd4c8289b76703cd7a2b28",
            "0e0ea61da5a34ed2bbcf7d433ab4bc15",
            "54a49481d6af497bae03670799a485db",
            "3958a139d7784df088357951089500be",
            "cbc44a3574d045bc96abc7f97ab3de78",
            "a553e6bca35b4100ac319ab5af7ec124",
            "b6aead4de24343e98599fbbe4a724234",
            "a6fb4ded5cbb45829e3e363149063d33",
            "9af21251e9be491bbc00d75d4397230e",
            "965e314edb9140d6a150a188cce3ac2c",
            "e6e7c890f89e44c2862ff7940986b7d0",
            "ccf9a22de7e44ce28d1e8c71a9a14563",
            "2359b1060cd547ed8ea692b490d163d1",
            "8a9073f4b2d9437fa1b4e9e69268a584",
            "219876243f904502931f29e6e3c8e053",
            "991c5b8d146d4af7aac891f9ad1565e3",
            "ddb78acef9b048d19f2d182f9b975a21",
            "cc173979638b44cdbddae56f5ab10b67",
            "eb49af98c8ca46d089605bf94eacdc64",
            "1695b1143a28450d86c372c7117e7b2a",
            "5b2ca6d81e8746849b4b9699de79d9e8",
            "4016a9a368fd430c94b0aa98e3d972a7",
            "6a092e30abf4483db3e30facaf7839f4",
            "2ca50e0bfa664d74a519362fa8bdcf1d",
            "b6c1f5cbba2d4e90a67df42afec3a552",
            "198c7ddb25ab42a7bae908bab93d5781"
          ]
        }
      },
      "outputs": [
        {
          "output_type": "stream",
          "name": "stderr",
          "text": [
            "<ipython-input-6-553ff329c896>:4: LangChainDeprecationWarning: The class `HuggingFaceEmbeddings` was deprecated in LangChain 0.2.2 and will be removed in 1.0. An updated version of the class exists in the :class:`~langchain-huggingface package and should be used instead. To use it run `pip install -U :class:`~langchain-huggingface` and import as `from :class:`~langchain_huggingface import HuggingFaceEmbeddings``.\n",
            "  embedding_model = HuggingFaceEmbeddings(\n"
          ]
        },
        {
          "output_type": "display_data",
          "data": {
            "text/plain": [
              "modules.json:   0%|          | 0.00/311 [00:00<?, ?B/s]"
            ],
            "application/vnd.jupyter.widget-view+json": {
              "version_major": 2,
              "version_minor": 0,
              "model_id": "f2159c4cd70d4a1e97e03703d217a18b"
            }
          },
          "metadata": {}
        },
        {
          "output_type": "display_data",
          "data": {
            "text/plain": [
              "README.md:   0%|          | 0.00/32.1k [00:00<?, ?B/s]"
            ],
            "application/vnd.jupyter.widget-view+json": {
              "version_major": 2,
              "version_minor": 0,
              "model_id": "733178702e654cae8366907cc4e52182"
            }
          },
          "metadata": {}
        },
        {
          "output_type": "display_data",
          "data": {
            "text/plain": [
              "sentence_bert_config.json:   0%|          | 0.00/51.0 [00:00<?, ?B/s]"
            ],
            "application/vnd.jupyter.widget-view+json": {
              "version_major": 2,
              "version_minor": 0,
              "model_id": "c1c82c8c52e24b6386791981dc9aba2a"
            }
          },
          "metadata": {}
        },
        {
          "output_type": "display_data",
          "data": {
            "text/plain": [
              "config.json:   0%|          | 0.00/533 [00:00<?, ?B/s]"
            ],
            "application/vnd.jupyter.widget-view+json": {
              "version_major": 2,
              "version_minor": 0,
              "model_id": "f0553b3981ea4d1199a017f372029d11"
            }
          },
          "metadata": {}
        },
        {
          "output_type": "display_data",
          "data": {
            "text/plain": [
              "pytorch_model.bin:   0%|          | 0.00/408M [00:00<?, ?B/s]"
            ],
            "application/vnd.jupyter.widget-view+json": {
              "version_major": 2,
              "version_minor": 0,
              "model_id": "d63f3afe028f4aea91610fd36084ca5e"
            }
          },
          "metadata": {}
        },
        {
          "output_type": "stream",
          "name": "stderr",
          "text": [
            "Some weights of BertModel were not initialized from the model checkpoint at infgrad/stella-base-zh-v3-1792d and are newly initialized: ['pooler.dense.bias', 'pooler.dense.weight']\n",
            "You should probably TRAIN this model on a down-stream task to be able to use it for predictions and inference.\n"
          ]
        },
        {
          "output_type": "display_data",
          "data": {
            "text/plain": [
              "vocab.txt:   0%|          | 0.00/110k [00:00<?, ?B/s]"
            ],
            "application/vnd.jupyter.widget-view+json": {
              "version_major": 2,
              "version_minor": 0,
              "model_id": "343ae50db613428b9a38c3d2722163d1"
            }
          },
          "metadata": {}
        },
        {
          "output_type": "display_data",
          "data": {
            "text/plain": [
              "model.safetensors:   0%|          | 0.00/408M [00:00<?, ?B/s]"
            ],
            "application/vnd.jupyter.widget-view+json": {
              "version_major": 2,
              "version_minor": 0,
              "model_id": "c648f2986fd6454f86f9861ddc04cf83"
            }
          },
          "metadata": {}
        },
        {
          "output_type": "display_data",
          "data": {
            "text/plain": [
              "config.json:   0%|          | 0.00/185 [00:00<?, ?B/s]"
            ],
            "application/vnd.jupyter.widget-view+json": {
              "version_major": 2,
              "version_minor": 0,
              "model_id": "ce28d707f7e543ae90b192b269f9b93c"
            }
          },
          "metadata": {}
        },
        {
          "output_type": "display_data",
          "data": {
            "text/plain": [
              "config.json:   0%|          | 0.00/121 [00:00<?, ?B/s]"
            ],
            "application/vnd.jupyter.widget-view+json": {
              "version_major": 2,
              "version_minor": 0,
              "model_id": "cbc44a3574d045bc96abc7f97ab3de78"
            }
          },
          "metadata": {}
        },
        {
          "output_type": "display_data",
          "data": {
            "text/plain": [
              "pytorch_model.bin:   0%|          | 0.00/5.51M [00:00<?, ?B/s]"
            ],
            "application/vnd.jupyter.widget-view+json": {
              "version_major": 2,
              "version_minor": 0,
              "model_id": "991c5b8d146d4af7aac891f9ad1565e3"
            }
          },
          "metadata": {}
        }
      ],
      "source": [
        "docs = [Document(page_content=txt.strip()) for txt in docs_text.strip().split(\"\\n\\n\")]\n",
        "\n",
        "# chromadb 預設使用的大型語言模型為 \"all-MiniLM-L6-v2\"，由於該大型語言模型不支持中文，所以將模型替換為 \"infgrad/stella-base-zh-v3-1792d\"，並對 embedding 進行量化\n",
        "embedding_model = HuggingFaceEmbeddings(\n",
        "    model_name=\"infgrad/stella-base-zh-v3-1792d\",\n",
        "    encode_kwargs={\"normalize_embeddings\": True}\n",
        ")\n",
        "\n",
        "persist_path = \"document_store\"\n",
        "collection_name = \"naruto_collection\"\n",
        "vectorstore = Chroma.from_documents(\n",
        "    documents=docs,\n",
        "    embedding=embedding_model,\n",
        "    persist_directory=persist_path,\n",
        "    collection_name=collection_name\n",
        ")"
      ]
    },
    {
      "cell_type": "code",
      "source": [
        "from typing_extensions import TypedDict, List\n",
        "\n",
        "# 定義 LangGraph 的 State 結構\n",
        "class RAGState(TypedDict):\n",
        "    query: str\n",
        "    docs: List[Document]\n",
        "    answer: str"
      ],
      "metadata": {
        "id": "J_LjgQuiZGZS"
      },
      "execution_count": null,
      "outputs": []
    },
    {
      "cell_type": "code",
      "source": [
        "def retrieve_node(state: RAGState) -> RAGState:\n",
        "    query = state[\"query\"]\n",
        "    # similarity_search 距離越小越相似\n",
        "    docs = vectorstore.similarity_search(query, k=3)\n",
        "    return {\"query\": query, \"docs\": docs, \"answer\": \"\"}\n",
        "\n",
        "def generate_node(state: RAGState) -> RAGState:\n",
        "    query, docs = state[\"query\"], state[\"docs\"]\n",
        "    context = \"\\n\".join([d.page_content for d in docs])\n",
        "    prompt = (\n",
        "        f\"你是一個知識型助手，請根據以下內容回答問題：\\n\\n\"\n",
        "        f\"內容：{context}\\n\\n\"\n",
        "        f\"問題：{query}\\n\\n回答：\"\n",
        "    )\n",
        "    output = generator(prompt, max_new_tokens=200)[0][\"generated_text\"]\n",
        "    return {\"query\": query, \"docs\": docs, \"answer\": output}\n",
        "\n",
        "def direct_generate_node(state: RAGState) -> RAGState:\n",
        "    query = state[\"query\"]\n",
        "    prompt = f\"請回答以下問題：{query}\\n\\n回答：\"\n",
        "    output = generator(prompt, max_new_tokens=200)[0][\"generated_text\"]\n",
        "    return {\"query\": query, \"docs\": [], \"answer\": output}\n",
        "\n",
        "# 定義 Route Node（決定走哪條路）\n",
        "def route_by_query(state):\n",
        "    query = state[\"query\"]\n",
        "\n",
        "    # 取得最相近的一筆與其相似度分數\n",
        "    doc_score_pair = vectorstore.similarity_search_with_score(query, k=1)[0]\n",
        "    top_doc, score = doc_score_pair\n",
        "\n",
        "    # 距離越小越相似 → 分數越高越不相似（依 embedding 而定，這裡假設 cosine distance）\n",
        "    threshold = 0.85  # 自訂門檻值，需依實際資料調整\n",
        "    use_rag = score <= threshold\n",
        "    choice = \"naruto\" if use_rag else \"general\"\n",
        "\n",
        "    print(f\"相似度分數 = {score}；跑到 → {choice}\")\n",
        "    return choice"
      ],
      "metadata": {
        "id": "WxM8OitjZb_D"
      },
      "execution_count": null,
      "outputs": []
    },
    {
      "cell_type": "code",
      "source": [
        "from langchain_core.runnables import RunnableLambda\n",
        "from langgraph.graph import StateGraph, END\n",
        "\n",
        "# 建立 LangGraph 流程圖\n",
        "graph_builder = StateGraph(RAGState)\n",
        "\n",
        "graph_builder.set_entry_point(\"condition\")\n",
        "graph_builder.add_node(\"condition\", RunnableLambda(lambda x: x))  # 進來就分流，不改變內容\n",
        "graph_builder.add_node(\"retriever\", RunnableLambda(retrieve_node))\n",
        "graph_builder.add_node(\"generator\", RunnableLambda(generate_node))\n",
        "graph_builder.add_node(\"direct_generator\", RunnableLambda(direct_generate_node))\n",
        "\n",
        "# 設定條件分流\n",
        "graph_builder.add_conditional_edges(\n",
        "    source=\"condition\",\n",
        "    path=RunnableLambda(route_by_query),\n",
        "    path_map={\n",
        "        \"naruto\": \"retriever\",\n",
        "        \"general\": \"direct_generator\",\n",
        "    }\n",
        ")\n",
        "\n",
        "# 接下來的正常連接\n",
        "graph_builder.add_edge(\"retriever\", \"generator\")\n",
        "graph_builder.add_edge(\"generator\", END)\n",
        "graph_builder.add_edge(\"direct_generator\", END)\n",
        "\n",
        "# 編譯 Graph\n",
        "graph = graph_builder.compile()"
      ],
      "metadata": {
        "id": "ueMIgCAoaDZK"
      },
      "execution_count": null,
      "outputs": []
    },
    {
      "cell_type": "code",
      "source": [
        "from IPython.display import Image, display\n",
        "\n",
        "try:\n",
        "    display(Image(graph.get_graph(xray=True).draw_mermaid_png()))\n",
        "except Exception:\n",
        "    pass"
      ],
      "metadata": {
        "id": "HYAP2QUFaIAR",
        "outputId": "262315f3-f572-4f94-b565-141a7b2e52d3",
        "colab": {
          "base_uri": "https://localhost:8080/",
          "height": 473
        }
      },
      "execution_count": null,
      "outputs": [
        {
          "output_type": "display_data",
          "data": {
            "image/png": "[encoded data removed]",
            "text/plain": [
              "<IPython.core.display.Image object>"
            ]
          },
          "metadata": {}
        }
      ]
    },
    {
      "cell_type": "code",
      "execution_count": null,
      "metadata": {
        "colab": {
          "base_uri": "https://localhost:8080/"
        },
        "id": "wflAEri34xe5",
        "outputId": "42d6bcde-7601-4f5a-ce10-b37c229c5fb8"
      },
      "outputs": [
        {
          "output_type": "stream",
          "name": "stdout",
          "text": [
            "開始對話吧（輸入 q 結束）\n",
            "使用者: 誰是第四代火影？\n",
            "相似度分數 = 0.5874661207199097；跑到 → naruto\n"
          ]
        },
        {
          "output_type": "stream",
          "name": "stderr",
          "text": [
            "/usr/local/lib/python3.11/dist-packages/bitsandbytes/nn/modules.py:451: UserWarning: Input type into Linear4bit is torch.float16, but bnb_4bit_compute_dtype=torch.float32 (default). This will lead to slow inference or training speed.\n",
            "  warnings.warn(\n"
          ]
        },
        {
          "output_type": "stream",
          "name": "stdout",
          "text": [
            "回答： 第四代火影是波風湊。\n",
            "============================================================ \n",
            "\n",
            "使用者: 第四代火影師父是誰?\n",
            "相似度分數 = 0.5676823854446411；跑到 → naruto\n",
            "回答： 第四代火影師父是自來也。\n",
            "============================================================ \n",
            "\n",
            "使用者: 第四代火影的徒弟有哪些人?\n",
            "相似度分數 = 0.5047122240066528；跑到 → naruto\n",
            "回答： 第四代火影的徒弟有旗木卡卡西、宇智波帶土、野原琳。\n",
            "============================================================ \n",
            "\n",
            "使用者: 誰發明了相對論?\n",
            "相似度分數 = 1.2753480672836304；跑到 → general\n",
            "回答： 愛因斯坦（Albert Einstein）發明了相對論。\n",
            "============================================================ \n",
            "\n",
            "使用者: q\n",
            "掰啦！\n"
          ]
        }
      ],
      "source": [
        "print(\"開始對話吧（輸入 q 結束）\")\n",
        "\n",
        "while True:\n",
        "    user_input = input(\"使用者: \")\n",
        "    if user_input.strip().lower() in [\"q\", \"quit\", \"exit\"]:\n",
        "        print(\"掰啦！\")\n",
        "        break\n",
        "\n",
        "    init_state: RAGState = {\n",
        "        \"query\": user_input,\n",
        "        \"docs\": [],\n",
        "        \"answer\": \"\"\n",
        "    }\n",
        "\n",
        "    result = graph.invoke(init_state)\n",
        "    raw_output = result[\"answer\"]\n",
        "\n",
        "    answer_text = raw_output.split(\"回答：\")[-1].strip()\n",
        "    print(\"回答：\", answer_text)\n",
        "    print(\"===\" * 20, \"\\n\")"
      ]
    },
    {
      "cell_type": "markdown",
      "metadata": {
        "id": "v8blDsDnDpbO"
      },
      "source": [
        "# advance"
      ]
    },
    {
      "cell_type": "markdown",
      "metadata": {
        "id": "ofkLZjzHENNT"
      },
      "source": [
        "改成能支援多輪問答（Multi-turn RAG），並能根據前面的query判斷問題。"
      ]
    },
    {
      "cell_type": "markdown",
      "metadata": {
        "id": "r2VXz7FxEONI"
      },
      "source": [
        "> 請將 RAGState 加入 history 欄位，並在生成回答時，將歷史對話與當前問題一起組成 prompt。"
      ]
    },
    {
      "cell_type": "markdown",
      "metadata": {
        "id": "6eSvoKFiKqP5"
      },
      "source": [
        "> Hint：\n",
        "```\n",
        "class MultiTurnRAGState(TypedDict):  \n",
        "    history: List[str]  \n",
        "    query: str  \n",
        "    docs: List[Document]  \n",
        "    answer: str\n",
        "```\n",
        "\n"
      ]
    },
    {
      "cell_type": "code",
      "execution_count": 5,
      "metadata": {
        "id": "50GrH76YP1eu"
      },
      "outputs": [],
      "source": [
        "docs_text = \"\"\"\n",
        "火影代數\t姓名\t師傅\t徒弟\n",
        "初代\t千手柱間\t無明確記載\t猿飛日斬、水戶門炎、轉寢小春\n",
        "二代\t千手扉間\t千手柱間（兄長）\t猿飛日斬、志村團藏、宇智波鏡等\n",
        "三代\t猿飛日斬\t千手柱間、千手扉間\t自來也、大蛇丸、千手綱手（傳說三忍）\n",
        "四代\t波風湊\t自來也\t旗木卡卡西、宇智波帶土、野原琳\n",
        "五代\t千手綱手\t猿飛日斬\t春野櫻、志乃等（主要為春野櫻）\n",
        "六代\t旗木卡卡西\t波風湊\t漩渦鳴人、宇智波佐助、春野櫻（第七班）\n",
        "七代\t漩渦鳴人\t自來也、旗木卡卡西\t木葉丸等（主要為木葉丸）\n",
        "\"\"\""
      ]
    },
    {
      "cell_type": "code",
      "source": [
        "docs = [Document(page_content=txt.strip()) for txt in docs_text.strip().split(\"\\n\\n\")]\n",
        "\n",
        "# chromadb 預設使用的大型語言模型為 \"all-MiniLM-L6-v2\"，由於該大型語言模型不支持中文，所以將模型替換為 \"infgrad/stella-base-zh-v3-1792d\"，並對 embedding 進行量化\n",
        "embedding_model = HuggingFaceEmbeddings(\n",
        "    model_name=\"infgrad/stella-base-zh-v3-1792d\",\n",
        "    encode_kwargs={\"normalize_embeddings\": True}\n",
        ")\n",
        "\n",
        "persist_path = \"document_store\"\n",
        "collection_name = \"naruto_collection\"\n",
        "vectorstore = Chroma.from_documents(\n",
        "    documents=docs,\n",
        "    embedding=embedding_model,\n",
        "    persist_directory=persist_path,\n",
        "    collection_name=collection_name\n",
        ")"
      ],
      "metadata": {
        "id": "KRqayYsimIhE",
        "outputId": "26f05539-217e-4748-fcce-6a01afb7d9fe",
        "colab": {
          "base_uri": "https://localhost:8080/"
        }
      },
      "execution_count": 6,
      "outputs": [
        {
          "output_type": "stream",
          "name": "stderr",
          "text": [
            "<ipython-input-6-553ff329c896>:4: LangChainDeprecationWarning: The class `HuggingFaceEmbeddings` was deprecated in LangChain 0.2.2 and will be removed in 1.0. An updated version of the class exists in the :class:`~langchain-huggingface package and should be used instead. To use it run `pip install -U :class:`~langchain-huggingface` and import as `from :class:`~langchain_huggingface import HuggingFaceEmbeddings``.\n",
            "  embedding_model = HuggingFaceEmbeddings(\n",
            "Some weights of BertModel were not initialized from the model checkpoint at infgrad/stella-base-zh-v3-1792d and are newly initialized: ['pooler.dense.bias', 'pooler.dense.weight']\n",
            "You should probably TRAIN this model on a down-stream task to be able to use it for predictions and inference.\n"
          ]
        }
      ]
    },
    {
      "cell_type": "code",
      "execution_count": 7,
      "metadata": {
        "id": "A4QWyJxhP5Ir"
      },
      "outputs": [],
      "source": [
        "from typing_extensions import TypedDict, List\n",
        "\n",
        "# 定義 LangGraph 的 State 結構\n",
        "class MultiTurnRAGState(TypedDict):\n",
        "    history: List[str]\n",
        "    query: str\n",
        "    docs: List[Document]\n",
        "    answer: str"
      ]
    },
    {
      "cell_type": "code",
      "source": [
        "def retrieve_node(state: MultiTurnRAGState) -> MultiTurnRAGState:\n",
        "    query = state[\"query\"]\n",
        "    history = state[\"history\"]\n",
        "    docs = vectorstore.similarity_search(query, k=3)\n",
        "    return {\"history\": history, \"query\": query, \"docs\": docs, \"answer\": \"\"}\n",
        "\n",
        "def generate_node(state: MultiTurnRAGState) -> MultiTurnRAGState:\n",
        "    history, query, docs = state[\"history\"], state[\"query\"], state[\"docs\"]\n",
        "    history_text = \"\\n\".join([f\"Q: {q}\" for q in history])\n",
        "    context = \"\\n\".join([d.page_content for d in docs])\n",
        "    prompt = (\n",
        "        f\"你是一個知識型助手，請根據以下內容與對話歷史，只針對使用者的最新問題進行簡潔作答。\\n\\n\"\n",
        "        f\"不要重複歷史對話的內容，也不要回顧之前的問題。只回答使用者這次問的問題。\\n\\n\"\n",
        "        \"請使用完整句子回答，並避免多餘贅述。\\n\\n\"\n",
        "        f\"內容：{context}\\n\\n\"\n",
        "        f\"對話歷史：{history_text}\\n\\n\"\n",
        "        f\"使用者最新的提問：{query}\\n\\n\"\n",
        "        f\"回答：\"\n",
        "    )\n",
        "    output = generator(prompt, max_new_tokens=200)[0][\"generated_text\"]\n",
        "    # 更新歷史\n",
        "    new_history = history + [query]\n",
        "    return {\"history\": new_history, \"query\": query, \"docs\": docs, \"answer\": output}\n",
        "\n",
        "def direct_generate_node(state: MultiTurnRAGState) -> MultiTurnRAGState:\n",
        "    history, query = state[\"history\"], state[\"query\"]\n",
        "    history_text = \"\\n\".join([f\"Q: {q}\" for q in history])\n",
        "    prompt = (\n",
        "        f\"以下是與使用者的對話紀錄：\\n{history_text}\\n\\n\"\n",
        "        f\"使用者的最新問題是：{query}\\n\\n請回答：\"\n",
        "    )\n",
        "    output = generator(prompt, max_new_tokens=200)[0][\"generated_text\"]\n",
        "    new_history = history + [query]\n",
        "    return {\"history\": new_history, \"query\": query, \"docs\": [], \"answer\": output}\n",
        "\n",
        "def is_topic_changed_with_vectorstore(history: List[str], query: str, threshold: float = 0.85) -> bool:\n",
        "    if not history:\n",
        "        return False\n",
        "    # 把上一題當作參照 query，用 vectorstore 查距離\n",
        "    last_query = history[-1]\n",
        "    result = vectorstore.similarity_search_with_score(last_query, k=1)\n",
        "    if not result:\n",
        "        return False\n",
        "    _, score = result[0]\n",
        "    return score > threshold  # 距離太大 → 判斷為主題變更\n",
        "\n",
        "def route_by_query(state: MultiTurnRAGState) -> str:\n",
        "    query = state[\"query\"]\n",
        "    history = state[\"history\"]\n",
        "\n",
        "    if is_topic_changed_with_vectorstore(history, query):\n",
        "        print(\"偵測到主題切換，history 清\")\n",
        "        history = []\n",
        "        state[\"history\"] = []\n",
        "\n",
        "    combined_query = \"\\n\".join(history + [query])\n",
        "    doc_score_pair = vectorstore.similarity_search_with_score(combined_query, k=1)[0]\n",
        "    _, score = doc_score_pair\n",
        "    threshold = 0.85\n",
        "    use_rag = score <= threshold\n",
        "    choice = \"naruto\" if use_rag else \"general\"\n",
        "    if use_rag:\n",
        "        print(f\"route: score = {score}；\\n跑到 → {choice}; \\nretrieve combined query: {repr(combined_query)}\")\n",
        "    else:\n",
        "        print(f\"route: score = {score}；\\n跑到 → {choice}\")\n",
        "    return choice"
      ],
      "metadata": {
        "id": "AkrdTiSYjE9p"
      },
      "execution_count": 8,
      "outputs": []
    },
    {
      "cell_type": "code",
      "source": [
        "from langchain_core.runnables import RunnableLambda\n",
        "from langgraph.graph import StateGraph, END\n",
        "\n",
        "# 建立 LangGraph 流程圖\n",
        "graph_builder = StateGraph(MultiTurnRAGState)\n",
        "\n",
        "graph_builder.set_entry_point(\"condition\")\n",
        "graph_builder.add_node(\"condition\", RunnableLambda(lambda x: x))  # 進來就分流，不改變內容\n",
        "graph_builder.add_node(\"retriever\", RunnableLambda(retrieve_node))\n",
        "graph_builder.add_node(\"generator\", RunnableLambda(generate_node))\n",
        "graph_builder.add_node(\"direct_generator\", RunnableLambda(direct_generate_node))\n",
        "\n",
        "# 設定條件分流\n",
        "graph_builder.add_conditional_edges(\n",
        "    source=\"condition\",\n",
        "    path=RunnableLambda(route_by_query),\n",
        "    path_map={\n",
        "        \"naruto\": \"retriever\",\n",
        "        \"general\": \"direct_generator\",\n",
        "    }\n",
        ")\n",
        "\n",
        "# 接下來的正常連接\n",
        "graph_builder.add_edge(\"retriever\", \"generator\")\n",
        "graph_builder.add_edge(\"generator\", END)\n",
        "graph_builder.add_edge(\"direct_generator\", END)\n",
        "\n",
        "# 編譯 Graph\n",
        "graph = graph_builder.compile()"
      ],
      "metadata": {
        "id": "9w-xtQD3lrLU"
      },
      "execution_count": 9,
      "outputs": []
    },
    {
      "cell_type": "code",
      "source": [
        "from IPython.display import Image, display\n",
        "\n",
        "try:\n",
        "    display(Image(graph.get_graph(xray=True).draw_mermaid_png()))\n",
        "except Exception:\n",
        "    pass"
      ],
      "metadata": {
        "id": "L6D1QuFPl1i1",
        "outputId": "bb338cbb-b327-4b69-ac27-2d811cfc05dc",
        "colab": {
          "base_uri": "https://localhost:8080/",
          "height": 473
        }
      },
      "execution_count": 10,
      "outputs": [
        {
          "output_type": "display_data",
          "data": {
            "image/png": "[encoded data removed]",
            "text/plain": [
              "<IPython.core.display.Image object>"
            ]
          },
          "metadata": {}
        }
      ]
    },
    {
      "cell_type": "code",
      "execution_count": 11,
      "metadata": {
        "colab": {
          "base_uri": "https://localhost:8080/"
        },
        "id": "b-Jrna_evTCC",
        "outputId": "f6b760de-2314-4727-d5f2-891f0926e30c"
      },
      "outputs": [
        {
          "output_type": "stream",
          "name": "stdout",
          "text": [
            "開始對話吧（輸入 q 結束）\n",
            "使用者: 第四代火影是誰?\n",
            "route: cosine_sim = 0.6176580786705017；\n",
            "跑到 → naruto; \n",
            "retrieve combined query: '第四代火影是誰?'\n"
          ]
        },
        {
          "output_type": "stream",
          "name": "stderr",
          "text": [
            "/usr/local/lib/python3.11/dist-packages/bitsandbytes/nn/modules.py:451: UserWarning: Input type into Linear4bit is torch.float16, but bnb_4bit_compute_dtype=torch.float32 (default). This will lead to slow inference or training speed.\n",
            "  warnings.warn(\n"
          ]
        },
        {
          "output_type": "stream",
          "name": "stdout",
          "text": [
            "AI 助理: 第四代火影是波風湊。\n",
            "==================================================================================================================================================================================== \n",
            "\n",
            "使用者: 他的師父是誰?\n",
            "route: cosine_sim = 0.5541455745697021；\n",
            "跑到 → naruto; \n",
            "retrieve combined query: '第四代火影是誰?\\n他的師父是誰?'\n",
            "AI 助理: 第四代火影波風湊的師父是自來也。\n",
            "==================================================================================================================================================================================== \n",
            "\n",
            "使用者: 他的徒弟有哪些人?\n",
            "偵測到主題切換，history 清\n",
            "route: cosine_sim = 0.8316528797149658；\n",
            "跑到 → naruto; \n",
            "retrieve combined query: '他的徒弟有哪些人?'\n",
            "AI 助理: 他的徒弟有旗木卡卡西、宇智波帶土、野原琳。\n",
            "==================================================================================================================================================================================== \n",
            "\n",
            "使用者: 相對論是他發明的嗎?\n",
            "route: cosine_sim = 0.5535238981246948；\n",
            "跑到 → naruto; \n",
            "retrieve combined query: '第四代火影是誰?\\n他的師父是誰?\\n他的徒弟有哪些人?\\n相對論是他發明的嗎?'\n",
            "AI 助理: 相對論是愛因斯坦在1905年提出的理論。\n",
            "==================================================================================================================================================================================== \n",
            "\n",
            "使用者: q\n",
            "掰啦！\n"
          ]
        }
      ],
      "source": [
        "global_history: List[str] = []\n",
        "\n",
        "print(\"開始對話吧（輸入 q 結束）\")\n",
        "while True:\n",
        "    user_input = input(\"使用者: \")\n",
        "    if user_input.strip().lower() in [\"q\", \"quit\", \"exit\"]:\n",
        "        print(\"掰啦！\")\n",
        "        break\n",
        "\n",
        "    state = {\"history\": global_history, \"query\": user_input}\n",
        "    result = graph.invoke(state)\n",
        "\n",
        "    answer = result[\"answer\"].split(\"回答：\")[-1].strip()\n",
        "    print(\"AI 助理:\", answer)\n",
        "    print(\"===\" * 60, \"\\n\")\n",
        "\n",
        "    global_history = result[\"history\"]"
      ]
    }
  ],
  "metadata": {
    "colab": {
      "provenance": [],
      "gpuType": "T4"
    },
    "kernelspec": {
      "display_name": "Python 3",
      "name": "python3"
    },
    "language_info": {
      "name": "python"
    },
    "accelerator": "GPU",
    "widgets": {
      "application/vnd.jupyter.widget-state+json": {
        "e6402a9efa7e41d9bd326c702dd89fbc": {
          "model_module": "@jupyter-widgets/controls",
          "model_name": "HBoxModel",
          "model_module_version": "1.5.0",
          "state": {
            "_dom_classes": [],
            "_model_module": "@jupyter-widgets/controls",
            "_model_module_version": "1.5.0",
            "_model_name": "HBoxModel",
            "_view_count": null,
            "_view_module": "@jupyter-widgets/controls",
            "_view_module_version": "1.5.0",
            "_view_name": "HBoxView",
            "box_style": "",
            "children": [
              "IPY_MODEL_752c9ca32c154f10b52b63710fbef35a",
              "IPY_MODEL_9d8d736f6a064e6eaff5f2886929aeba",
              "IPY_MODEL_b1cb798c31b3452494f85f6d727fad62"
            ],
            "layout": "IPY_MODEL_5af1e971fea5447b88db6b4fe0463ca7"
          }
        },
        "752c9ca32c154f10b52b63710fbef35a": {
          "model_module": "@jupyter-widgets/controls",
          "model_name": "HTMLModel",
          "model_module_version": "1.5.0",
          "state": {
            "_dom_classes": [],
            "_model_module": "@jupyter-widgets/controls",
            "_model_module_version": "1.5.0",
            "_model_name": "HTMLModel",
            "_view_count": null,
            "_view_module": "@jupyter-widgets/controls",
            "_view_module_version": "1.5.0",
            "_view_name": "HTMLView",
            "description": "",
            "description_tooltip": null,
            "layout": "IPY_MODEL_23329d014d034e69ad28070bc845bec9",
            "placeholder": "​",
            "style": "IPY_MODEL_e1c7e53a5a1845d4b3bac15c1d5a0e4c",
            "value": "Loading checkpoint shards: 100%"
          }
        },
        "9d8d736f6a064e6eaff5f2886929aeba": {
          "model_module": "@jupyter-widgets/controls",
          "model_name": "FloatProgressModel",
          "model_module_version": "1.5.0",
          "state": {
            "_dom_classes": [],
            "_model_module": "@jupyter-widgets/controls",
            "_model_module_version": "1.5.0",
            "_model_name": "FloatProgressModel",
            "_view_count": null,
            "_view_module": "@jupyter-widgets/controls",
            "_view_module_version": "1.5.0",
            "_view_name": "ProgressView",
            "bar_style": "success",
            "description": "",
            "description_tooltip": null,
            "layout": "IPY_MODEL_2f5b2ea1219b4c61b898844b9f3eaf33",
            "max": 4,
            "min": 0,
            "orientation": "horizontal",
            "style": "IPY_MODEL_952f6b2518f8412988dbf1e50e2a5087",
            "value": 4
          }
        },
        "b1cb798c31b3452494f85f6d727fad62": {
          "model_module": "@jupyter-widgets/controls",
          "model_name": "HTMLModel",
          "model_module_version": "1.5.0",
          "state": {
            "_dom_classes": [],
            "_model_module": "@jupyter-widgets/controls",
            "_model_module_version": "1.5.0",
            "_model_name": "HTMLModel",
            "_view_count": null,
            "_view_module": "@jupyter-widgets/controls",
            "_view_module_version": "1.5.0",
            "_view_name": "HTMLView",
            "description": "",
            "description_tooltip": null,
            "layout": "IPY_MODEL_e8c651330dff455692c7ebd0b889019b",
            "placeholder": "​",
            "style": "IPY_MODEL_70dca5d864a141758b9b34a373f300ff",
            "value": " 4/4 [01:32&lt;00:00, 19.12s/it]"
          }
        },
        "5af1e971fea5447b88db6b4fe0463ca7": {
          "model_module": "@jupyter-widgets/base",
          "model_name": "LayoutModel",
          "model_module_version": "1.2.0",
          "state": {
            "_model_module": "@jupyter-widgets/base",
            "_model_module_version": "1.2.0",
            "_model_name": "LayoutModel",
            "_view_count": null,
            "_view_module": "@jupyter-widgets/base",
            "_view_module_version": "1.2.0",
            "_view_name": "LayoutView",
            "align_content": null,
            "align_items": null,
            "align_self": null,
            "border": null,
            "bottom": null,
            "display": null,
            "flex": null,
            "flex_flow": null,
            "grid_area": null,
            "grid_auto_columns": null,
            "grid_auto_flow": null,
            "grid_auto_rows": null,
            "grid_column": null,
            "grid_gap": null,
            "grid_row": null,
            "grid_template_areas": null,
            "grid_template_columns": null,
            "grid_template_rows": null,
            "height": null,
            "justify_content": null,
            "justify_items": null,
            "left": null,
            "margin": null,
            "max_height": null,
            "max_width": null,
            "min_height": null,
            "min_width": null,
            "object_fit": null,
            "object_position": null,
            "order": null,
            "overflow": null,
            "overflow_x": null,
            "overflow_y": null,
            "padding": null,
            "right": null,
            "top": null,
            "visibility": null,
            "width": null
          }
        },
        "23329d014d034e69ad28070bc845bec9": {
          "model_module": "@jupyter-widgets/base",
          "model_name": "LayoutModel",
          "model_module_version": "1.2.0",
          "state": {
            "_model_module": "@jupyter-widgets/base",
            "_model_module_version": "1.2.0",
            "_model_name": "LayoutModel",
            "_view_count": null,
            "_view_module": "@jupyter-widgets/base",
            "_view_module_version": "1.2.0",
            "_view_name": "LayoutView",
            "align_content": null,
            "align_items": null,
            "align_self": null,
            "border": null,
            "bottom": null,
            "display": null,
            "flex": null,
            "flex_flow": null,
            "grid_area": null,
            "grid_auto_columns": null,
            "grid_auto_flow": null,
            "grid_auto_rows": null,
            "grid_column": null,
            "grid_gap": null,
            "grid_row": null,
            "grid_template_areas": null,
            "grid_template_columns": null,
            "grid_template_rows": null,
            "height": null,
            "justify_content": null,
            "justify_items": null,
            "left": null,
            "margin": null,
            "max_height": null,
            "max_width": null,
            "min_height": null,
            "min_width": null,
            "object_fit": null,
            "object_position": null,
            "order": null,
            "overflow": null,
            "overflow_x": null,
            "overflow_y": null,
            "padding": null,
            "right": null,
            "top": null,
            "visibility": null,
            "width": null
          }
        },
        "e1c7e53a5a1845d4b3bac15c1d5a0e4c": {
          "model_module": "@jupyter-widgets/controls",
          "model_name": "DescriptionStyleModel",
          "model_module_version": "1.5.0",
          "state": {
            "_model_module": "@jupyter-widgets/controls",
            "_model_module_version": "1.5.0",
            "_model_name": "DescriptionStyleModel",
            "_view_count": null,
            "_view_module": "@jupyter-widgets/base",
            "_view_module_version": "1.2.0",
            "_view_name": "StyleView",
            "description_width": ""
          }
        },
        "2f5b2ea1219b4c61b898844b9f3eaf33": {
          "model_module": "@jupyter-widgets/base",
          "model_name": "LayoutModel",
          "model_module_version": "1.2.0",
          "state": {
            "_model_module": "@jupyter-widgets/base",
            "_model_module_version": "1.2.0",
            "_model_name": "LayoutModel",
            "_view_count": null,
            "_view_module": "@jupyter-widgets/base",
            "_view_module_version": "1.2.0",
            "_view_name": "LayoutView",
            "align_content": null,
            "align_items": null,
            "align_self": null,
            "border": null,
            "bottom": null,
            "display": null,
            "flex": null,
            "flex_flow": null,
            "grid_area": null,
            "grid_auto_columns": null,
            "grid_auto_flow": null,
            "grid_auto_rows": null,
            "grid_column": null,
            "grid_gap": null,
            "grid_row": null,
            "grid_template_areas": null,
            "grid_template_columns": null,
            "grid_template_rows": null,
            "height": null,
            "justify_content": null,
            "justify_items": null,
            "left": null,
            "margin": null,
            "max_height": null,
            "max_width": null,
            "min_height": null,
            "min_width": null,
            "object_fit": null,
            "object_position": null,
            "order": null,
            "overflow": null,
            "overflow_x": null,
            "overflow_y": null,
            "padding": null,
            "right": null,
            "top": null,
            "visibility": null,
            "width": null
          }
        },
        "952f6b2518f8412988dbf1e50e2a5087": {
          "model_module": "@jupyter-widgets/controls",
          "model_name": "ProgressStyleModel",
          "model_module_version": "1.5.0",
          "state": {
            "_model_module": "@jupyter-widgets/controls",
            "_model_module_version": "1.5.0",
            "_model_name": "ProgressStyleModel",
            "_view_count": null,
            "_view_module": "@jupyter-widgets/base",
            "_view_module_version": "1.2.0",
            "_view_name": "StyleView",
            "bar_color": null,
            "description_width": ""
          }
        },
        "e8c651330dff455692c7ebd0b889019b": {
          "model_module": "@jupyter-widgets/base",
          "model_name": "LayoutModel",
          "model_module_version": "1.2.0",
          "state": {
            "_model_module": "@jupyter-widgets/base",
            "_model_module_version": "1.2.0",
            "_model_name": "LayoutModel",
            "_view_count": null,
            "_view_module": "@jupyter-widgets/base",
            "_view_module_version": "1.2.0",
            "_view_name": "LayoutView",
            "align_content": null,
            "align_items": null,
            "align_self": null,
            "border": null,
            "bottom": null,
            "display": null,
            "flex": null,
            "flex_flow": null,
            "grid_area": null,
            "grid_auto_columns": null,
            "grid_auto_flow": null,
            "grid_auto_rows": null,
            "grid_column": null,
            "grid_gap": null,
            "grid_row": null,
            "grid_template_areas": null,
            "grid_template_columns": null,
            "grid_template_rows": null,
            "height": null,
            "justify_content": null,
            "justify_items": null,
            "left": null,
            "margin": null,
            "max_height": null,
            "max_width": null,
            "min_height": null,
            "min_width": null,
            "object_fit": null,
            "object_position": null,
            "order": null,
            "overflow": null,
            "overflow_x": null,
            "overflow_y": null,
            "padding": null,
            "right": null,
            "top": null,
            "visibility": null,
            "width": null
          }
        },
        "70dca5d864a141758b9b34a373f300ff": {
          "model_module": "@jupyter-widgets/controls",
          "model_name": "DescriptionStyleModel",
          "model_module_version": "1.5.0",
          "state": {
            "_model_module": "@jupyter-widgets/controls",
            "_model_module_version": "1.5.0",
            "_model_name": "DescriptionStyleModel",
            "_view_count": null,
            "_view_module": "@jupyter-widgets/base",
            "_view_module_version": "1.2.0",
            "_view_name": "StyleView",
            "description_width": ""
          }
        }
      }
    }
  },
  "nbformat": 4,
  "nbformat_minor": 0
}