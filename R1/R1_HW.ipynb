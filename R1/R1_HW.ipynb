{
  "cells": [
    {
      "cell_type": "code",
      "source": [
        "!pip install -q langchain langgraph transformers bitsandbytes langchain-huggingface langchain-community chromadb"
      ],
      "metadata": {
        "id": "9oMXDVngTxd5",
        "outputId": "6c919c2a-c053-4ee1-d26c-c542a8190711",
        "colab": {
          "base_uri": "https://localhost:8080/"
        }
      },
      "execution_count": 1,
      "outputs": [
        {
          "output_type": "stream",
          "name": "stdout",
          "text": [
            "\u001b[?25l     \u001b[90m━━━━━━━━━━━━━━━━━━━━━━━━━━━━━━━━━━━━━━━━\u001b[0m \u001b[32m0.0/67.3 kB\u001b[0m \u001b[31m?\u001b[0m eta \u001b[36m-:--:--\u001b[0m\r\u001b[2K     \u001b[90m━━━━━━━━━━━━━━━━━━━━━━━━━━━━━━━━━━━━━━━━\u001b[0m \u001b[32m67.3/67.3 kB\u001b[0m \u001b[31m3.3 MB/s\u001b[0m eta \u001b[36m0:00:00\u001b[0m\n",
            "\u001b[?25h  Installing build dependencies ... \u001b[?25l\u001b[?25hdone\n",
            "  Getting requirements to build wheel ... \u001b[?25l\u001b[?25hdone\n",
            "  Preparing metadata (pyproject.toml) ... \u001b[?25l\u001b[?25hdone\n",
            "\u001b[2K     \u001b[90m━━━━━━━━━━━━━━━━━━━━━━━━━━━━━━━━━━━━━━━━\u001b[0m \u001b[32m43.5/43.5 kB\u001b[0m \u001b[31m3.0 MB/s\u001b[0m eta \u001b[36m0:00:00\u001b[0m\n",
            "\u001b[2K   \u001b[90m━━━━━━━━━━━━━━━━━━━━━━━━━━━━━━━━━━━━━━━━\u001b[0m \u001b[32m155.3/155.3 kB\u001b[0m \u001b[31m10.8 MB/s\u001b[0m eta \u001b[36m0:00:00\u001b[0m\n",
            "\u001b[2K   \u001b[90m━━━━━━━━━━━━━━━━━━━━━━━━━━━━━━━━━━━━━━━━\u001b[0m \u001b[32m76.1/76.1 MB\u001b[0m \u001b[31m12.5 MB/s\u001b[0m eta \u001b[36m0:00:00\u001b[0m\n",
            "\u001b[2K   \u001b[90m━━━━━━━━━━━━━━━━━━━━━━━━━━━━━━━━━━━━━━━━\u001b[0m \u001b[32m2.5/2.5 MB\u001b[0m \u001b[31m105.6 MB/s\u001b[0m eta \u001b[36m0:00:00\u001b[0m\n",
            "\u001b[2K   \u001b[90m━━━━━━━━━━━━━━━━━━━━━━━━━━━━━━━━━━━━━━━━\u001b[0m \u001b[32m18.9/18.9 MB\u001b[0m \u001b[31m109.8 MB/s\u001b[0m eta \u001b[36m0:00:00\u001b[0m\n",
            "\u001b[2K   \u001b[90m━━━━━━━━━━━━━━━━━━━━━━━━━━━━━━━━━━━━━━━━\u001b[0m \u001b[32m94.9/94.9 kB\u001b[0m \u001b[31m8.8 MB/s\u001b[0m eta \u001b[36m0:00:00\u001b[0m\n",
            "\u001b[2K   \u001b[90m━━━━━━━━━━━━━━━━━━━━━━━━━━━━━━━━━━━━━━━━\u001b[0m \u001b[32m284.2/284.2 kB\u001b[0m \u001b[31m24.0 MB/s\u001b[0m eta \u001b[36m0:00:00\u001b[0m\n",
            "\u001b[2K   \u001b[90m━━━━━━━━━━━━━━━━━━━━━━━━━━━━━━━━━━━━━━━━\u001b[0m \u001b[32m2.0/2.0 MB\u001b[0m \u001b[31m86.3 MB/s\u001b[0m eta \u001b[36m0:00:00\u001b[0m\n",
            "\u001b[2K   \u001b[90m━━━━━━━━━━━━━━━━━━━━━━━━━━━━━━━━━━━━━━━━\u001b[0m \u001b[32m44.2/44.2 kB\u001b[0m \u001b[31m4.1 MB/s\u001b[0m eta \u001b[36m0:00:00\u001b[0m\n",
            "\u001b[2K   \u001b[90m━━━━━━━━━━━━━━━━━━━━━━━━━━━━━━━━━━━━━━━━\u001b[0m \u001b[32m48.9/48.9 kB\u001b[0m \u001b[31m4.0 MB/s\u001b[0m eta \u001b[36m0:00:00\u001b[0m\n",
            "\u001b[2K   \u001b[90m━━━━━━━━━━━━━━━━━━━━━━━━━━━━━━━━━━━━━━━━\u001b[0m \u001b[32m101.6/101.6 kB\u001b[0m \u001b[31m10.0 MB/s\u001b[0m eta \u001b[36m0:00:00\u001b[0m\n",
            "\u001b[2K   \u001b[90m━━━━━━━━━━━━━━━━━━━━━━━━━━━━━━━━━━━━━━━━\u001b[0m \u001b[32m16.4/16.4 MB\u001b[0m \u001b[31m96.8 MB/s\u001b[0m eta \u001b[36m0:00:00\u001b[0m\n",
            "\u001b[2K   \u001b[90m━━━━━━━━━━━━━━━━━━━━━━━━━━━━━━━━━━━━━━━━\u001b[0m \u001b[32m65.8/65.8 kB\u001b[0m \u001b[31m6.1 MB/s\u001b[0m eta \u001b[36m0:00:00\u001b[0m\n",
            "\u001b[2K   \u001b[90m━━━━━━━━━━━━━━━━━━━━━━━━━━━━━━━━━━━━━━━━\u001b[0m \u001b[32m55.9/55.9 kB\u001b[0m \u001b[31m6.0 MB/s\u001b[0m eta \u001b[36m0:00:00\u001b[0m\n",
            "\u001b[2K   \u001b[90m━━━━━━━━━━━━━━━━━━━━━━━━━━━━━━━━━━━━━━━━\u001b[0m \u001b[32m194.9/194.9 kB\u001b[0m \u001b[31m19.1 MB/s\u001b[0m eta \u001b[36m0:00:00\u001b[0m\n",
            "\u001b[2K   \u001b[90m━━━━━━━━━━━━━━━━━━━━━━━━━━━━━━━━━━━━━━━━\u001b[0m \u001b[32m119.0/119.0 kB\u001b[0m \u001b[31m11.4 MB/s\u001b[0m eta \u001b[36m0:00:00\u001b[0m\n",
            "\u001b[2K   \u001b[90m━━━━━━━━━━━━━━━━━━━━━━━━━━━━━━━━━━━━━━━━\u001b[0m \u001b[32m92.0/92.0 kB\u001b[0m \u001b[31m8.5 MB/s\u001b[0m eta \u001b[36m0:00:00\u001b[0m\n",
            "\u001b[2K   \u001b[90m━━━━━━━━━━━━━━━━━━━━━━━━━━━━━━━━━━━━━━━━\u001b[0m \u001b[32m44.4/44.4 kB\u001b[0m \u001b[31m4.1 MB/s\u001b[0m eta \u001b[36m0:00:00\u001b[0m\n",
            "\u001b[2K   \u001b[90m━━━━━━━━━━━━━━━━━━━━━━━━━━━━━━━━━━━━━━━━\u001b[0m \u001b[32m363.4/363.4 MB\u001b[0m \u001b[31m3.9 MB/s\u001b[0m eta \u001b[36m0:00:00\u001b[0m\n",
            "\u001b[2K   \u001b[90m━━━━━━━━━━━━━━━━━━━━━━━━━━━━━━━━━━━━━━━━\u001b[0m \u001b[32m13.8/13.8 MB\u001b[0m \u001b[31m88.4 MB/s\u001b[0m eta \u001b[36m0:00:00\u001b[0m\n",
            "\u001b[2K   \u001b[90m━━━━━━━━━━━━━━━━━━━━━━━━━━━━━━━━━━━━━━━━\u001b[0m \u001b[32m24.6/24.6 MB\u001b[0m \u001b[31m86.8 MB/s\u001b[0m eta \u001b[36m0:00:00\u001b[0m\n",
            "\u001b[2K   \u001b[90m━━━━━━━━━━━━━━━━━━━━━━━━━━━━━━━━━━━━━━━━\u001b[0m \u001b[32m883.7/883.7 kB\u001b[0m \u001b[31m58.0 MB/s\u001b[0m eta \u001b[36m0:00:00\u001b[0m\n",
            "\u001b[2K   \u001b[90m━━━━━━━━━━━━━━━━━━━━━━━━━━━━━━━━━━━━━━━━\u001b[0m \u001b[32m664.8/664.8 MB\u001b[0m \u001b[31m2.7 MB/s\u001b[0m eta \u001b[36m0:00:00\u001b[0m\n",
            "\u001b[2K   \u001b[90m━━━━━━━━━━━━━━━━━━━━━━━━━━━━━━━━━━━━━━━━\u001b[0m \u001b[32m211.5/211.5 MB\u001b[0m \u001b[31m5.4 MB/s\u001b[0m eta \u001b[36m0:00:00\u001b[0m\n",
            "\u001b[2K   \u001b[90m━━━━━━━━━━━━━━━━━━━━━━━━━━━━━━━━━━━━━━━━\u001b[0m \u001b[32m56.3/56.3 MB\u001b[0m \u001b[31m15.9 MB/s\u001b[0m eta \u001b[36m0:00:00\u001b[0m\n",
            "\u001b[2K   \u001b[90m━━━━━━━━━━━━━━━━━━━━━━━━━━━━━━━━━━━━━━━━\u001b[0m \u001b[32m127.9/127.9 MB\u001b[0m \u001b[31m6.9 MB/s\u001b[0m eta \u001b[36m0:00:00\u001b[0m\n",
            "\u001b[2K   \u001b[90m━━━━━━━━━━━━━━━━━━━━━━━━━━━━━━━━━━━━━━━━\u001b[0m \u001b[32m207.5/207.5 MB\u001b[0m \u001b[31m5.4 MB/s\u001b[0m eta \u001b[36m0:00:00\u001b[0m\n",
            "\u001b[2K   \u001b[90m━━━━━━━━━━━━━━━━━━━━━━━━━━━━━━━━━━━━━━━━\u001b[0m \u001b[32m21.1/21.1 MB\u001b[0m \u001b[31m105.4 MB/s\u001b[0m eta \u001b[36m0:00:00\u001b[0m\n",
            "\u001b[2K   \u001b[90m━━━━━━━━━━━━━━━━━━━━━━━━━━━━━━━━━━━━━━━━\u001b[0m \u001b[32m62.5/62.5 kB\u001b[0m \u001b[31m6.1 MB/s\u001b[0m eta \u001b[36m0:00:00\u001b[0m\n",
            "\u001b[2K   \u001b[90m━━━━━━━━━━━━━━━━━━━━━━━━━━━━━━━━━━━━━━━━\u001b[0m \u001b[32m459.8/459.8 kB\u001b[0m \u001b[31m39.4 MB/s\u001b[0m eta \u001b[36m0:00:00\u001b[0m\n",
            "\u001b[2K   \u001b[90m━━━━━━━━━━━━━━━━━━━━━━━━━━━━━━━━━━━━━━━━\u001b[0m \u001b[32m50.9/50.9 kB\u001b[0m \u001b[31m4.7 MB/s\u001b[0m eta \u001b[36m0:00:00\u001b[0m\n",
            "\u001b[2K   \u001b[90m━━━━━━━━━━━━━━━━━━━━━━━━━━━━━━━━━━━━━━━━\u001b[0m \u001b[32m223.6/223.6 kB\u001b[0m \u001b[31m22.9 MB/s\u001b[0m eta \u001b[36m0:00:00\u001b[0m\n",
            "\u001b[2K   \u001b[90m━━━━━━━━━━━━━━━━━━━━━━━━━━━━━━━━━━━━━━━━\u001b[0m \u001b[32m71.5/71.5 kB\u001b[0m \u001b[31m6.9 MB/s\u001b[0m eta \u001b[36m0:00:00\u001b[0m\n",
            "\u001b[2K   \u001b[90m━━━━━━━━━━━━━━━━━━━━━━━━━━━━━━━━━━━━━━━━\u001b[0m \u001b[32m4.0/4.0 MB\u001b[0m \u001b[31m102.8 MB/s\u001b[0m eta \u001b[36m0:00:00\u001b[0m\n",
            "\u001b[2K   \u001b[90m━━━━━━━━━━━━━━━━━━━━━━━━━━━━━━━━━━━━━━━━\u001b[0m \u001b[32m454.8/454.8 kB\u001b[0m \u001b[31m36.6 MB/s\u001b[0m eta \u001b[36m0:00:00\u001b[0m\n",
            "\u001b[2K   \u001b[90m━━━━━━━━━━━━━━━━━━━━━━━━━━━━━━━━━━━━━━━━\u001b[0m \u001b[32m46.0/46.0 kB\u001b[0m \u001b[31m4.4 MB/s\u001b[0m eta \u001b[36m0:00:00\u001b[0m\n",
            "\u001b[2K   \u001b[90m━━━━━━━━━━━━━━━━━━━━━━━━━━━━━━━━━━━━━━━━\u001b[0m \u001b[32m86.8/86.8 kB\u001b[0m \u001b[31m8.4 MB/s\u001b[0m eta \u001b[36m0:00:00\u001b[0m\n",
            "\u001b[?25h  Building wheel for pypika (pyproject.toml) ... \u001b[?25l\u001b[?25hdone\n"
          ]
        }
      ]
    },
    {
      "cell_type": "code",
      "source": [
        "from transformers import AutoTokenizer, AutoModelForCausalLM, pipeline, BitsAndBytesConfig\n",
        "from langchain_huggingface import HuggingFacePipeline\n",
        "\n",
        "# 使用 4-bit 量化模型\n",
        "model_id = \"MediaTek-Research/Breeze-7B-Instruct-v1_0\"\n",
        "\n",
        "quant_config = BitsAndBytesConfig(\n",
        "    load_in_4bit=True,\n",
        "    bnb_4bit_quant_type=\"nf4\",\n",
        "    bnb_4bit_use_double_quant=True,\n",
        "    llm_int8_threshold=6.0,\n",
        ")\n",
        "\n",
        "# 載入 tokenizer 與 4-bit 模型\n",
        "tokenizer = AutoTokenizer.from_pretrained(model_id, use_fast=True)\n",
        "model = AutoModelForCausalLM.from_pretrained(\n",
        "    model_id,\n",
        "    device_map=\"auto\",\n",
        "    quantization_config=quant_config,\n",
        "    trust_remote_code=True\n",
        ")"
      ],
      "metadata": {
        "id": "yyo3YI-UWb3h",
        "outputId": "de6677c4-c75b-49f2-cf99-741bdfc847a9",
        "colab": {
          "base_uri": "https://localhost:8080/",
          "height": 592,
          "referenced_widgets": [
            "91c025550a5a409c8fbeb98c79e28648",
            "01f1201811c54a9c99b26da40eea4f3b",
            "6265547b30f7482bb2e9133b8d4d6c7c",
            "4b157391fdb947348466c9a354eb81a2",
            "1d973e6040834b74a4759f6d2a3fe782",
            "0c83f9c6463c49828faf283b0e1c146e",
            "51fa030205914c838403b673b2cb38ae",
            "dba1ad3f7e274b829a2e0483aec82318",
            "f7fab99a4ff24eceb18167e095114b8a",
            "6b59cd15b8f94a46b085b926c64d373e",
            "41a6ce15f75a482c838cd80777427a1f",
            "691ba328ce08490081491692336ff4f2",
            "c0c26ed120964d8b9e13fee1530b5b6c",
            "ec50735092454c499772ed854a924226",
            "d20eb0c47a2646bd819e51eed8bcbcba",
            "1359b93ad902456f9938e6f4ef43cc1b",
            "289e170f9d174ba385df3adad3826964",
            "23c24f2246284ffd9890b1c398c63ed7",
            "45e27cfab82b48b49d8d80360f1f30ba",
            "2482cbd18c124bee903800da1bd2160b",
            "aac099001f8345ae9508d8884e26c196",
            "bae822d686964b0da41744fc53c171e5",
            "5131146af8f747cfb5a02be339187c43",
            "6ed07f860a3a41a7b9e5d68cd6c02b98",
            "b8c315dddbc24d11a88f07510b276e71",
            "562c95a1fe284b108f2b768758448829",
            "a3b62b38a43745b691bf1ac451f3dc5d",
            "f3c51af087b6471b97dcc0a910a22777",
            "81b3c4ae710a47b993d1626d6c3c17eb",
            "88e2d0d4d0604f42ac6caec2afa6d7ce",
            "b9f595def92d403db5ee5cdecdd950cc",
            "477bafc88c3e47a19648ecedb9ba68a8",
            "a83d589f45b54c959b37d62b5bc197ae",
            "68a51cf9fd8544d2aae57073b944099b",
            "8837beb57dea46a1adfab7ed2cbb0104",
            "cc253b21d6d446d6a4ed5a7f70d2d6e7",
            "884f9ad422204371bc56466c3bc98c9c",
            "bb061bc99ffc4e138ee11265ae481872",
            "54450f5115a1418da55c3032e7a2c46c",
            "5ebde284060c41e7b5e6ef752b5028b6",
            "ead41d461ef8403ebe3634d5cf5f09b4",
            "96007abec9524196b70be57ac9250f92",
            "00c3063775d74a0a96ab9598bfc35b65",
            "4d94ead5178e4760a88573373ef2a12f",
            "3271acd531d04eb793b71c058bd19998",
            "c5677d7403c247cf9326cfa73d21b7be",
            "69558a7d70a848aa9dbe811cfc2faa33",
            "22b4f5acb81341229f8e656e8880ec32",
            "481ff6de6c0d42698412e4f138640c15",
            "b8746069894b4c70866ccfd5367c2f6f",
            "00ff12bd350149bda69d125f981eec71",
            "c4b8c872299a462ca3b0fefc992f9382",
            "0e293c68c3d44baf8b5933a6ec6bba69",
            "f730b32217f848128ceb4bcdde68653e",
            "7b2e5f33fe0a43da87fd8fdc4a92225d",
            "20a8ac6044474d1ab83d4f337215de16",
            "947d0c5af04c46ea9a22b43b9130f89a",
            "8388013bb2e8449088077a7f2195ab10",
            "103dcc0bd229406eb2bdf6f85ea33e4e",
            "c65dc67109f244c8ae3da183cbb36b77",
            "7f6f2667478444cfb284be402f853d3c",
            "29104a8d9ca7426098119cdfbaf51141",
            "eac9fe4625314eb0b9765b37ef72cf4d",
            "daa7304ec4e44b05b2e2bcfa94c44aed",
            "678600d2655049e39dce10f7e654fd5f",
            "52d025d739b24df984c060cc4ddd54e2",
            "bcd2f6f58172439b998f4d988d2d7ace",
            "17348861384e46d3a8f817eef6505770",
            "8c7af56f3ebd4586b158446868eea6bd",
            "7e8dfe654721417eb6ba7414e0479bbb",
            "6992e16b2cd049669891470afd296282",
            "643bfbc40e864ac6ab2cd25e73b8b894",
            "21209c3508d6496885d1b6d8561c797f",
            "1763054496be49bba476b4c63106ad44",
            "56af5d7976554919b9cf664301c081cb",
            "d2d901c32e254cd6b2d320ce8f7e6b39",
            "3ae6eedcce7d42149485c90f68854688",
            "2b8452246c164c28b357d885b95176d1",
            "43870c34d013456fa3d6533ea38da2ed",
            "1522140a3a8249e3a2f01385d4a452f0",
            "fdd745c42593434e80ab0f4f79f2d5b9",
            "34c8bae9bb1d418fb292aa84ba5679d2",
            "f4c9542d319049829a67efc1dd16fc5c",
            "7ceddb08f0ba46e68b4d279502dcd974",
            "fd192d3729964f2499e8d53c1b7f82d4",
            "6891b55f44da4a74b7034b238a065048",
            "38806b8165774dfd9ecdd736fd96b476",
            "fd9117c57f654517bc47efb85249d390",
            "502e4a77311143bda34ae7ed8e9b469d",
            "eb2c203119ff4d4c9803af9391fd42d5",
            "f3b2344e8ca045a1955ef9fd7708adf2",
            "d4b4aa8938024e98a9f4437163bd663b",
            "1ca9129098ee4f668b1ed78fc2c3079e",
            "ab1f12d116c84307a268eef198033668",
            "89e49e07ed2e4d64b766d3627a833db2",
            "a3ce2ed6b39a4be79c2ac0cf29756058",
            "25edcdfafb8848b8a4d8a1e831bd2294",
            "50b1532ea93f4e66b8a7c57bc1999780",
            "c1b6a0d34d6d4e9fa0c0af42f313a65f",
            "d6b80f92387549ebb35a91b2597d48c0",
            "54fd63d37c1b4d87b00401edbdb9581c",
            "b0672bb29dab4c55935cf2233d180473",
            "56d7774faafb4a4a867dc4fbdeabe096",
            "6ea0799f84284a87953bf66859815977",
            "325218a8311e41229765751f8de3255b",
            "5a137ca1cab74a5b80d2fce1b3d0a09a",
            "ff2452f16c6d49c89bca36e466706dc8",
            "030b8c1908114d4b9967f7adaa2265fd",
            "3baf820c303c4965a0ecd835b629024d",
            "7aab14b33810464dbeb5afcd9590264d",
            "e59bca0253d14b4283030614f6ae34c0",
            "5aa510c9516b43eabdcde42b7d0717b8",
            "3612db25b0d1490196637a600243ee41",
            "67d196a7747541348c7d87125f80682b",
            "7a7050985b3c443bb2345ffd7d4641b2",
            "17186221025d425eae166cc875829423",
            "f93d6725cdec4a169bf80d96a113e276",
            "49c369d0c7cd44ebb96b45d40900956e",
            "48b93e658efe42729815c87cc38245fc",
            "aac09fcaf611453abe5ce0e0e5df2a4e",
            "bf318e0edb7c46418d9000d1a6052afd",
            "47661180e09d46f698fbd7698574efb5",
            "65f501849a2242d28b5fbdd3b0125bc2",
            "4f785249f99344a4b4349fa2387d8295",
            "16c3745cdfdc4a1eb2ff1d467937a1f8",
            "85bdb9ee990a4be7bc8f580236c330fb",
            "eb7207d5b7fc4c19b95d144ad502883c",
            "047cf4f63b8642b684505cc618b71e24",
            "9049a9b3d7614f57905a165e60a5416d",
            "ad20fd9ecb094ec69a1848671e1269c2",
            "b6cc992888b74eaca9751ff9577a5225",
            "731c1ff3b1fa4a3fa584760672038449",
            "251ebbee4a804925a9cf9ba8f6eae058",
            "bc57df024b5345b0ab84d0d5d569e993",
            "c94a8083fc144de0919514644c729c2a",
            "c00e7a0fe5a24c5fb13efe71b09f05ba",
            "c8d1b5d83e724a96a500b8af015d0111",
            "ce1a022415a14b79a24e848bdba1cfd9",
            "14c3cf88f41e4fa2a0164055c6b4ad17",
            "656561103bb7411b8bdaeda8ee9d383c",
            "ce0c77cbb178461cb75c030167faea15",
            "6f669f087be6423a88816b943215fd26",
            "3ea1494ed0784e5eb55bb0abb80f25de",
            "20f014b880144d718c56003b5468e64d",
            "e9c54d359e77461dab73e8d6915a3196",
            "3ac570c4c1634bbd9be0288797939494",
            "3ce70898e4f94bf591539c572329d621",
            "80d0807eea8441578be48804717f29c6",
            "143d0e23c6f54c8c83b6f2f61c223670",
            "1b583dcd46b446a7a19a12decdcfb879",
            "ad158ae827274868af0be23f3883090b",
            "cfa209368d594d9bbba152f1a8b17ac8",
            "d330ef3731544ae0ba98ac069f8b76bc",
            "eda5a34ddf004af7903e73f3a374f080"
          ]
        }
      },
      "execution_count": 2,
      "outputs": [
        {
          "output_type": "stream",
          "name": "stderr",
          "text": [
            "/usr/local/lib/python3.11/dist-packages/huggingface_hub/utils/_auth.py:94: UserWarning: \n",
            "The secret `HF_TOKEN` does not exist in your Colab secrets.\n",
            "To authenticate with the Hugging Face Hub, create a token in your settings tab (https://huggingface.co/settings/tokens), set it as secret in your Google Colab and restart your session.\n",
            "You will be able to reuse this secret in all of your notebooks.\n",
            "Please note that authentication is recommended but still optional to access public models or datasets.\n",
            "  warnings.warn(\n"
          ]
        },
        {
          "output_type": "display_data",
          "data": {
            "text/plain": [
              "tokenizer_config.json:   0%|          | 0.00/2.33k [00:00<?, ?B/s]"
            ],
            "application/vnd.jupyter.widget-view+json": {
              "version_major": 2,
              "version_minor": 0,
              "model_id": "91c025550a5a409c8fbeb98c79e28648"
            }
          },
          "metadata": {}
        },
        {
          "output_type": "display_data",
          "data": {
            "text/plain": [
              "tokenizer.model:   0%|          | 0.00/911k [00:00<?, ?B/s]"
            ],
            "application/vnd.jupyter.widget-view+json": {
              "version_major": 2,
              "version_minor": 0,
              "model_id": "691ba328ce08490081491692336ff4f2"
            }
          },
          "metadata": {}
        },
        {
          "output_type": "display_data",
          "data": {
            "text/plain": [
              "tokenizer.json:   0%|          | 0.00/2.79M [00:00<?, ?B/s]"
            ],
            "application/vnd.jupyter.widget-view+json": {
              "version_major": 2,
              "version_minor": 0,
              "model_id": "5131146af8f747cfb5a02be339187c43"
            }
          },
          "metadata": {}
        },
        {
          "output_type": "display_data",
          "data": {
            "text/plain": [
              "added_tokens.json:   0%|          | 0.00/39.0 [00:00<?, ?B/s]"
            ],
            "application/vnd.jupyter.widget-view+json": {
              "version_major": 2,
              "version_minor": 0,
              "model_id": "68a51cf9fd8544d2aae57073b944099b"
            }
          },
          "metadata": {}
        },
        {
          "output_type": "display_data",
          "data": {
            "text/plain": [
              "special_tokens_map.json:   0%|          | 0.00/551 [00:00<?, ?B/s]"
            ],
            "application/vnd.jupyter.widget-view+json": {
              "version_major": 2,
              "version_minor": 0,
              "model_id": "3271acd531d04eb793b71c058bd19998"
            }
          },
          "metadata": {}
        },
        {
          "output_type": "display_data",
          "data": {
            "text/plain": [
              "config.json:   0%|          | 0.00/650 [00:00<?, ?B/s]"
            ],
            "application/vnd.jupyter.widget-view+json": {
              "version_major": 2,
              "version_minor": 0,
              "model_id": "20a8ac6044474d1ab83d4f337215de16"
            }
          },
          "metadata": {}
        },
        {
          "output_type": "display_data",
          "data": {
            "text/plain": [
              "model.safetensors.index.json:   0%|          | 0.00/23.9k [00:00<?, ?B/s]"
            ],
            "application/vnd.jupyter.widget-view+json": {
              "version_major": 2,
              "version_minor": 0,
              "model_id": "bcd2f6f58172439b998f4d988d2d7ace"
            }
          },
          "metadata": {}
        },
        {
          "output_type": "display_data",
          "data": {
            "text/plain": [
              "Fetching 4 files:   0%|          | 0/4 [00:00<?, ?it/s]"
            ],
            "application/vnd.jupyter.widget-view+json": {
              "version_major": 2,
              "version_minor": 0,
              "model_id": "2b8452246c164c28b357d885b95176d1"
            }
          },
          "metadata": {}
        },
        {
          "output_type": "display_data",
          "data": {
            "text/plain": [
              "model-00002-of-00004.safetensors:   0%|          | 0.00/4.92G [00:00<?, ?B/s]"
            ],
            "application/vnd.jupyter.widget-view+json": {
              "version_major": 2,
              "version_minor": 0,
              "model_id": "502e4a77311143bda34ae7ed8e9b469d"
            }
          },
          "metadata": {}
        },
        {
          "output_type": "display_data",
          "data": {
            "text/plain": [
              "model-00001-of-00004.safetensors:   0%|          | 0.00/4.95G [00:00<?, ?B/s]"
            ],
            "application/vnd.jupyter.widget-view+json": {
              "version_major": 2,
              "version_minor": 0,
              "model_id": "d6b80f92387549ebb35a91b2597d48c0"
            }
          },
          "metadata": {}
        },
        {
          "output_type": "display_data",
          "data": {
            "text/plain": [
              "model-00003-of-00004.safetensors:   0%|          | 0.00/4.60G [00:00<?, ?B/s]"
            ],
            "application/vnd.jupyter.widget-view+json": {
              "version_major": 2,
              "version_minor": 0,
              "model_id": "e59bca0253d14b4283030614f6ae34c0"
            }
          },
          "metadata": {}
        },
        {
          "output_type": "display_data",
          "data": {
            "text/plain": [
              "model-00004-of-00004.safetensors:   0%|          | 0.00/508M [00:00<?, ?B/s]"
            ],
            "application/vnd.jupyter.widget-view+json": {
              "version_major": 2,
              "version_minor": 0,
              "model_id": "47661180e09d46f698fbd7698574efb5"
            }
          },
          "metadata": {}
        },
        {
          "output_type": "display_data",
          "data": {
            "text/plain": [
              "Loading checkpoint shards:   0%|          | 0/4 [00:00<?, ?it/s]"
            ],
            "application/vnd.jupyter.widget-view+json": {
              "version_major": 2,
              "version_minor": 0,
              "model_id": "251ebbee4a804925a9cf9ba8f6eae058"
            }
          },
          "metadata": {}
        },
        {
          "output_type": "display_data",
          "data": {
            "text/plain": [
              "generation_config.json:   0%|          | 0.00/111 [00:00<?, ?B/s]"
            ],
            "application/vnd.jupyter.widget-view+json": {
              "version_major": 2,
              "version_minor": 0,
              "model_id": "20f014b880144d718c56003b5468e64d"
            }
          },
          "metadata": {}
        }
      ]
    },
    {
      "cell_type": "code",
      "source": [
        "# 建立 text generation pipeline\n",
        "generator = pipeline(\n",
        "    task=\"text-generation\",\n",
        "    model=model,\n",
        "    tokenizer=tokenizer,\n",
        "    max_new_tokens=512,\n",
        "    do_sample=True,\n",
        "    temperature=0.4,\n",
        "    return_full_text=False # 僅返回生成的回應內容\n",
        ")\n",
        "\n",
        "# 包裝成 LangChain 的 llm 物件\n",
        "llm = HuggingFacePipeline(pipeline=generator)"
      ],
      "metadata": {
        "id": "phE8eW94WdYB",
        "outputId": "4f1033fc-8877-42a0-b62f-3c3b7b3a2360",
        "colab": {
          "base_uri": "https://localhost:8080/"
        }
      },
      "execution_count": 3,
      "outputs": [
        {
          "output_type": "stream",
          "name": "stderr",
          "text": [
            "Device set to use cuda:0\n"
          ]
        }
      ]
    },
    {
      "cell_type": "code",
      "source": [
        "from langchain_core.documents import Document\n",
        "from langchain.vectorstores import Chroma\n",
        "from langchain.embeddings import HuggingFaceEmbeddings"
      ],
      "metadata": {
        "id": "3rzVc3sRY8cq"
      },
      "execution_count": 4,
      "outputs": []
    },
    {
      "cell_type": "markdown",
      "metadata": {
        "id": "XOPXxjexDMDZ"
      },
      "source": [
        "# baseline"
      ]
    },
    {
      "cell_type": "markdown",
      "metadata": {
        "id": "3hvn98KdEE9_"
      },
      "source": [
        "將`關鍵字`比對換成`向量相似度`比對。"
      ]
    },
    {
      "cell_type": "markdown",
      "metadata": {
        "id": "pV4-rfIDDz7D"
      },
      "source": [
        "> 請將目前使用關鍵字比對的 route_by_query，改為使用向量相似度進行分類，並設一個合理的相似度門檻，根據檢索結果的分數判斷是否走 RAG 流程。  \n",
        "例如用向量相似度及自訂 threshold 決定要不要分到 retriever。"
      ]
    },
    {
      "cell_type": "markdown",
      "metadata": {
        "id": "W2jMeAOuJ2OM"
      },
      "source": [
        "> Hint：similarity_search_with_score(...)  \n",
        "可參考去年的讀書會 R4：向量資料庫的基本操作"
      ]
    },
    {
      "cell_type": "code",
      "execution_count": 6,
      "metadata": {
        "id": "uGc7o1k0LvdY"
      },
      "outputs": [],
      "source": [
        "docs_text = \"\"\"\n",
        "火影代數\t姓名\t師傅\t徒弟\n",
        "初代\t千手柱間\t無明確記載\t猿飛日斬、水戶門炎、轉寢小春\n",
        "二代\t千手扉間\t千手柱間（兄長）\t猿飛日斬、志村團藏、宇智波鏡等\n",
        "三代\t猿飛日斬\t千手柱間、千手扉間\t自來也、大蛇丸、千手綱手（傳說三忍）\n",
        "四代\t波風湊\t自來也\t旗木卡卡西、宇智波帶土、野原琳\n",
        "五代\t千手綱手\t猿飛日斬\t春野櫻、志乃等（主要為春野櫻）\n",
        "六代\t旗木卡卡西\t波風湊\t漩渦鳴人、宇智波佐助、春野櫻（第七班）\n",
        "七代\t漩渦鳴人\t自來也、旗木卡卡西\t木葉丸等（主要為木葉丸）\n",
        "\"\"\""
      ]
    },
    {
      "cell_type": "code",
      "execution_count": 7,
      "metadata": {
        "id": "CDN-jWJhNNNr",
        "outputId": "00687166-42fd-4bd1-e886-f6cf6bc40d7d",
        "colab": {
          "base_uri": "https://localhost:8080/",
          "height": 428,
          "referenced_widgets": [
            "fba24e579cc3443b86a0fb96e64cb20d",
            "490e6fd4737a46b491403b1a488ed77a",
            "6002582ba90843478ff656d09c8331de",
            "97bdf44a9e1c4a71bfece5290686cddd",
            "6a921b4a62164503928cfd1cccf7c2ba",
            "f6237cb21dd24fee880d643823c701c9",
            "1d53c39f393648209095b1f395d20f52",
            "d720c5522ca24550a349c02116139f9b",
            "b57d22c9f7ad40c291f8abb47043fe5d",
            "6c83638835624256a37bc6b2cacc6aeb",
            "6aa2f1d9fc1345f2aac3833a33cc2190",
            "3c1e82b8dfae4ecfad9cd8f53d949aca",
            "014b7067a0cf4763ad93444bcdd243ef",
            "f92657663b06429b847fe4a71794cb8a",
            "87a2c72e646d4737954b68698ad9ad3e",
            "feac41d7ca374e068c12073d89ba7f09",
            "f181c8dee88849308294d785d3564253",
            "299dce72603a48f8928284d89389d19e",
            "12a2ccba17aa4451804c833a060a024f",
            "15abdf7efc814329b4830a8c3348a1d9",
            "bbf5fa4e953b473e8d7b7714f532142b",
            "f68a17f3b8fc47719c0cdf4ac3434faa",
            "236c08eda96c4ebea954ecdce1b1a17e",
            "ba007e54d89b4f5b8b347e08cc5705fe",
            "7d832ad598eb47a59bdc1a1cc99c933c",
            "5d0784b532cf49d78cd20e9c9f72e96c",
            "f273554e2a9644eca3b2a35bb757ba18",
            "ab0ee7a17dc84960aaa225eb4ce561da",
            "d5c652a2ac4340c5b58d5536a1137449",
            "9e81534f3bca45c6af1fd6d29ab69a68",
            "d2aaf8b9a8454d5cac5f6ca4948d0a5a",
            "734609908f1c4e4da2985d0f281e4840",
            "cd440732807e47aa90e4544e5aa92a3a",
            "554f671878754a568e37e77e91171d6f",
            "0ba9f0105e054aeca87af0cfad334d32",
            "91ea89c82d9f4eab8ff3843674afcc07",
            "86a5be1dd4354eddb71567052d97842f",
            "5a3d110cb2db4f3ea47d472b93ae35ef",
            "1607682345d94daa8c46d21d3f340c4e",
            "e32df7c927bf48dd8e506e71bd2d59f1",
            "96a2b63931aa48bca9970b5575bf9028",
            "c573f898ff1a4a66820ca73e5d9a1fd6",
            "594d416d482948f3b0c6ff237d5fbbf2",
            "7c53da49383243138546a45b50e79a5b",
            "5987d96e673d4159b4ea15a83f4a2351",
            "ad13c658bd9e401393507e32a29a281e",
            "4101b4e86401493495bfaf6154bd1c15",
            "72b18e2ccd444657b6704a3933669c07",
            "9d5bec52a36d4d118afebc70ec85b245",
            "2f8002451d0f40039bd02aa99e7d0ad5",
            "95a7e701b1bd4bc596a6242d16acf40e",
            "7478ab8616754d4c940adfa6b3c20bec",
            "d4c76f37f77340f78d84e4e641c3acc3",
            "41735fb8fa114db6bcdd0f940c392042",
            "33add885de234880bf73d55cad55144c",
            "2570c00644c0492b959bf599f4c439ac",
            "f7cef368dc4e4197934e3f95043a2fba",
            "c1731010c8f544018d5f82e78a5ab5a2",
            "bde543ec75034e37aa869259609f991f",
            "81d3b68a72364060acca96c0e0662fcc",
            "fba594e93ebe4916847cd185b6938db1",
            "f2e9cd5dab3d43e8a13a4d05ffec2d68",
            "340da382b1cb4d7c95d1ea6338ae826e",
            "688c0fb1947b453392e9b6d3aca7b80b",
            "9f7288a2aaea4ace84befe9035606ab3",
            "f18d5d11738f4b79bce07a8f44c9b754",
            "189f87744608492e81cb2c7584b09c85",
            "4abd7e4d01134419bfb806b70da829fb",
            "18b871d7f1c84e5ebe07289451c9700a",
            "1c66056b8a65462b9269c665ca518f53",
            "63517f6eb3e84d178d09c914941bf63c",
            "576e39a7408641bebc57d227c4a8c708",
            "5487fceec22d46098c156db389586288",
            "d5f24cc9c8744b7fbc5487230de64e9b",
            "64d38cdd700b4728a1448f4bda022a5a",
            "6fd64f3d1b6044ce8c8dff68c943f215",
            "47952f1e0ea94e0f95e7c0ad3360818c",
            "a1c019c40da64734a0e42b0e2d1278e9",
            "856041bc7375451aae8c61062e9ea973",
            "731be77f265540a5b46f0b53902cc4fb",
            "c0105d8c856148d7ad87ea1dd1f0e7fa",
            "07e475b3f5394545905d2525e8bef124",
            "4784036749294d9a97d5ed0daae307b6",
            "7ae363762585412d9579c91a4baee2b5",
            "9368f3c3b22b4b6f8e721ed469100378",
            "c93a9f22110c4a2ebea71c76cc158b0d",
            "c891e37504a24fcab2571a439dc502f5",
            "9a872e7888824b63bf7c0ea7f6faa6cd",
            "be6e4e656f3f49f19baf7f563185fd7c",
            "091f8fc4402348e58cce86cec9833d33",
            "91b3bbe9d99a4722876e850279ea7f04",
            "947d832e040b4ded8839101d6c7742a2",
            "f3a7a6ab68144fc882b59c0d414c0ffc",
            "57951deadeda4b1da60aa0cf1a438b6e",
            "fbd819ecbf4a47ee88da903185801249",
            "5338f2ab7cf243fcb1e184690dccb9b5",
            "a6d22e4c8657435aa228533316955c04",
            "a908b9ee126d4c2392b7e5ce575065ef",
            "3a71d388cecb4bc194bf661d12c925c3",
            "4d07e12736b2435799856a6671c712b6",
            "03d65292388c4fbca8ddf462d2892acb",
            "2c1005c7ad5b437996da7061b66efdb1",
            "e34eff2fa1614574a5269bbf7f93a804",
            "d64f54f5b093416cb0b5eb1600e6ad36",
            "878941f51b154933abf50d85a6313dee",
            "36bcb00830f24cfd882063f8deab5861",
            "ce306c3a69754ee095a339a1b72263d8",
            "cd92fc477d60440db7f98c6fd0301d3c",
            "dbceff4d83984cceabcd50aa61681690",
            "f79c279a8eb64e0580d25414101e463d"
          ]
        }
      },
      "outputs": [
        {
          "output_type": "stream",
          "name": "stderr",
          "text": [
            "<ipython-input-7-553ff329c896>:4: LangChainDeprecationWarning: The class `HuggingFaceEmbeddings` was deprecated in LangChain 0.2.2 and will be removed in 1.0. An updated version of the class exists in the :class:`~langchain-huggingface package and should be used instead. To use it run `pip install -U :class:`~langchain-huggingface` and import as `from :class:`~langchain_huggingface import HuggingFaceEmbeddings``.\n",
            "  embedding_model = HuggingFaceEmbeddings(\n"
          ]
        },
        {
          "output_type": "display_data",
          "data": {
            "text/plain": [
              "modules.json:   0%|          | 0.00/311 [00:00<?, ?B/s]"
            ],
            "application/vnd.jupyter.widget-view+json": {
              "version_major": 2,
              "version_minor": 0,
              "model_id": "fba24e579cc3443b86a0fb96e64cb20d"
            }
          },
          "metadata": {}
        },
        {
          "output_type": "display_data",
          "data": {
            "text/plain": [
              "README.md:   0%|          | 0.00/32.1k [00:00<?, ?B/s]"
            ],
            "application/vnd.jupyter.widget-view+json": {
              "version_major": 2,
              "version_minor": 0,
              "model_id": "3c1e82b8dfae4ecfad9cd8f53d949aca"
            }
          },
          "metadata": {}
        },
        {
          "output_type": "display_data",
          "data": {
            "text/plain": [
              "sentence_bert_config.json:   0%|          | 0.00/51.0 [00:00<?, ?B/s]"
            ],
            "application/vnd.jupyter.widget-view+json": {
              "version_major": 2,
              "version_minor": 0,
              "model_id": "236c08eda96c4ebea954ecdce1b1a17e"
            }
          },
          "metadata": {}
        },
        {
          "output_type": "display_data",
          "data": {
            "text/plain": [
              "config.json:   0%|          | 0.00/533 [00:00<?, ?B/s]"
            ],
            "application/vnd.jupyter.widget-view+json": {
              "version_major": 2,
              "version_minor": 0,
              "model_id": "554f671878754a568e37e77e91171d6f"
            }
          },
          "metadata": {}
        },
        {
          "output_type": "display_data",
          "data": {
            "text/plain": [
              "pytorch_model.bin:   0%|          | 0.00/408M [00:00<?, ?B/s]"
            ],
            "application/vnd.jupyter.widget-view+json": {
              "version_major": 2,
              "version_minor": 0,
              "model_id": "5987d96e673d4159b4ea15a83f4a2351"
            }
          },
          "metadata": {}
        },
        {
          "output_type": "stream",
          "name": "stderr",
          "text": [
            "Some weights of BertModel were not initialized from the model checkpoint at infgrad/stella-base-zh-v3-1792d and are newly initialized: ['pooler.dense.bias', 'pooler.dense.weight']\n",
            "You should probably TRAIN this model on a down-stream task to be able to use it for predictions and inference.\n"
          ]
        },
        {
          "output_type": "display_data",
          "data": {
            "text/plain": [
              "model.safetensors:   0%|          | 0.00/408M [00:00<?, ?B/s]"
            ],
            "application/vnd.jupyter.widget-view+json": {
              "version_major": 2,
              "version_minor": 0,
              "model_id": "2570c00644c0492b959bf599f4c439ac"
            }
          },
          "metadata": {}
        },
        {
          "output_type": "display_data",
          "data": {
            "text/plain": [
              "vocab.txt:   0%|          | 0.00/110k [00:00<?, ?B/s]"
            ],
            "application/vnd.jupyter.widget-view+json": {
              "version_major": 2,
              "version_minor": 0,
              "model_id": "189f87744608492e81cb2c7584b09c85"
            }
          },
          "metadata": {}
        },
        {
          "output_type": "display_data",
          "data": {
            "text/plain": [
              "config.json:   0%|          | 0.00/185 [00:00<?, ?B/s]"
            ],
            "application/vnd.jupyter.widget-view+json": {
              "version_major": 2,
              "version_minor": 0,
              "model_id": "a1c019c40da64734a0e42b0e2d1278e9"
            }
          },
          "metadata": {}
        },
        {
          "output_type": "display_data",
          "data": {
            "text/plain": [
              "config.json:   0%|          | 0.00/121 [00:00<?, ?B/s]"
            ],
            "application/vnd.jupyter.widget-view+json": {
              "version_major": 2,
              "version_minor": 0,
              "model_id": "be6e4e656f3f49f19baf7f563185fd7c"
            }
          },
          "metadata": {}
        },
        {
          "output_type": "display_data",
          "data": {
            "text/plain": [
              "pytorch_model.bin:   0%|          | 0.00/5.51M [00:00<?, ?B/s]"
            ],
            "application/vnd.jupyter.widget-view+json": {
              "version_major": 2,
              "version_minor": 0,
              "model_id": "4d07e12736b2435799856a6671c712b6"
            }
          },
          "metadata": {}
        }
      ],
      "source": [
        "docs = [Document(page_content=txt.strip()) for txt in docs_text.strip().split(\"\\n\\n\")]\n",
        "\n",
        "# chromadb 預設使用的大型語言模型為 \"all-MiniLM-L6-v2\"，由於該大型語言模型不支持中文，所以將模型替換為 \"infgrad/stella-base-zh-v3-1792d\"，並對 embedding 進行量化\n",
        "embedding_model = HuggingFaceEmbeddings(\n",
        "    model_name=\"infgrad/stella-base-zh-v3-1792d\",\n",
        "    encode_kwargs={\"normalize_embeddings\": True}\n",
        ")\n",
        "\n",
        "persist_path = \"document_store\"\n",
        "collection_name = \"naruto_collection\"\n",
        "vectorstore = Chroma.from_documents(\n",
        "    documents=docs,\n",
        "    embedding=embedding_model,\n",
        "    persist_directory=persist_path,\n",
        "    collection_name=collection_name\n",
        ")"
      ]
    },
    {
      "cell_type": "code",
      "source": [
        "from typing_extensions import TypedDict, List\n",
        "\n",
        "# 定義 LangGraph 的 State 結構\n",
        "class RAGState(TypedDict):\n",
        "    query: str\n",
        "    docs: List[Document]\n",
        "    answer: str"
      ],
      "metadata": {
        "id": "J_LjgQuiZGZS"
      },
      "execution_count": 7,
      "outputs": []
    },
    {
      "cell_type": "code",
      "source": [
        "def retrieve_node(state: RAGState) -> RAGState:\n",
        "    query = state[\"query\"]\n",
        "    # similarity_search 距離越小越相似\n",
        "    docs = vectorstore.similarity_search(query, k=3)\n",
        "    return {\"query\": query, \"docs\": docs, \"answer\": \"\"}\n",
        "\n",
        "def generate_node(state: RAGState) -> RAGState:\n",
        "    query, docs = state[\"query\"], state[\"docs\"]\n",
        "    context = \"\\n\".join([d.page_content for d in docs])\n",
        "    prompt = (\n",
        "        f\"你是一個知識型助手，請根據以下內容回答問題：\\n\\n\"\n",
        "        f\"內容：{context}\\n\\n\"\n",
        "        f\"問題：{query}\\n\\n回答：\"\n",
        "    )\n",
        "    output = generator(prompt, max_new_tokens=200)[0][\"generated_text\"]\n",
        "    return {\"query\": query, \"docs\": docs, \"answer\": output}\n",
        "\n",
        "def direct_generate_node(state: RAGState) -> RAGState:\n",
        "    query = state[\"query\"]\n",
        "    prompt = f\"請回答以下問題：{query}\\n\\n回答：\"\n",
        "    output = generator(prompt, max_new_tokens=200)[0][\"generated_text\"]\n",
        "    return {\"query\": query, \"docs\": [], \"answer\": output}\n",
        "\n",
        "# 定義 Route Node（決定走哪條路）\n",
        "def route_by_query(state):\n",
        "    query = state[\"query\"]\n",
        "\n",
        "    # 取得最相近的一筆與其相似度分數\n",
        "    top_doc, score = Chroma.from_documents(docs, embedding_model).similarity_search_with_score(query, k=3)[0]\n",
        "\n",
        "    # 距離越小越相似 → 分數越高越不相似（依 embedding 而定，這裡假設 cosine distance）\n",
        "    threshold = 0.85  # 自訂門檻值，需依實際資料調整\n",
        "    use_rag = score <= threshold\n",
        "    choice = \"naruto\" if use_rag else \"general\"\n",
        "\n",
        "    print(f\"相似度分數 = {score}；跑到 → {choice}\")\n",
        "    return choice"
      ],
      "metadata": {
        "id": "WxM8OitjZb_D"
      },
      "execution_count": 8,
      "outputs": []
    },
    {
      "cell_type": "code",
      "source": [
        "from langchain_core.runnables import RunnableLambda\n",
        "from langgraph.graph import StateGraph, END\n",
        "\n",
        "# 建立 LangGraph 流程圖\n",
        "graph_builder = StateGraph(RAGState)\n",
        "\n",
        "graph_builder.set_entry_point(\"condition\")\n",
        "graph_builder.add_node(\"condition\", RunnableLambda(lambda x: x))  # 進來就分流，不改變內容\n",
        "graph_builder.add_node(\"retriever\", RunnableLambda(retrieve_node))\n",
        "graph_builder.add_node(\"generator\", RunnableLambda(generate_node))\n",
        "graph_builder.add_node(\"direct_generator\", RunnableLambda(direct_generate_node))\n",
        "\n",
        "# 設定條件分流\n",
        "graph_builder.add_conditional_edges(\n",
        "    source=\"condition\",\n",
        "    path=RunnableLambda(route_by_query),\n",
        "    path_map={\n",
        "        \"naruto\": \"retriever\",\n",
        "        \"general\": \"direct_generator\",\n",
        "    }\n",
        ")\n",
        "\n",
        "# 接下來的正常連接\n",
        "graph_builder.add_edge(\"retriever\", \"generator\")\n",
        "graph_builder.add_edge(\"generator\", END)\n",
        "graph_builder.add_edge(\"direct_generator\", END)\n",
        "\n",
        "# 編譯 Graph\n",
        "graph = graph_builder.compile()"
      ],
      "metadata": {
        "id": "ueMIgCAoaDZK"
      },
      "execution_count": 9,
      "outputs": []
    },
    {
      "cell_type": "code",
      "source": [
        "from IPython.display import Image, display\n",
        "\n",
        "try:\n",
        "    display(Image(graph.get_graph(xray=True).draw_mermaid_png()))\n",
        "except Exception:\n",
        "    pass"
      ],
      "metadata": {
        "id": "HYAP2QUFaIAR",
        "outputId": "c21f6fa9-0711-4593-da36-99cc77de83f7",
        "colab": {
          "base_uri": "https://localhost:8080/",
          "height": 473
        }
      },
      "execution_count": 10,
      "outputs": [
        {
          "output_type": "display_data",
          "data": {
            "image/png": "[encoded data removed]",
            "text/plain": [
              "<IPython.core.display.Image object>"
            ]
          },
          "metadata": {}
        }
      ]
    },
    {
      "cell_type": "code",
      "execution_count": 11,
      "metadata": {
        "colab": {
          "base_uri": "https://localhost:8080/"
        },
        "id": "wflAEri34xe5",
        "outputId": "022a13b8-a446-4cad-829e-3833b5b849f4"
      },
      "outputs": [
        {
          "output_type": "stream",
          "name": "stdout",
          "text": [
            "開始對話吧（輸入 q 結束）\n",
            "使用者: 誰是第四代火影？\n",
            "相似度分數 = 0.5874661207199097；跑到 → naruto\n"
          ]
        },
        {
          "output_type": "stream",
          "name": "stderr",
          "text": [
            "/usr/local/lib/python3.11/dist-packages/bitsandbytes/nn/modules.py:451: UserWarning: Input type into Linear4bit is torch.float16, but bnb_4bit_compute_dtype=torch.float32 (default). This will lead to slow inference or training speed.\n",
            "  warnings.warn(\n"
          ]
        },
        {
          "output_type": "stream",
          "name": "stdout",
          "text": [
            "回答： 第四代火影是波風湊。\n",
            "============================================================ \n",
            "\n",
            "使用者: 第四代火影師父是誰?\n",
            "相似度分數 = 0.5676823854446411；跑到 → naruto\n",
            "回答： 第四代火影師父是自來也。\n",
            "============================================================ \n",
            "\n",
            "使用者: 第四代火影的徒弟有哪些人?\n",
            "相似度分數 = 0.5047122240066528；跑到 → naruto\n",
            "回答： 第四代火影的徒弟有旗木卡卡西、宇智波帶土、野原琳。\n",
            "============================================================ \n",
            "\n",
            "使用者: 誰發明了相對論?\n",
            "相似度分數 = 1.2753480672836304；跑到 → general\n",
            "回答： 愛因斯坦（Albert Einstein）發明了相對論。\n",
            "============================================================ \n",
            "\n",
            "使用者: q\n",
            "掰啦！\n"
          ]
        }
      ],
      "source": [
        "print(\"開始對話吧（輸入 q 結束）\")\n",
        "\n",
        "while True:\n",
        "    user_input = input(\"使用者: \")\n",
        "    if user_input.strip().lower() in [\"q\", \"quit\", \"exit\"]:\n",
        "        print(\"掰啦！\")\n",
        "        break\n",
        "\n",
        "    init_state: RAGState = {\n",
        "        \"query\": user_input,\n",
        "        \"docs\": [],\n",
        "        \"answer\": \"\"\n",
        "    }\n",
        "\n",
        "    result = graph.invoke(init_state)\n",
        "    raw_output = result[\"answer\"]\n",
        "\n",
        "    answer_text = raw_output.split(\"回答：\")[-1].strip()\n",
        "    print(\"回答：\", answer_text)\n",
        "    print(\"===\" * 20, \"\\n\")"
      ]
    },
    {
      "cell_type": "markdown",
      "metadata": {
        "id": "v8blDsDnDpbO"
      },
      "source": [
        "# advance"
      ]
    },
    {
      "cell_type": "markdown",
      "metadata": {
        "id": "ofkLZjzHENNT"
      },
      "source": [
        "改成能支援多輪問答（Multi-turn RAG），並能根據前面的query判斷問題。"
      ]
    },
    {
      "cell_type": "markdown",
      "metadata": {
        "id": "r2VXz7FxEONI"
      },
      "source": [
        "> 請將 RAGState 加入 history 欄位，並在生成回答時，將歷史對話與當前問題一起組成 prompt。"
      ]
    },
    {
      "cell_type": "markdown",
      "metadata": {
        "id": "6eSvoKFiKqP5"
      },
      "source": [
        "> Hint：\n",
        "```\n",
        "class MultiTurnRAGState(TypedDict):  \n",
        "    history: List[str]  \n",
        "    query: str  \n",
        "    docs: List[Document]  \n",
        "    answer: str\n",
        "```\n",
        "\n"
      ]
    },
    {
      "cell_type": "code",
      "execution_count": 5,
      "metadata": {
        "id": "50GrH76YP1eu"
      },
      "outputs": [],
      "source": [
        "docs_text = \"\"\"\n",
        "火影代數\t姓名\t師傅\t徒弟\n",
        "初代\t千手柱間\t無明確記載\t猿飛日斬、水戶門炎、轉寢小春\n",
        "二代\t千手扉間\t千手柱間（兄長）\t猿飛日斬、志村團藏、宇智波鏡等\n",
        "三代\t猿飛日斬\t千手柱間、千手扉間\t自來也、大蛇丸、千手綱手（傳說三忍）\n",
        "四代\t波風湊\t自來也\t旗木卡卡西、宇智波帶土、野原琳\n",
        "五代\t千手綱手\t猿飛日斬\t春野櫻、志乃等（主要為春野櫻）\n",
        "六代\t旗木卡卡西\t波風湊\t漩渦鳴人、宇智波佐助、春野櫻（第七班）\n",
        "七代\t漩渦鳴人\t自來也、旗木卡卡西\t木葉丸等（主要為木葉丸）\n",
        "\"\"\""
      ]
    },
    {
      "cell_type": "code",
      "source": [
        "docs = [Document(page_content=txt.strip()) for txt in docs_text.strip().split(\"\\n\\n\")]\n",
        "\n",
        "# chromadb 預設使用的大型語言模型為 \"all-MiniLM-L6-v2\"，由於該大型語言模型不支持中文，所以將模型替換為 \"infgrad/stella-base-zh-v3-1792d\"，並對 embedding 進行量化\n",
        "embedding_model = HuggingFaceEmbeddings(\n",
        "    model_name=\"infgrad/stella-base-zh-v3-1792d\",\n",
        "    encode_kwargs={\"normalize_embeddings\": True}\n",
        ")\n",
        "\n",
        "persist_path = \"document_store\"\n",
        "collection_name = \"naruto_collection\"\n",
        "vectorstore = Chroma.from_documents(\n",
        "    documents=docs,\n",
        "    embedding=embedding_model,\n",
        "    persist_directory=persist_path,\n",
        "    collection_name=collection_name\n",
        ")"
      ],
      "metadata": {
        "id": "KRqayYsimIhE",
        "outputId": "655cce06-af47-4dd3-e0f4-09c1d25206b5",
        "colab": {
          "base_uri": "https://localhost:8080/",
          "height": 428,
          "referenced_widgets": [
            "fc635ab52153411a9418649f085e1729",
            "ccdbe56f40bb4ce4a287aa98d240ebd2",
            "cd0d0920133d42c6a9633b966042af28",
            "669fea0118cb46dab83d8ab3d53f2bfc",
            "f9f6c4bcf4b54cf5a786b396f53418c9",
            "cf13dd7da1b243b4a716aebd6060085a",
            "b7e1029de49849f2bbafb9ddf73c9ef4",
            "b67848c93edd430cbefac5cf303f1db3",
            "5667c9c26dda4c7ba12bdb369af23215",
            "bcb3cd9b3f614e9aa036041b713b5185",
            "5045ad26d6674bc8a308429abd59c1ec",
            "40ca98ba943d42f39f7b23732eb3d82e",
            "8b6425cdec444b849851c4e96b322d0e",
            "893590f72ef5450cb672a8374c9dfca5",
            "fac6eb668fbe4763a6f569b98ddde156",
            "0cb9e6e994324f53a917a56f496e346f",
            "d5a7909df99841489f5fcf549028e659",
            "3a59a7394f7b4a03948123042423abff",
            "affc5b695e1a4ffa9257f8e1619d15fe",
            "bc25988b981d4ca7ad3837fc744985f4",
            "9dca5edffcda46518eb1e8e0119d5530",
            "f9b2a50b590c4d61af7007c07c61bcdd",
            "2ef2eb04cbf145048736127901086801",
            "7cffc6ce23ed450f8a97fd5645f1d1b4",
            "c5d08746b7fa4db3acba7f5ad9ec2d79",
            "534bb6f1759e486197d3e6b3b3285c71",
            "7493feb1e20c4401a3ceb95c77c8e433",
            "732d5c48450848d0bb4781da9c6fb448",
            "16e7ce1aee9d4f56867b0b262b257e38",
            "ba37324b7eb349e2b1c5f500aea30900",
            "97835d6211c14a228275de6a4fc0df1f",
            "4419cc86730e439f9db8abd2a749e898",
            "c7a60f275bcf45fea0c77e66331c11d4",
            "cb1d4a5dd6804459b43191abd60f17df",
            "7f179d890f6e4e86a190282c25e2fbcf",
            "0a854fbe424343c7b99ef0298c55248c",
            "ad19deaffe5a430596fa664ea8aa3153",
            "530f4af6a1cc48c781b1e92dab7574ff",
            "b9dcbf85cb8c4ee7b0e97b6d564bbbee",
            "b73004c6bc5341ecad2599bc7267e0cb",
            "337543a8344e42bd84fbcf1aeca6a3e8",
            "76cb161f6a7d46ada4ae9e36f44f60b5",
            "b18510a9b37542fe886a2e06bd8498c8",
            "7c76fc9b2d7f428492800bd75da24c2c",
            "f92f90155b744f44adc5da968cb542db",
            "ca405248322c4b9b93544e8810183772",
            "7bb7410dd05a4cc1a5ec08e187c60a98",
            "3ea38664728c4270ab2a60e08f18cc85",
            "271eff5beb4f4d80adb71d20c57997ff",
            "55487ca15ed8404db5341d32235a34b3",
            "b372080c8127445f8d3cf0bf2586c0e9",
            "a9b46fb63b374e2096d034b19e638f7e",
            "44968116fd6443b39b27e6390a5a2424",
            "c6801cb22eb1463abb267b156e3f3afc",
            "e57d9c9e820c4e7bbaf1a4e8a22ec3a5",
            "b66090a33b964ee989d7b435834fcffe",
            "60387228cec344b9b5675e5800e32f15",
            "1797641f17294bd19a767326173c8bfa",
            "8f0fc2733ed44eff8ee135106340c431",
            "1e120ffaf50f4a4d90ef8d9a0c7d3a02",
            "946d4a589d554bdf947081556e761b33",
            "c9c6b66dfe1d4051900791c3f8a4d7e7",
            "bccc70823a344ff1bbae74fb6aa766c0",
            "194d626b93454b28b6d7e7b84c708cec",
            "9636deb40a2a43759351f7ed360ce8bb",
            "ef111a32f13648ca82629cf5e27c0d48",
            "59cf8f1ec6ca4fdeadc276c554b860ea",
            "08e30b47384f498eb39ebb0dc165d019",
            "918b66c768b544cc9bfebebeecdf5abb",
            "a617194e9a304341afcf7d86e3443ae4",
            "1b99b3e7eca54d55b0bf8bbe5f743c15",
            "94d799afd7cf4c059ee11ad132d7c06e",
            "dc9caa65d3394b65b784eaba5aa254c4",
            "f91c4ca7714e48acbe675d7cb984dc57",
            "ea674b4a4c9449758838288e3521ebfa",
            "a373b468f5204da0ae31dd2e8c7aa370",
            "2ac618f38d7549f2b290ce5d27be97d9",
            "19ba748d66ab4871ac338d680f34f77e",
            "e6d5a3fdad334b819cd99e7ee3f0c69c",
            "c62350ec680b44a59391f55452a744c5",
            "24aa2b8cd8104fc0b1fd41d20a4844e1",
            "bd4b8c8103a047de958bb4cce591dff3",
            "f3dd170e2b554d3596ef9920ce38c5ed",
            "ec1fed1f734c447d93a4894dc0492a04",
            "03dee2c3e0114c0098626892d4946667",
            "b4101988f9d94311ae8c58d0f32908f5",
            "bc89870501c04d30af78f574c66c5a65",
            "590ea6ea2fb448e7b32a9b85a3ffcbdf",
            "90701562cfcf4328bed54f7b4ff49b3b",
            "fee24c49ca94479088516e87895ed6d6",
            "32a9306075b74834b4505e1209c8b15c",
            "fd7676f0662046b0843dc7f2fb879b0f",
            "45d8e4d6c0ee4652820efc77cdb55d87",
            "dd5deba54ac14d818509697d28825a03",
            "7cae45be8d48486697149c434104e8cd",
            "eb5e0108916a4d54bab3f81a02973447",
            "77c8fccfd164479eac0b6b1cfeb98639",
            "299e984cb3174391841493bb5ec38d5b",
            "6b598d43202046b18438d09ba53059fd",
            "e6c3a9e3442f432dab010389de7e9f18",
            "931540af17eb496298e50b3f01ea5415",
            "031ac3cdc2334849a1913f1d6d39fa33",
            "50ee2d2299e64113953e112937b9e305",
            "3ab1efd047224e938c6d080bc00457ab",
            "31aee9e2fab6499b81ffdee44c2934e2",
            "3f19a3f7af5240ccaa51dc783522dfd9",
            "659fea6240114c1a89d69681123a5e63",
            "18f102f9c8fe4a9db9b44d7eff620f2d",
            "1209a56ffc414ccd9cc7256002b855d9",
            "0ee6a808861248b6903f0a15d36e7989"
          ]
        }
      },
      "execution_count": 6,
      "outputs": [
        {
          "output_type": "stream",
          "name": "stderr",
          "text": [
            "<ipython-input-6-553ff329c896>:4: LangChainDeprecationWarning: The class `HuggingFaceEmbeddings` was deprecated in LangChain 0.2.2 and will be removed in 1.0. An updated version of the class exists in the :class:`~langchain-huggingface package and should be used instead. To use it run `pip install -U :class:`~langchain-huggingface` and import as `from :class:`~langchain_huggingface import HuggingFaceEmbeddings``.\n",
            "  embedding_model = HuggingFaceEmbeddings(\n"
          ]
        },
        {
          "output_type": "display_data",
          "data": {
            "text/plain": [
              "modules.json:   0%|          | 0.00/311 [00:00<?, ?B/s]"
            ],
            "application/vnd.jupyter.widget-view+json": {
              "version_major": 2,
              "version_minor": 0,
              "model_id": "fc635ab52153411a9418649f085e1729"
            }
          },
          "metadata": {}
        },
        {
          "output_type": "display_data",
          "data": {
            "text/plain": [
              "README.md:   0%|          | 0.00/32.1k [00:00<?, ?B/s]"
            ],
            "application/vnd.jupyter.widget-view+json": {
              "version_major": 2,
              "version_minor": 0,
              "model_id": "40ca98ba943d42f39f7b23732eb3d82e"
            }
          },
          "metadata": {}
        },
        {
          "output_type": "display_data",
          "data": {
            "text/plain": [
              "sentence_bert_config.json:   0%|          | 0.00/51.0 [00:00<?, ?B/s]"
            ],
            "application/vnd.jupyter.widget-view+json": {
              "version_major": 2,
              "version_minor": 0,
              "model_id": "2ef2eb04cbf145048736127901086801"
            }
          },
          "metadata": {}
        },
        {
          "output_type": "display_data",
          "data": {
            "text/plain": [
              "config.json:   0%|          | 0.00/533 [00:00<?, ?B/s]"
            ],
            "application/vnd.jupyter.widget-view+json": {
              "version_major": 2,
              "version_minor": 0,
              "model_id": "cb1d4a5dd6804459b43191abd60f17df"
            }
          },
          "metadata": {}
        },
        {
          "output_type": "display_data",
          "data": {
            "text/plain": [
              "pytorch_model.bin:   0%|          | 0.00/408M [00:00<?, ?B/s]"
            ],
            "application/vnd.jupyter.widget-view+json": {
              "version_major": 2,
              "version_minor": 0,
              "model_id": "f92f90155b744f44adc5da968cb542db"
            }
          },
          "metadata": {}
        },
        {
          "output_type": "stream",
          "name": "stderr",
          "text": [
            "Some weights of BertModel were not initialized from the model checkpoint at infgrad/stella-base-zh-v3-1792d and are newly initialized: ['pooler.dense.bias', 'pooler.dense.weight']\n",
            "You should probably TRAIN this model on a down-stream task to be able to use it for predictions and inference.\n"
          ]
        },
        {
          "output_type": "display_data",
          "data": {
            "text/plain": [
              "model.safetensors:   0%|          | 0.00/408M [00:00<?, ?B/s]"
            ],
            "application/vnd.jupyter.widget-view+json": {
              "version_major": 2,
              "version_minor": 0,
              "model_id": "b66090a33b964ee989d7b435834fcffe"
            }
          },
          "metadata": {}
        },
        {
          "output_type": "display_data",
          "data": {
            "text/plain": [
              "vocab.txt:   0%|          | 0.00/110k [00:00<?, ?B/s]"
            ],
            "application/vnd.jupyter.widget-view+json": {
              "version_major": 2,
              "version_minor": 0,
              "model_id": "59cf8f1ec6ca4fdeadc276c554b860ea"
            }
          },
          "metadata": {}
        },
        {
          "output_type": "display_data",
          "data": {
            "text/plain": [
              "config.json:   0%|          | 0.00/185 [00:00<?, ?B/s]"
            ],
            "application/vnd.jupyter.widget-view+json": {
              "version_major": 2,
              "version_minor": 0,
              "model_id": "19ba748d66ab4871ac338d680f34f77e"
            }
          },
          "metadata": {}
        },
        {
          "output_type": "display_data",
          "data": {
            "text/plain": [
              "config.json:   0%|          | 0.00/121 [00:00<?, ?B/s]"
            ],
            "application/vnd.jupyter.widget-view+json": {
              "version_major": 2,
              "version_minor": 0,
              "model_id": "90701562cfcf4328bed54f7b4ff49b3b"
            }
          },
          "metadata": {}
        },
        {
          "output_type": "display_data",
          "data": {
            "text/plain": [
              "pytorch_model.bin:   0%|          | 0.00/5.51M [00:00<?, ?B/s]"
            ],
            "application/vnd.jupyter.widget-view+json": {
              "version_major": 2,
              "version_minor": 0,
              "model_id": "e6c3a9e3442f432dab010389de7e9f18"
            }
          },
          "metadata": {}
        }
      ]
    },
    {
      "cell_type": "code",
      "execution_count": 7,
      "metadata": {
        "id": "A4QWyJxhP5Ir"
      },
      "outputs": [],
      "source": [
        "from typing_extensions import TypedDict, List\n",
        "\n",
        "# 定義 LangGraph 的 State 結構\n",
        "class MultiTurnRAGState(TypedDict):\n",
        "    history: List[str]\n",
        "    query: str\n",
        "    docs: List[Document]\n",
        "    answer: str"
      ]
    },
    {
      "cell_type": "code",
      "source": [
        "def retrieve_node(state: MultiTurnRAGState) -> MultiTurnRAGState:\n",
        "    history, query = state[\"history\"], state[\"query\"]\n",
        "    docs = vectorstore.similarity_search(query, k=3)\n",
        "    return {\"history\": history, \"query\": query, \"docs\": docs, \"answer\": \"\"}\n",
        "\n",
        "def generate_node(state: MultiTurnRAGState) -> MultiTurnRAGState:\n",
        "    history, query, docs = state[\"history\"], state[\"query\"], state[\"docs\"]\n",
        "    history_text = \"\\n\".join([f\"Q: {q}\" for q in history])\n",
        "    context = \"\\n\".join([d.page_content for d in docs])\n",
        "    prompt = (\n",
        "        f\"你是一個知識型助手，請根據以下內容與對話歷史，只針對使用者的最新問題進行簡潔作答。\\n\\n\"\n",
        "        f\"不要重複歷史對話的內容，也不要回顧之前的問題。只回答使用者這次問的問題。\\n\\n\"\n",
        "        \"請使用完整句子回答，並避免多餘贅述。\\n\\n\"\n",
        "        f\"內容：{context}\\n\\n\"\n",
        "        f\"對話歷史：{history_text}\\n\\n\"\n",
        "        f\"使用者最新的提問：{query}\\n\\n\"\n",
        "        f\"回答：\"\n",
        "    )\n",
        "    output = generator(prompt, max_new_tokens=200)[0][\"generated_text\"]\n",
        "    # 更新歷史\n",
        "    new_history = history + [query]\n",
        "    return {\"history\": new_history, \"query\": query, \"docs\": docs, \"answer\": output}\n",
        "\n",
        "def direct_generate_node(state: MultiTurnRAGState) -> MultiTurnRAGState:\n",
        "    history, query = state[\"history\"], state[\"query\"]\n",
        "    history_text = \"\\n\".join([f\"Q: {q}\" for q in history])\n",
        "    prompt = (\n",
        "        f\"以下是與使用者的對話紀錄：\\n{history_text}\\n\\n\"\n",
        "        f\"使用者的最新問題是：{query}\\n\\n請回答：\"\n",
        "    )\n",
        "    output = generator(prompt, max_new_tokens=200)[0][\"generated_text\"]\n",
        "    new_history = history + [query]\n",
        "    return {\"history\": new_history, \"query\": query, \"docs\": [], \"answer\": output}\n",
        "\n",
        "def route_by_query(state: MultiTurnRAGState) -> str:\n",
        "    history, query = state[\"history\"], state[\"query\"]\n",
        "\n",
        "    history_text = \"\\n\".join(history + [query])\n",
        "    top_doc, score = Chroma.from_documents(docs, embedding_model).similarity_search_with_score(query, k=3)[0]\n",
        "    threshold = 1.0\n",
        "    use_rag = score <= threshold\n",
        "    choice = \"naruto\" if use_rag else \"general\"\n",
        "    if use_rag:\n",
        "        print(f\"route: score = {score}；\\n跑到 → {choice}; \\nretrieve combined query: {repr(history_text)}\")\n",
        "    else:\n",
        "        print(f\"route: score = {score}；\\n跑到 → {choice}\")\n",
        "    return choice"
      ],
      "metadata": {
        "id": "AkrdTiSYjE9p"
      },
      "execution_count": 8,
      "outputs": []
    },
    {
      "cell_type": "code",
      "source": [
        "from langchain_core.runnables import RunnableLambda\n",
        "from langgraph.graph import StateGraph, END\n",
        "\n",
        "# 建立 LangGraph 流程圖\n",
        "graph_builder = StateGraph(MultiTurnRAGState)\n",
        "\n",
        "graph_builder.set_entry_point(\"condition\")\n",
        "graph_builder.add_node(\"condition\", RunnableLambda(lambda x: x))  # 進來就分流，不改變內容\n",
        "graph_builder.add_node(\"retriever\", RunnableLambda(retrieve_node))\n",
        "graph_builder.add_node(\"generator\", RunnableLambda(generate_node))\n",
        "graph_builder.add_node(\"direct_generator\", RunnableLambda(direct_generate_node))\n",
        "\n",
        "# 設定條件分流\n",
        "graph_builder.add_conditional_edges(\n",
        "    source=\"condition\",\n",
        "    path=RunnableLambda(route_by_query),\n",
        "    path_map={\n",
        "        \"naruto\": \"retriever\",\n",
        "        \"general\": \"direct_generator\",\n",
        "    }\n",
        ")\n",
        "\n",
        "# 接下來的正常連接\n",
        "graph_builder.add_edge(\"retriever\", \"generator\")\n",
        "graph_builder.add_edge(\"generator\", END)\n",
        "graph_builder.add_edge(\"direct_generator\", END)\n",
        "\n",
        "# 編譯 Graph\n",
        "graph = graph_builder.compile()"
      ],
      "metadata": {
        "id": "9w-xtQD3lrLU"
      },
      "execution_count": 9,
      "outputs": []
    },
    {
      "cell_type": "code",
      "source": [
        "from IPython.display import Image, display\n",
        "\n",
        "try:\n",
        "    display(Image(graph.get_graph(xray=True).draw_mermaid_png()))\n",
        "except Exception:\n",
        "    pass"
      ],
      "metadata": {
        "id": "L6D1QuFPl1i1",
        "outputId": "33d0e066-0ae7-4fc4-a01b-4ae517334600",
        "colab": {
          "base_uri": "https://localhost:8080/",
          "height": 473
        }
      },
      "execution_count": 10,
      "outputs": [
        {
          "output_type": "display_data",
          "data": {
            "image/png": "[encoded data removed]",
            "text/plain": [
              "<IPython.core.display.Image object>"
            ]
          },
          "metadata": {}
        }
      ]
    },
    {
      "cell_type": "code",
      "execution_count": 11,
      "metadata": {
        "colab": {
          "base_uri": "https://localhost:8080/"
        },
        "id": "b-Jrna_evTCC",
        "outputId": "69ebe8ca-cf59-4bd3-8653-6639ef5dd4d9"
      },
      "outputs": [
        {
          "output_type": "stream",
          "name": "stdout",
          "text": [
            "開始對話吧（輸入 q 結束）\n",
            "使用者: 第四代火影是誰?\n",
            "route: score = 0.6176580786705017；\n",
            "跑到 → naruto; \n",
            "retrieve combined query: '第四代火影是誰?'\n"
          ]
        },
        {
          "output_type": "stream",
          "name": "stderr",
          "text": [
            "/usr/local/lib/python3.11/dist-packages/bitsandbytes/nn/modules.py:451: UserWarning: Input type into Linear4bit is torch.float16, but bnb_4bit_compute_dtype=torch.float32 (default). This will lead to slow inference or training speed.\n",
            "  warnings.warn(\n"
          ]
        },
        {
          "output_type": "stream",
          "name": "stdout",
          "text": [
            "AI 助理: 第四代火影是波風湊。\n",
            "==================================================================================================================================================================================== \n",
            "\n",
            "使用者: 他的師父是誰?\n",
            "route: score = 0.9455715417861938；\n",
            "跑到 → naruto; \n",
            "retrieve combined query: '第四代火影是誰?\\n他的師父是誰?'\n",
            "AI 助理: 第四代火影的師父是自來也。\n",
            "==================================================================================================================================================================================== \n",
            "\n",
            "使用者: 他的徒弟有哪些人?\n",
            "route: score = 0.8316528797149658；\n",
            "跑到 → naruto; \n",
            "retrieve combined query: '第四代火影是誰?\\n他的師父是誰?\\n他的徒弟有哪些人?'\n",
            "AI 助理: 第四代火影的徒弟們有旗木卡卡西、宇智波帶土、野原琳。\n",
            "==================================================================================================================================================================================== \n",
            "\n",
            "使用者: 相對論是他發明的嗎?\n",
            "route: score = 1.3328245878219604；\n",
            "跑到 → general\n",
            "AI 助理: 相對論是愛因斯坦在1905年提出的，他提出的理論是廣義相對論，而廣義相對論的前身是狹義相對論，由海森堡在1905年提出。愛因斯坦在1915年進一步提出廣義相對論，是目前我們所熟知的廣義相對論。\n",
            "==================================================================================================================================================================================== \n",
            "\n",
            "使用者: q\n",
            "掰啦！\n"
          ]
        }
      ],
      "source": [
        "global_history: List[str] = []\n",
        "\n",
        "print(\"開始對話吧（輸入 q 結束）\")\n",
        "while True:\n",
        "    user_input = input(\"使用者: \")\n",
        "    if user_input.strip().lower() in [\"q\", \"quit\", \"exit\"]:\n",
        "        print(\"掰啦！\")\n",
        "        break\n",
        "\n",
        "    state = {\"history\": global_history, \"query\": user_input}\n",
        "    result = graph.invoke(state)\n",
        "\n",
        "    answer = result[\"answer\"].split(\"回答：\")[-1].strip()\n",
        "    print(\"AI 助理:\", answer)\n",
        "    print(\"===\" * 60, \"\\n\")\n",
        "\n",
        "    global_history = result[\"history\"]"
      ]
    }
  ],
  "metadata": {
    "colab": {
      "provenance": [],
      "gpuType": "T4"
    },
    "kernelspec": {
      "display_name": "Python 3",
      "name": "python3"
    },
    "language_info": {
      "name": "python"
    },
    "accelerator": "GPU"
  },
  "nbformat": 4,
  "nbformat_minor": 0
}
